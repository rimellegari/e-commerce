{
 "cells": [
  {
   "cell_type": "markdown",
   "metadata": {},
   "source": [
    "# Olist dataset - e-commerce"
   ]
  },
  {
   "cell_type": "markdown",
   "metadata": {},
   "source": [
    "### Importando bibliotecas\n",
    "#### *Importing libraries*"
   ]
  },
  {
   "cell_type": "code",
   "execution_count": 2,
   "metadata": {},
   "outputs": [],
   "source": [
    "import numpy as np\n",
    "import pandas as pd\n",
    "import seaborn as sns\n",
    "import matplotlib.pyplot as plt\n",
    "import scipy\n",
    "import sklearn\n",
    "import datetime as dt\n",
    "plt.style.use('ggplot')\n",
    "\n",
    "df_olist=pd.read_csv('./datasets/olist_public_dataset_v2.csv')\n",
    "df_olist_pay=pd.read_csv('./datasets/olist_public_dataset_v2_payments.csv')\n",
    "\n"
   ]
  },
  {
   "cell_type": "markdown",
   "metadata": {},
   "source": [
    "###  1. Combinando datasets e corrigindo títulos de colunas\n",
    "#### 1. *Combining datasets and correcting columns titles*"
   ]
  },
  {
   "cell_type": "code",
   "execution_count": 3,
   "metadata": {},
   "outputs": [
    {
     "name": "stdout",
     "output_type": "stream",
     "text": [
      "<class 'pandas.core.frame.DataFrame'>\n",
      "RangeIndex: 100000 entries, 0 to 99999\n",
      "Data columns (total 25 columns):\n",
      " #   Column                         Non-Null Count   Dtype  \n",
      "---  ------                         --------------   -----  \n",
      " 0   order_id                       100000 non-null  object \n",
      " 1   order_status                   100000 non-null  object \n",
      " 2   order_products_value           100000 non-null  float64\n",
      " 3   order_freight_value            100000 non-null  float64\n",
      " 4   order_items_qty                100000 non-null  int64  \n",
      " 5   order_sellers_qty              100000 non-null  int64  \n",
      " 6   order_purchase_timestamp       100000 non-null  object \n",
      " 7   order_aproved_at               99982 non-null   object \n",
      " 8   order_estimated_delivery_date  100000 non-null  object \n",
      " 9   order_delivered_customer_date  97595 non-null   object \n",
      " 10  customer_id                    100000 non-null  object \n",
      " 11  customer_city                  100000 non-null  object \n",
      " 12  customer_state                 100000 non-null  object \n",
      " 13  customer_zip_code_prefix       100000 non-null  int64  \n",
      " 14  product_category_name          100000 non-null  object \n",
      " 15  product_name_lenght            100000 non-null  int64  \n",
      " 16  product_description_lenght     100000 non-null  int64  \n",
      " 17  product_photos_qty             100000 non-null  int64  \n",
      " 18  product_id                     100000 non-null  object \n",
      " 19  review_id                      100000 non-null  object \n",
      " 20  review_score                   100000 non-null  int64  \n",
      " 21  review_comment_title           8262 non-null    object \n",
      " 22  review_comment_message         42489 non-null   object \n",
      " 23  review_creation_date           100000 non-null  object \n",
      " 24  review_answer_timestamp        100000 non-null  object \n",
      "dtypes: float64(2), int64(7), object(16)\n",
      "memory usage: 19.1+ MB\n"
     ]
    }
   ],
   "source": [
    "df_olist.info()"
   ]
  },
  {
   "cell_type": "code",
   "execution_count": 4,
   "metadata": {},
   "outputs": [
    {
     "data": {
      "text/plain": [
       "Index(['order_id', 'order_status', 'order_products_value',\n",
       "       'order_freight_value', 'order_items_qty', 'order_sellers_qty',\n",
       "       'order_purchase_timestamp', 'order_aproved_at',\n",
       "       'order_estimated_delivery_date', 'order_delivered_customer_date',\n",
       "       'customer_id', 'customer_city', 'customer_state',\n",
       "       'customer_zip_code_prefix', 'product_category_name',\n",
       "       'product_name_lenght', 'product_description_lenght',\n",
       "       'product_photos_qty', 'product_id', 'review_id', 'review_score',\n",
       "       'review_comment_title', 'review_comment_message',\n",
       "       'review_creation_date', 'review_answer_timestamp'],\n",
       "      dtype='object')"
      ]
     },
     "execution_count": 4,
     "metadata": {},
     "output_type": "execute_result"
    }
   ],
   "source": [
    "df_olist.columns"
   ]
  },
  {
   "cell_type": "code",
   "execution_count": 5,
   "metadata": {},
   "outputs": [],
   "source": [
    "df_olist['order_purchase_timestamp'] = pd.to_datetime(df_olist['order_purchase_timestamp'])\n",
    "df_olist['order_aproved_at'] = pd.to_datetime(df_olist['order_aproved_at'])\n",
    "df_olist['order_estimated_delivery_date'] = pd.to_datetime(df_olist['order_estimated_delivery_date'])\n",
    "df_olist['order_delivered_customer_date'] = pd.to_datetime(df_olist['order_delivered_customer_date'])\n",
    "df_olist['review_creation_date'] = pd.to_datetime(df_olist['review_creation_date'])\n",
    "\n",
    "df_olist['review_answer_timestamp'] = pd.to_datetime(df_olist['review_answer_timestamp'])\n"
   ]
  },
  {
   "cell_type": "code",
   "execution_count": 6,
   "metadata": {},
   "outputs": [],
   "source": [
    "df_olist.rename(columns= {'order_aproved_at': 'order_approved_at','product_name_lenght': 'product_name_length', 'product_description_lenght':'product_description_length'}, inplace = True)"
   ]
  },
  {
   "cell_type": "code",
   "execution_count": 7,
   "metadata": {},
   "outputs": [
    {
     "data": {
      "text/plain": [
       "Index(['order_id', 'order_status', 'order_products_value',\n",
       "       'order_freight_value', 'order_items_qty', 'order_sellers_qty',\n",
       "       'order_purchase_timestamp', 'order_approved_at',\n",
       "       'order_estimated_delivery_date', 'order_delivered_customer_date',\n",
       "       'customer_id', 'customer_city', 'customer_state',\n",
       "       'customer_zip_code_prefix', 'product_category_name',\n",
       "       'product_name_length', 'product_description_length',\n",
       "       'product_photos_qty', 'product_id', 'review_id', 'review_score',\n",
       "       'review_comment_title', 'review_comment_message',\n",
       "       'review_creation_date', 'review_answer_timestamp'],\n",
       "      dtype='object')"
      ]
     },
     "execution_count": 7,
     "metadata": {},
     "output_type": "execute_result"
    }
   ],
   "source": [
    "df_olist.columns"
   ]
  },
  {
   "cell_type": "code",
   "execution_count": 8,
   "metadata": {},
   "outputs": [
    {
     "name": "stdout",
     "output_type": "stream",
     "text": [
      "<class 'pandas.core.frame.DataFrame'>\n",
      "RangeIndex: 100000 entries, 0 to 99999\n",
      "Data columns (total 25 columns):\n",
      " #   Column                         Non-Null Count   Dtype              \n",
      "---  ------                         --------------   -----              \n",
      " 0   order_id                       100000 non-null  object             \n",
      " 1   order_status                   100000 non-null  object             \n",
      " 2   order_products_value           100000 non-null  float64            \n",
      " 3   order_freight_value            100000 non-null  float64            \n",
      " 4   order_items_qty                100000 non-null  int64              \n",
      " 5   order_sellers_qty              100000 non-null  int64              \n",
      " 6   order_purchase_timestamp       100000 non-null  datetime64[ns]     \n",
      " 7   order_approved_at              99982 non-null   datetime64[ns]     \n",
      " 8   order_estimated_delivery_date  100000 non-null  datetime64[ns]     \n",
      " 9   order_delivered_customer_date  97595 non-null   datetime64[ns]     \n",
      " 10  customer_id                    100000 non-null  object             \n",
      " 11  customer_city                  100000 non-null  object             \n",
      " 12  customer_state                 100000 non-null  object             \n",
      " 13  customer_zip_code_prefix       100000 non-null  int64              \n",
      " 14  product_category_name          100000 non-null  object             \n",
      " 15  product_name_length            100000 non-null  int64              \n",
      " 16  product_description_length     100000 non-null  int64              \n",
      " 17  product_photos_qty             100000 non-null  int64              \n",
      " 18  product_id                     100000 non-null  object             \n",
      " 19  review_id                      100000 non-null  object             \n",
      " 20  review_score                   100000 non-null  int64              \n",
      " 21  review_comment_title           8262 non-null    object             \n",
      " 22  review_comment_message         42489 non-null   object             \n",
      " 23  review_creation_date           100000 non-null  datetime64[ns]     \n",
      " 24  review_answer_timestamp        100000 non-null  datetime64[ns, UTC]\n",
      "dtypes: datetime64[ns, UTC](1), datetime64[ns](5), float64(2), int64(7), object(10)\n",
      "memory usage: 19.1+ MB\n"
     ]
    }
   ],
   "source": [
    "df_olist.info()"
   ]
  },
  {
   "cell_type": "code",
   "execution_count": 9,
   "metadata": {},
   "outputs": [
    {
     "name": "stdout",
     "output_type": "stream",
     "text": [
      "<class 'pandas.core.frame.DataFrame'>\n",
      "RangeIndex: 104848 entries, 0 to 104847\n",
      "Data columns (total 5 columns):\n",
      " #   Column        Non-Null Count   Dtype  \n",
      "---  ------        --------------   -----  \n",
      " 0   order_id      104848 non-null  object \n",
      " 1   installments  104848 non-null  int64  \n",
      " 2   sequential    104848 non-null  int64  \n",
      " 3   payment_type  104848 non-null  object \n",
      " 4   value         104848 non-null  float64\n",
      "dtypes: float64(1), int64(2), object(2)\n",
      "memory usage: 4.0+ MB\n"
     ]
    }
   ],
   "source": [
    "df_olist_pay.info()"
   ]
  },
  {
   "cell_type": "code",
   "execution_count": 10,
   "metadata": {},
   "outputs": [],
   "source": [
    "dict_order_installements= dict(zip(df_olist_pay['order_id'],df_olist_pay['installments']))\n"
   ]
  },
  {
   "cell_type": "code",
   "execution_count": 11,
   "metadata": {},
   "outputs": [],
   "source": [
    "dict_order_payment_type= dict(zip(df_olist_pay['order_id'],df_olist_pay['payment_type']))\n"
   ]
  },
  {
   "cell_type": "code",
   "execution_count": 12,
   "metadata": {},
   "outputs": [
    {
     "data": {
      "text/plain": [
       "Index(['order_id', 'order_status', 'order_products_value',\n",
       "       'order_freight_value', 'order_items_qty', 'order_sellers_qty',\n",
       "       'order_purchase_timestamp', 'order_approved_at',\n",
       "       'order_estimated_delivery_date', 'order_delivered_customer_date',\n",
       "       'customer_id', 'customer_city', 'customer_state',\n",
       "       'customer_zip_code_prefix', 'product_category_name',\n",
       "       'product_name_length', 'product_description_length',\n",
       "       'product_photos_qty', 'product_id', 'review_id', 'review_score',\n",
       "       'review_comment_title', 'review_comment_message',\n",
       "       'review_creation_date', 'review_answer_timestamp', 'installments',\n",
       "       'payment_type'],\n",
       "      dtype='object')"
      ]
     },
     "execution_count": 12,
     "metadata": {},
     "output_type": "execute_result"
    }
   ],
   "source": [
    "df_olist['installments'] = df_olist['order_id'].map(dict_order_installements)\n",
    "df_olist['payment_type'] = df_olist['order_id'].map(dict_order_payment_type)\n",
    "df_olist.columns\n"
   ]
  },
  {
   "cell_type": "code",
   "execution_count": 13,
   "metadata": {},
   "outputs": [
    {
     "name": "stdout",
     "output_type": "stream",
     "text": [
      "<class 'pandas.core.frame.DataFrame'>\n",
      "RangeIndex: 100000 entries, 0 to 99999\n",
      "Data columns (total 27 columns):\n",
      " #   Column                         Non-Null Count   Dtype              \n",
      "---  ------                         --------------   -----              \n",
      " 0   order_id                       100000 non-null  object             \n",
      " 1   order_status                   100000 non-null  object             \n",
      " 2   order_products_value           100000 non-null  float64            \n",
      " 3   order_freight_value            100000 non-null  float64            \n",
      " 4   order_items_qty                100000 non-null  int64              \n",
      " 5   order_sellers_qty              100000 non-null  int64              \n",
      " 6   order_purchase_timestamp       100000 non-null  datetime64[ns]     \n",
      " 7   order_approved_at              99982 non-null   datetime64[ns]     \n",
      " 8   order_estimated_delivery_date  100000 non-null  datetime64[ns]     \n",
      " 9   order_delivered_customer_date  97595 non-null   datetime64[ns]     \n",
      " 10  customer_id                    100000 non-null  object             \n",
      " 11  customer_city                  100000 non-null  object             \n",
      " 12  customer_state                 100000 non-null  object             \n",
      " 13  customer_zip_code_prefix       100000 non-null  int64              \n",
      " 14  product_category_name          100000 non-null  object             \n",
      " 15  product_name_length            100000 non-null  int64              \n",
      " 16  product_description_length     100000 non-null  int64              \n",
      " 17  product_photos_qty             100000 non-null  int64              \n",
      " 18  product_id                     100000 non-null  object             \n",
      " 19  review_id                      100000 non-null  object             \n",
      " 20  review_score                   100000 non-null  int64              \n",
      " 21  review_comment_title           8262 non-null    object             \n",
      " 22  review_comment_message         42489 non-null   object             \n",
      " 23  review_creation_date           100000 non-null  datetime64[ns]     \n",
      " 24  review_answer_timestamp        100000 non-null  datetime64[ns, UTC]\n",
      " 25  installments                   99998 non-null   float64            \n",
      " 26  payment_type                   99998 non-null   object             \n",
      "dtypes: datetime64[ns, UTC](1), datetime64[ns](5), float64(3), int64(7), object(11)\n",
      "memory usage: 20.6+ MB\n"
     ]
    }
   ],
   "source": [
    "df_olist.info()"
   ]
  },
  {
   "cell_type": "code",
   "execution_count": 14,
   "metadata": {},
   "outputs": [],
   "source": [
    "df_olist['order_total_value'] = df_olist['order_products_value'].add(df_olist['order_freight_value'])\n",
    "\n"
   ]
  },
  {
   "cell_type": "code",
   "execution_count": 15,
   "metadata": {},
   "outputs": [
    {
     "data": {
      "text/html": [
       "<div>\n",
       "<style scoped>\n",
       "    .dataframe tbody tr th:only-of-type {\n",
       "        vertical-align: middle;\n",
       "    }\n",
       "\n",
       "    .dataframe tbody tr th {\n",
       "        vertical-align: top;\n",
       "    }\n",
       "\n",
       "    .dataframe thead th {\n",
       "        text-align: right;\n",
       "    }\n",
       "</style>\n",
       "<table border=\"1\" class=\"dataframe\">\n",
       "  <thead>\n",
       "    <tr style=\"text-align: right;\">\n",
       "      <th></th>\n",
       "      <th>order_id</th>\n",
       "      <th>order_status</th>\n",
       "      <th>order_products_value</th>\n",
       "      <th>order_freight_value</th>\n",
       "      <th>order_items_qty</th>\n",
       "      <th>order_sellers_qty</th>\n",
       "      <th>order_purchase_timestamp</th>\n",
       "      <th>order_approved_at</th>\n",
       "      <th>order_estimated_delivery_date</th>\n",
       "      <th>order_delivered_customer_date</th>\n",
       "      <th>...</th>\n",
       "      <th>review_comment_title</th>\n",
       "      <th>review_comment_message</th>\n",
       "      <th>review_creation_date</th>\n",
       "      <th>review_answer_timestamp</th>\n",
       "      <th>installments</th>\n",
       "      <th>payment_type</th>\n",
       "      <th>order_total_value</th>\n",
       "      <th>time_buy_arrive</th>\n",
       "      <th>time_expected_arrive</th>\n",
       "      <th>diff_real_est_arrival</th>\n",
       "    </tr>\n",
       "  </thead>\n",
       "  <tbody>\n",
       "    <tr>\n",
       "      <th>0</th>\n",
       "      <td>b95df3cef5297e79ef709ba256518f6f</td>\n",
       "      <td>delivered</td>\n",
       "      <td>349.90</td>\n",
       "      <td>13.84</td>\n",
       "      <td>1</td>\n",
       "      <td>1</td>\n",
       "      <td>2017-01-31 17:19:01</td>\n",
       "      <td>2017-02-01 02:41:21.549551</td>\n",
       "      <td>2017-03-15</td>\n",
       "      <td>2017-02-06 11:04:24.154259</td>\n",
       "      <td>...</td>\n",
       "      <td>NaN</td>\n",
       "      <td>NaN</td>\n",
       "      <td>2017-02-07</td>\n",
       "      <td>2017-02-09 02:37:37+00:00</td>\n",
       "      <td>1.0</td>\n",
       "      <td>boleto</td>\n",
       "      <td>363.74</td>\n",
       "      <td>5.0</td>\n",
       "      <td>41.0</td>\n",
       "      <td>-36.0</td>\n",
       "    </tr>\n",
       "    <tr>\n",
       "      <th>1</th>\n",
       "      <td>59af46052a799e80e2f0c665c587731d</td>\n",
       "      <td>delivered</td>\n",
       "      <td>15.00</td>\n",
       "      <td>15.10</td>\n",
       "      <td>1</td>\n",
       "      <td>1</td>\n",
       "      <td>2017-09-09 19:52:54</td>\n",
       "      <td>2017-09-10 20:03:31.535281</td>\n",
       "      <td>2017-10-02</td>\n",
       "      <td>2017-09-13 20:17:41.296915</td>\n",
       "      <td>...</td>\n",
       "      <td>NaN</td>\n",
       "      <td>entrega em 2 dias produto c boa qualidade otim...</td>\n",
       "      <td>2017-09-14</td>\n",
       "      <td>2017-09-15 03:43:47+00:00</td>\n",
       "      <td>1.0</td>\n",
       "      <td>credit_card</td>\n",
       "      <td>30.10</td>\n",
       "      <td>3.0</td>\n",
       "      <td>21.0</td>\n",
       "      <td>-18.0</td>\n",
       "    </tr>\n",
       "    <tr>\n",
       "      <th>2</th>\n",
       "      <td>a3e6136894621db402a772c6bc72a12a</td>\n",
       "      <td>delivered</td>\n",
       "      <td>238.90</td>\n",
       "      <td>18.00</td>\n",
       "      <td>1</td>\n",
       "      <td>1</td>\n",
       "      <td>2017-01-30 17:00:09</td>\n",
       "      <td>2017-01-30 17:31:25.438253</td>\n",
       "      <td>2017-03-07</td>\n",
       "      <td>2017-02-06 15:43:04.758566</td>\n",
       "      <td>...</td>\n",
       "      <td>NaN</td>\n",
       "      <td>produto veio antes do prazo informado muito ob...</td>\n",
       "      <td>2017-02-07</td>\n",
       "      <td>2017-02-10 14:18:53+00:00</td>\n",
       "      <td>10.0</td>\n",
       "      <td>credit_card</td>\n",
       "      <td>256.90</td>\n",
       "      <td>6.0</td>\n",
       "      <td>35.0</td>\n",
       "      <td>-29.0</td>\n",
       "    </tr>\n",
       "    <tr>\n",
       "      <th>3</th>\n",
       "      <td>b675ea5a618922f6e679e30531b8957b</td>\n",
       "      <td>delivered</td>\n",
       "      <td>29.99</td>\n",
       "      <td>18.23</td>\n",
       "      <td>1</td>\n",
       "      <td>1</td>\n",
       "      <td>2018-03-11 18:18:36</td>\n",
       "      <td>2018-03-11 18:30:37.931962</td>\n",
       "      <td>2018-04-03</td>\n",
       "      <td>2018-04-03 20:36:43.778451</td>\n",
       "      <td>...</td>\n",
       "      <td>NaN</td>\n",
       "      <td>NaN</td>\n",
       "      <td>2018-04-04</td>\n",
       "      <td>2018-04-05 02:52:31+00:00</td>\n",
       "      <td>4.0</td>\n",
       "      <td>credit_card</td>\n",
       "      <td>48.22</td>\n",
       "      <td>23.0</td>\n",
       "      <td>22.0</td>\n",
       "      <td>1.0</td>\n",
       "    </tr>\n",
       "    <tr>\n",
       "      <th>4</th>\n",
       "      <td>195a8be6794c487fe6cfbb97b7c61902</td>\n",
       "      <td>delivered</td>\n",
       "      <td>295.99</td>\n",
       "      <td>47.65</td>\n",
       "      <td>1</td>\n",
       "      <td>1</td>\n",
       "      <td>2017-04-20 08:01:08</td>\n",
       "      <td>2017-04-25 08:05:40.405383</td>\n",
       "      <td>2017-05-24</td>\n",
       "      <td>2017-05-04 18:47:45.721758</td>\n",
       "      <td>...</td>\n",
       "      <td>NaN</td>\n",
       "      <td>NaN</td>\n",
       "      <td>2017-05-05</td>\n",
       "      <td>2017-05-08 15:20:18+00:00</td>\n",
       "      <td>1.0</td>\n",
       "      <td>boleto</td>\n",
       "      <td>343.64</td>\n",
       "      <td>9.0</td>\n",
       "      <td>28.0</td>\n",
       "      <td>-19.0</td>\n",
       "    </tr>\n",
       "    <tr>\n",
       "      <th>...</th>\n",
       "      <td>...</td>\n",
       "      <td>...</td>\n",
       "      <td>...</td>\n",
       "      <td>...</td>\n",
       "      <td>...</td>\n",
       "      <td>...</td>\n",
       "      <td>...</td>\n",
       "      <td>...</td>\n",
       "      <td>...</td>\n",
       "      <td>...</td>\n",
       "      <td>...</td>\n",
       "      <td>...</td>\n",
       "      <td>...</td>\n",
       "      <td>...</td>\n",
       "      <td>...</td>\n",
       "      <td>...</td>\n",
       "      <td>...</td>\n",
       "      <td>...</td>\n",
       "      <td>...</td>\n",
       "      <td>...</td>\n",
       "      <td>...</td>\n",
       "    </tr>\n",
       "    <tr>\n",
       "      <th>99995</th>\n",
       "      <td>5e0fb4a48b36946c8121f9e03964d9c2</td>\n",
       "      <td>delivered</td>\n",
       "      <td>198.00</td>\n",
       "      <td>91.98</td>\n",
       "      <td>2</td>\n",
       "      <td>1</td>\n",
       "      <td>2017-10-02 20:19:43</td>\n",
       "      <td>2017-10-04 02:43:52.408623</td>\n",
       "      <td>2017-10-31</td>\n",
       "      <td>2017-10-11 16:25:47.945541</td>\n",
       "      <td>...</td>\n",
       "      <td>NaN</td>\n",
       "      <td>show</td>\n",
       "      <td>2017-10-12</td>\n",
       "      <td>2017-10-12 19:53:25+00:00</td>\n",
       "      <td>1.0</td>\n",
       "      <td>boleto</td>\n",
       "      <td>289.98</td>\n",
       "      <td>7.0</td>\n",
       "      <td>26.0</td>\n",
       "      <td>-19.0</td>\n",
       "    </tr>\n",
       "    <tr>\n",
       "      <th>99996</th>\n",
       "      <td>138d22c05c5e456f19bdc7dcf09b89aa</td>\n",
       "      <td>delivered</td>\n",
       "      <td>59.00</td>\n",
       "      <td>11.02</td>\n",
       "      <td>1</td>\n",
       "      <td>1</td>\n",
       "      <td>2017-03-22 06:13:55</td>\n",
       "      <td>2017-03-22 06:13:55.000000</td>\n",
       "      <td>2017-04-10</td>\n",
       "      <td>2017-03-31 13:23:12.316309</td>\n",
       "      <td>...</td>\n",
       "      <td>NaN</td>\n",
       "      <td>NaN</td>\n",
       "      <td>2017-04-01</td>\n",
       "      <td>2017-04-04 04:42:58+00:00</td>\n",
       "      <td>1.0</td>\n",
       "      <td>credit_card</td>\n",
       "      <td>70.02</td>\n",
       "      <td>9.0</td>\n",
       "      <td>18.0</td>\n",
       "      <td>-9.0</td>\n",
       "    </tr>\n",
       "    <tr>\n",
       "      <th>99997</th>\n",
       "      <td>a97f1478d7e7648bf5bd2af02d1392a7</td>\n",
       "      <td>delivered</td>\n",
       "      <td>119.99</td>\n",
       "      <td>18.09</td>\n",
       "      <td>1</td>\n",
       "      <td>1</td>\n",
       "      <td>2017-06-10 20:12:12</td>\n",
       "      <td>2017-06-10 21:32:48.260831</td>\n",
       "      <td>2017-07-05</td>\n",
       "      <td>2017-06-24 07:26:42.947365</td>\n",
       "      <td>...</td>\n",
       "      <td>NaN</td>\n",
       "      <td>recomendo</td>\n",
       "      <td>2017-06-25</td>\n",
       "      <td>2017-06-27 22:11:50+00:00</td>\n",
       "      <td>3.0</td>\n",
       "      <td>credit_card</td>\n",
       "      <td>138.08</td>\n",
       "      <td>13.0</td>\n",
       "      <td>24.0</td>\n",
       "      <td>-11.0</td>\n",
       "    </tr>\n",
       "    <tr>\n",
       "      <th>99998</th>\n",
       "      <td>7212b1926de631a35211dd5b4bd9d77b</td>\n",
       "      <td>delivered</td>\n",
       "      <td>119.99</td>\n",
       "      <td>18.09</td>\n",
       "      <td>1</td>\n",
       "      <td>1</td>\n",
       "      <td>2017-09-12 10:24:08</td>\n",
       "      <td>2017-09-12 10:35:15.542788</td>\n",
       "      <td>2017-10-02</td>\n",
       "      <td>2017-09-19 22:51:55.417806</td>\n",
       "      <td>...</td>\n",
       "      <td>NaN</td>\n",
       "      <td>NaN</td>\n",
       "      <td>2017-09-20</td>\n",
       "      <td>2017-09-25 21:22:57+00:00</td>\n",
       "      <td>1.0</td>\n",
       "      <td>voucher</td>\n",
       "      <td>138.08</td>\n",
       "      <td>7.0</td>\n",
       "      <td>19.0</td>\n",
       "      <td>-12.0</td>\n",
       "    </tr>\n",
       "    <tr>\n",
       "      <th>99999</th>\n",
       "      <td>21dd0192970edd37e2a4f39eee973364</td>\n",
       "      <td>delivered</td>\n",
       "      <td>179.90</td>\n",
       "      <td>19.54</td>\n",
       "      <td>1</td>\n",
       "      <td>1</td>\n",
       "      <td>2017-02-18 22:24:21</td>\n",
       "      <td>2017-02-18 22:42:23.800747</td>\n",
       "      <td>2017-03-21</td>\n",
       "      <td>2017-03-01 14:05:06.695182</td>\n",
       "      <td>...</td>\n",
       "      <td>NaN</td>\n",
       "      <td>NaN</td>\n",
       "      <td>2017-03-02</td>\n",
       "      <td>2017-03-03 12:37:15+00:00</td>\n",
       "      <td>12.0</td>\n",
       "      <td>credit_card</td>\n",
       "      <td>199.44</td>\n",
       "      <td>10.0</td>\n",
       "      <td>30.0</td>\n",
       "      <td>-20.0</td>\n",
       "    </tr>\n",
       "  </tbody>\n",
       "</table>\n",
       "<p>100000 rows × 31 columns</p>\n",
       "</div>"
      ],
      "text/plain": [
       "                               order_id order_status  order_products_value  \\\n",
       "0      b95df3cef5297e79ef709ba256518f6f    delivered                349.90   \n",
       "1      59af46052a799e80e2f0c665c587731d    delivered                 15.00   \n",
       "2      a3e6136894621db402a772c6bc72a12a    delivered                238.90   \n",
       "3      b675ea5a618922f6e679e30531b8957b    delivered                 29.99   \n",
       "4      195a8be6794c487fe6cfbb97b7c61902    delivered                295.99   \n",
       "...                                 ...          ...                   ...   \n",
       "99995  5e0fb4a48b36946c8121f9e03964d9c2    delivered                198.00   \n",
       "99996  138d22c05c5e456f19bdc7dcf09b89aa    delivered                 59.00   \n",
       "99997  a97f1478d7e7648bf5bd2af02d1392a7    delivered                119.99   \n",
       "99998  7212b1926de631a35211dd5b4bd9d77b    delivered                119.99   \n",
       "99999  21dd0192970edd37e2a4f39eee973364    delivered                179.90   \n",
       "\n",
       "       order_freight_value  order_items_qty  order_sellers_qty  \\\n",
       "0                    13.84                1                  1   \n",
       "1                    15.10                1                  1   \n",
       "2                    18.00                1                  1   \n",
       "3                    18.23                1                  1   \n",
       "4                    47.65                1                  1   \n",
       "...                    ...              ...                ...   \n",
       "99995                91.98                2                  1   \n",
       "99996                11.02                1                  1   \n",
       "99997                18.09                1                  1   \n",
       "99998                18.09                1                  1   \n",
       "99999                19.54                1                  1   \n",
       "\n",
       "      order_purchase_timestamp          order_approved_at  \\\n",
       "0          2017-01-31 17:19:01 2017-02-01 02:41:21.549551   \n",
       "1          2017-09-09 19:52:54 2017-09-10 20:03:31.535281   \n",
       "2          2017-01-30 17:00:09 2017-01-30 17:31:25.438253   \n",
       "3          2018-03-11 18:18:36 2018-03-11 18:30:37.931962   \n",
       "4          2017-04-20 08:01:08 2017-04-25 08:05:40.405383   \n",
       "...                        ...                        ...   \n",
       "99995      2017-10-02 20:19:43 2017-10-04 02:43:52.408623   \n",
       "99996      2017-03-22 06:13:55 2017-03-22 06:13:55.000000   \n",
       "99997      2017-06-10 20:12:12 2017-06-10 21:32:48.260831   \n",
       "99998      2017-09-12 10:24:08 2017-09-12 10:35:15.542788   \n",
       "99999      2017-02-18 22:24:21 2017-02-18 22:42:23.800747   \n",
       "\n",
       "      order_estimated_delivery_date order_delivered_customer_date  ...  \\\n",
       "0                        2017-03-15    2017-02-06 11:04:24.154259  ...   \n",
       "1                        2017-10-02    2017-09-13 20:17:41.296915  ...   \n",
       "2                        2017-03-07    2017-02-06 15:43:04.758566  ...   \n",
       "3                        2018-04-03    2018-04-03 20:36:43.778451  ...   \n",
       "4                        2017-05-24    2017-05-04 18:47:45.721758  ...   \n",
       "...                             ...                           ...  ...   \n",
       "99995                    2017-10-31    2017-10-11 16:25:47.945541  ...   \n",
       "99996                    2017-04-10    2017-03-31 13:23:12.316309  ...   \n",
       "99997                    2017-07-05    2017-06-24 07:26:42.947365  ...   \n",
       "99998                    2017-10-02    2017-09-19 22:51:55.417806  ...   \n",
       "99999                    2017-03-21    2017-03-01 14:05:06.695182  ...   \n",
       "\n",
       "      review_comment_title                             review_comment_message  \\\n",
       "0                      NaN                                                NaN   \n",
       "1                      NaN  entrega em 2 dias produto c boa qualidade otim...   \n",
       "2                      NaN  produto veio antes do prazo informado muito ob...   \n",
       "3                      NaN                                                NaN   \n",
       "4                      NaN                                                NaN   \n",
       "...                    ...                                                ...   \n",
       "99995                  NaN                                               show   \n",
       "99996                  NaN                                                NaN   \n",
       "99997                  NaN                                          recomendo   \n",
       "99998                  NaN                                                NaN   \n",
       "99999                  NaN                                                NaN   \n",
       "\n",
       "      review_creation_date   review_answer_timestamp installments  \\\n",
       "0               2017-02-07 2017-02-09 02:37:37+00:00          1.0   \n",
       "1               2017-09-14 2017-09-15 03:43:47+00:00          1.0   \n",
       "2               2017-02-07 2017-02-10 14:18:53+00:00         10.0   \n",
       "3               2018-04-04 2018-04-05 02:52:31+00:00          4.0   \n",
       "4               2017-05-05 2017-05-08 15:20:18+00:00          1.0   \n",
       "...                    ...                       ...          ...   \n",
       "99995           2017-10-12 2017-10-12 19:53:25+00:00          1.0   \n",
       "99996           2017-04-01 2017-04-04 04:42:58+00:00          1.0   \n",
       "99997           2017-06-25 2017-06-27 22:11:50+00:00          3.0   \n",
       "99998           2017-09-20 2017-09-25 21:22:57+00:00          1.0   \n",
       "99999           2017-03-02 2017-03-03 12:37:15+00:00         12.0   \n",
       "\n",
       "       payment_type  order_total_value  time_buy_arrive time_expected_arrive  \\\n",
       "0            boleto             363.74              5.0                 41.0   \n",
       "1       credit_card              30.10              3.0                 21.0   \n",
       "2       credit_card             256.90              6.0                 35.0   \n",
       "3       credit_card              48.22             23.0                 22.0   \n",
       "4            boleto             343.64              9.0                 28.0   \n",
       "...             ...                ...              ...                  ...   \n",
       "99995        boleto             289.98              7.0                 26.0   \n",
       "99996   credit_card              70.02              9.0                 18.0   \n",
       "99997   credit_card             138.08             13.0                 24.0   \n",
       "99998       voucher             138.08              7.0                 19.0   \n",
       "99999   credit_card             199.44             10.0                 30.0   \n",
       "\n",
       "      diff_real_est_arrival  \n",
       "0                     -36.0  \n",
       "1                     -18.0  \n",
       "2                     -29.0  \n",
       "3                       1.0  \n",
       "4                     -19.0  \n",
       "...                     ...  \n",
       "99995                 -19.0  \n",
       "99996                  -9.0  \n",
       "99997                 -11.0  \n",
       "99998                 -12.0  \n",
       "99999                 -20.0  \n",
       "\n",
       "[100000 rows x 31 columns]"
      ]
     },
     "execution_count": 15,
     "metadata": {},
     "output_type": "execute_result"
    }
   ],
   "source": [
    "df_olist['time_buy_arrive'] = df_olist['order_delivered_customer_date'] - df_olist['order_approved_at']\n",
    "df_olist['time_buy_arrive'] =(df_olist['time_buy_arrive']).dt.days\n",
    "\n",
    "\n",
    "df_olist['time_expected_arrive'] = df_olist['order_estimated_delivery_date'] - df_olist['order_approved_at']\n",
    "df_olist['time_expected_arrive'] =(df_olist['time_expected_arrive']).dt.days\n",
    "df_olist['diff_real_est_arrival'] = df_olist['time_buy_arrive'] - df_olist['time_expected_arrive']\n",
    "df_olist"
   ]
  },
  {
   "cell_type": "code",
   "execution_count": 16,
   "metadata": {},
   "outputs": [
    {
     "data": {
      "text/plain": [
       "array(['delivered', 'canceled', 'shipped', 'invoiced', 'processing',\n",
       "       'unavailable', 'approved'], dtype=object)"
      ]
     },
     "execution_count": 16,
     "metadata": {},
     "output_type": "execute_result"
    }
   ],
   "source": [
    "order_status = df_olist['order_status'].unique()\n",
    "order_status"
   ]
  },
  {
   "cell_type": "markdown",
   "metadata": {},
   "source": [
    "### 1.1 Analisando categorias de produtos\n",
    "\n",
    "### *1.1 Analysing product categories*\n",
    "\n",
    "\n",
    "\n"
   ]
  },
  {
   "cell_type": "code",
   "execution_count": 156,
   "metadata": {},
   "outputs": [
    {
     "data": {
      "text/plain": [
       "71"
      ]
     },
     "execution_count": 156,
     "metadata": {},
     "output_type": "execute_result"
    }
   ],
   "source": [
    "product_category = df_olist['product_category_name'].unique()\n",
    "product_category = product_category.tolist()\n",
    "product_category.sort()\n",
    "product_category\n",
    "len(product_category)"
   ]
  },
  {
   "cell_type": "markdown",
   "metadata": {},
   "source": [
    "### 1.1.1 Verificando diferenças entre 'casa_conforto' e 'casa_conforto_2' & 'eletrodomesticos' e 'eletrodomesticos_2'\n",
    "\n",
    "### 1.1.1 *Verifying diferences between 'casa_conforto' and 'casa_conforto_2' & between 'eletrodomesticos' and 'eletrodomesticos_2'*"
   ]
  },
  {
   "cell_type": "code",
   "execution_count": 18,
   "metadata": {},
   "outputs": [
    {
     "data": {
      "text/plain": [
       "<AxesSubplot:xlabel='product_category_name', ylabel='order_total_value'>"
      ]
     },
     "execution_count": 18,
     "metadata": {},
     "output_type": "execute_result"
    },
    {
     "data": {
      "image/png": "[encoded data removed]",
      "text/plain": [
       "<Figure size 432x288 with 1 Axes>"
      ]
     },
     "metadata": {
      "needs_background": "light"
     },
     "output_type": "display_data"
    }
   ],
   "source": [
    "df_casa_conforto2 = df_olist[df_olist['product_category_name'].isin(['casa_conforto_2','casa_conforto'])]\n",
    "\n",
    "sns.boxplot(data=df_casa_conforto2, y= 'order_total_value', x='product_category_name')\n",
    "\n",
    "\n"
   ]
  },
  {
   "cell_type": "code",
   "execution_count": 19,
   "metadata": {},
   "outputs": [
    {
     "data": {
      "text/plain": [
       "124"
      ]
     },
     "execution_count": 19,
     "metadata": {},
     "output_type": "execute_result"
    }
   ],
   "source": [
    "len(df_olist[df_olist['product_category_name']=='casa_conforto']['product_id'].unique())"
   ]
  },
  {
   "cell_type": "code",
   "execution_count": 20,
   "metadata": {},
   "outputs": [
    {
     "data": {
      "text/plain": [
       "6"
      ]
     },
     "execution_count": 20,
     "metadata": {},
     "output_type": "execute_result"
    }
   ],
   "source": [
    "len(df_olist[df_olist['product_category_name']=='casa_conforto_2']['product_id'].unique())"
   ]
  },
  {
   "cell_type": "code",
   "execution_count": 21,
   "metadata": {},
   "outputs": [
    {
     "data": {
      "text/plain": [
       "423"
      ]
     },
     "execution_count": 21,
     "metadata": {},
     "output_type": "execute_result"
    }
   ],
   "source": [
    "len(df_olist[df_olist['product_category_name']=='eletrodomesticos']['product_id'].unique())"
   ]
  },
  {
   "cell_type": "code",
   "execution_count": 22,
   "metadata": {},
   "outputs": [
    {
     "data": {
      "text/plain": [
       "172"
      ]
     },
     "execution_count": 22,
     "metadata": {},
     "output_type": "execute_result"
    }
   ],
   "source": [
    "len(df_olist[df_olist['product_category_name']=='eletrodomesticos_2']['product_id'].tolist())"
   ]
  },
  {
   "cell_type": "code",
   "execution_count": 23,
   "metadata": {},
   "outputs": [
    {
     "data": {
      "text/plain": [
       "<AxesSubplot:xlabel='product_category_name', ylabel='order_total_value'>"
      ]
     },
     "execution_count": 23,
     "metadata": {},
     "output_type": "execute_result"
    },
    {
     "data": {
      "image/png": "[encoded data removed]",
      "text/plain": [
       "<Figure size 432x288 with 1 Axes>"
      ]
     },
     "metadata": {
      "needs_background": "light"
     },
     "output_type": "display_data"
    }
   ],
   "source": [
    "\n",
    "df_eletro = df_olist[df_olist['product_category_name'].isin(['eletrodomesticos','eletrodomesticos_2'])]\n",
    "\n",
    "sns.boxplot(data=df_eletro, y= 'order_total_value', x='product_category_name')"
   ]
  },
  {
   "cell_type": "code",
   "execution_count": 160,
   "metadata": {},
   "outputs": [
    {
     "data": {
      "text/plain": [
       "0              beleza saude\n",
       "1    informatica acessorios\n",
       "2                automotivo\n",
       "3           cama mesa banho\n",
       "4          moveis decoracao\n",
       "Name: product_category_name, dtype: object"
      ]
     },
     "execution_count": 160,
     "metadata": {},
     "output_type": "execute_result"
    }
   ],
   "source": [
    "\n",
    "df_olist['product_category_name'] = df_olist['product_category_name'].str.replace('_', ' ').str.lower()\n",
    "df_olist['product_category_name'].head()\n"
   ]
  },
  {
   "cell_type": "code",
   "execution_count": 161,
   "metadata": {},
   "outputs": [
    {
     "data": {
      "text/plain": [
       "SP    41020\n",
       "RJ    13486\n",
       "MG    11977\n",
       "RS     5586\n",
       "PR     5027\n",
       "SC     3747\n",
       "BA     3459\n",
       "Name: customer_state, dtype: int64"
      ]
     },
     "execution_count": 161,
     "metadata": {},
     "output_type": "execute_result"
    }
   ],
   "source": [
    "#capitalize first character of each word\n",
    "df_olist['customer_city'] = df_olist['customer_city'].str.title()\n",
    "df_olist['customer_state'] = df_olist['customer_state'].str.upper()\n",
    "df_olist['customer_state'].value_counts().head(7)"
   ]
  },
  {
   "cell_type": "markdown",
   "metadata": {},
   "source": [
    "### <span style =' color:#FCA311'>  1.1.3 CONCLUSAO DA ANALISE DO NOME DAS CATEGORIAS DE PRODUTOS </span>\n",
    "\n",
    "### Há diferença entre valores e quantidades de itens únicos entre as categorias 'casa_conforto' e 'casa_conforto_2' & 'eletrodomesticos' e 'eletrodomesticos_2'\n",
    "\n",
    "### <span style =' color:#FCA311'>*1.1.3 CONCLUSION REGARDING PRODUCT NAME CATEGORY ANALISYS* </span>\n",
    "\n",
    "### *There are differecences between 'casa_conforto' and 'casa_conforto_2' & between 'eletrodomesticos' and 'eletrodomesticos_2'*"
   ]
  },
  {
   "cell_type": "markdown",
   "metadata": {},
   "source": [
    "## <span style =' color:#ffe200'>  2. VISUALIZAÇÃO DE DADOS - EDA\n",
    "## <span style =' color:#ffe200'>*2. DATA VISUALIZATION - EDA*"
   ]
  },
  {
   "cell_type": "markdown",
   "metadata": {},
   "source": [
    "### <span style =' color:#FCA311'>  2.1 VENDAS </span>\n",
    "### <span style =' color:#FCA311'>*2.1 SALES*</span>"
   ]
  },
  {
   "cell_type": "markdown",
   "metadata": {},
   "source": [
    "### Faturamento por estado\n",
    "### Revenue by state"
   ]
  },
  {
   "cell_type": "code",
   "execution_count": 155,
   "metadata": {},
   "outputs": [
    {
     "name": "stdout",
     "output_type": "stream",
     "text": [
      "<class 'pandas.core.frame.DataFrame'>\n",
      "Index: 27 entries, AC to TO\n",
      "Data columns (total 71 columns):\n",
      " #   Column                                          Non-Null Count  Dtype  \n",
      "---  ------                                          --------------  -----  \n",
      " 0   agro_industria_e_comercio                       19 non-null     float64\n",
      " 1   alimentos                                       19 non-null     float64\n",
      " 2   alimentos_bebidas                               19 non-null     float64\n",
      " 3   artes                                           14 non-null     float64\n",
      " 4   artes_e_artesanato                              3 non-null      float64\n",
      " 5   artigos_de_festas                               8 non-null      float64\n",
      " 6   artigos_de_natal                                18 non-null     float64\n",
      " 7   audio                                           19 non-null     float64\n",
      " 8   automotivo                                      26 non-null     float64\n",
      " 9   bebes                                           26 non-null     float64\n",
      " 10  bebidas                                         17 non-null     float64\n",
      " 11  beleza_saude                                    27 non-null     float64\n",
      " 12  brinquedos                                      27 non-null     float64\n",
      " 13  cama_mesa_banho                                 27 non-null     float64\n",
      " 14  casa_conforto                                   23 non-null     float64\n",
      " 15  casa_conforto_2                                 10 non-null     float64\n",
      " 16  casa_construcao                                 16 non-null     float64\n",
      " 17  cds_dvds_musicais                               5 non-null      float64\n",
      " 18  cine_foto                                       5 non-null      float64\n",
      " 19  climatizacao                                    19 non-null     float64\n",
      " 20  consoles_games                                  26 non-null     float64\n",
      " 21  construcao_ferramentas_construcao               18 non-null     float64\n",
      " 22  construcao_ferramentas_ferramentas              9 non-null      float64\n",
      " 23  construcao_ferramentas_iluminacao               17 non-null     float64\n",
      " 24  construcao_ferramentas_jardim                   21 non-null     float64\n",
      " 25  construcao_ferramentas_seguranca                16 non-null     float64\n",
      " 26  cool_stuff                                      27 non-null     float64\n",
      " 27  dvds_blu_ray                                    12 non-null     float64\n",
      " 28  eletrodomesticos                                25 non-null     float64\n",
      " 29  eletrodomesticos_2                              19 non-null     float64\n",
      " 30  eletronicos                                     26 non-null     float64\n",
      " 31  eletroportateis                                 24 non-null     float64\n",
      " 32  esporte_lazer                                   27 non-null     float64\n",
      " 33  fashion_bolsas_e_acessorios                     26 non-null     float64\n",
      " 34  fashion_calcados                                24 non-null     float64\n",
      " 35  fashion_esporte                                 10 non-null     float64\n",
      " 36  fashion_roupa_feminina                          11 non-null     float64\n",
      " 37  fashion_roupa_infanto_juvenil                   6 non-null      float64\n",
      " 38  fashion_roupa_masculina                         14 non-null     float64\n",
      " 39  fashion_underwear_e_moda_praia                  18 non-null     float64\n",
      " 40  ferramentas_jardim                              27 non-null     float64\n",
      " 41  flores                                          4 non-null      float64\n",
      " 42  fraldas_higiene                                 2 non-null      float64\n",
      " 43  industria_comercio_e_negocios                   15 non-null     float64\n",
      " 44  informatica_acessorios                          27 non-null     float64\n",
      " 45  instrumentos_musicais                           25 non-null     float64\n",
      " 46  la_cuisine                                      8 non-null      float64\n",
      " 47  livros_importados                               6 non-null      float64\n",
      " 48  livros_interesse_geral                          22 non-null     float64\n",
      " 49  livros_tecnicos                                 20 non-null     float64\n",
      " 50  malas_acessorios                                25 non-null     float64\n",
      " 51  market_place                                    24 non-null     float64\n",
      " 52  moveis_colchao_e_estofado                       8 non-null      float64\n",
      " 53  moveis_cozinha_area_de_servico_jantar_e_jardim  18 non-null     float64\n",
      " 54  moveis_decoracao                                26 non-null     float64\n",
      " 55  moveis_escritorio                               26 non-null     float64\n",
      " 56  moveis_quarto                                   12 non-null     float64\n",
      " 57  moveis_sala                                     23 non-null     float64\n",
      " 58  musica                                          6 non-null      float64\n",
      " 59  papelaria                                       26 non-null     float64\n",
      " 60  pcs                                             25 non-null     float64\n",
      " 61  perfumaria                                      26 non-null     float64\n",
      " 62  pet_shop                                        25 non-null     float64\n",
      " 63  portateis_casa_forno_e_cafe                     6 non-null      float64\n",
      " 64  relogios_presentes                              27 non-null     float64\n",
      " 65  seguros_e_servicos                              2 non-null      float64\n",
      " 66  sinalizacao_e_seguranca                         14 non-null     float64\n",
      " 67  tablets_impressao_imagem                        21 non-null     float64\n",
      " 68  telefonia                                       27 non-null     float64\n",
      " 69  telefonia_fixa                                  23 non-null     float64\n",
      " 70  utilidades_domesticas                           26 non-null     float64\n",
      "dtypes: float64(71)\n",
      "memory usage: 15.2+ KB\n"
     ]
    },
    {
     "ename": "ValueError",
     "evalue": "Could not interpret input 'product_category_name'",
     "output_type": "error",
     "traceback": [
      "\u001b[1;31m---------------------------------------------------------------------------\u001b[0m",
      "\u001b[1;31mValueError\u001b[0m                                Traceback (most recent call last)",
      "\u001b[1;32mc:\\Users\\rimellegari\\Documents\\e-commerce\\customer.ipynb Célula: 33\u001b[0m in \u001b[0;36m<cell line: 7>\u001b[1;34m()\u001b[0m\n\u001b[0;32m      <a href='vscode-notebook-cell:/c%3A/Users/rimellegari/Documents/e-commerce/customer.ipynb#X62sZmlsZQ%3D%3D?line=3'>4</a>\u001b[0m teste2\u001b[39m=\u001b[39mteste2\u001b[39m.\u001b[39mfillna(\u001b[39m0\u001b[39m)\n\u001b[0;32m      <a href='vscode-notebook-cell:/c%3A/Users/rimellegari/Documents/e-commerce/customer.ipynb#X62sZmlsZQ%3D%3D?line=4'>5</a>\u001b[0m teste\u001b[39m.\u001b[39minfo()\n\u001b[1;32m----> <a href='vscode-notebook-cell:/c%3A/Users/rimellegari/Documents/e-commerce/customer.ipynb#X62sZmlsZQ%3D%3D?line=6'>7</a>\u001b[0m sns\u001b[39m.\u001b[39;49mbarplot(data\u001b[39m=\u001b[39;49mteste, x\u001b[39m=\u001b[39;49m \u001b[39m'\u001b[39;49m\u001b[39mproduct_category_name\u001b[39;49m\u001b[39m'\u001b[39;49m)\n",
      "File \u001b[1;32mc:\\Users\\rimellegari\\AppData\\Local\\Programs\\Python\\Python310\\lib\\site-packages\\seaborn\\_decorators.py:46\u001b[0m, in \u001b[0;36m_deprecate_positional_args.<locals>.inner_f\u001b[1;34m(*args, **kwargs)\u001b[0m\n\u001b[0;32m     36\u001b[0m     warnings\u001b[39m.\u001b[39mwarn(\n\u001b[0;32m     37\u001b[0m         \u001b[39m\"\u001b[39m\u001b[39mPass the following variable\u001b[39m\u001b[39m{}\u001b[39;00m\u001b[39m as \u001b[39m\u001b[39m{}\u001b[39;00m\u001b[39mkeyword arg\u001b[39m\u001b[39m{}\u001b[39;00m\u001b[39m: \u001b[39m\u001b[39m{}\u001b[39;00m\u001b[39m. \u001b[39m\u001b[39m\"\u001b[39m\n\u001b[0;32m     38\u001b[0m         \u001b[39m\"\u001b[39m\u001b[39mFrom version 0.12, the only valid positional argument \u001b[39m\u001b[39m\"\u001b[39m\n\u001b[1;32m   (...)\u001b[0m\n\u001b[0;32m     43\u001b[0m         \u001b[39mFutureWarning\u001b[39;00m\n\u001b[0;32m     44\u001b[0m     )\n\u001b[0;32m     45\u001b[0m kwargs\u001b[39m.\u001b[39mupdate({k: arg \u001b[39mfor\u001b[39;00m k, arg \u001b[39min\u001b[39;00m \u001b[39mzip\u001b[39m(sig\u001b[39m.\u001b[39mparameters, args)})\n\u001b[1;32m---> 46\u001b[0m \u001b[39mreturn\u001b[39;00m f(\u001b[39m*\u001b[39m\u001b[39m*\u001b[39mkwargs)\n",
      "File \u001b[1;32mc:\\Users\\rimellegari\\AppData\\Local\\Programs\\Python\\Python310\\lib\\site-packages\\seaborn\\categorical.py:3182\u001b[0m, in \u001b[0;36mbarplot\u001b[1;34m(x, y, hue, data, order, hue_order, estimator, ci, n_boot, units, seed, orient, color, palette, saturation, errcolor, errwidth, capsize, dodge, ax, **kwargs)\u001b[0m\n\u001b[0;32m   3169\u001b[0m \u001b[39m@_deprecate_positional_args\u001b[39m\n\u001b[0;32m   3170\u001b[0m \u001b[39mdef\u001b[39;00m \u001b[39mbarplot\u001b[39m(\n\u001b[0;32m   3171\u001b[0m     \u001b[39m*\u001b[39m,\n\u001b[1;32m   (...)\u001b[0m\n\u001b[0;32m   3179\u001b[0m     \u001b[39m*\u001b[39m\u001b[39m*\u001b[39mkwargs,\n\u001b[0;32m   3180\u001b[0m ):\n\u001b[1;32m-> 3182\u001b[0m     plotter \u001b[39m=\u001b[39m _BarPlotter(x, y, hue, data, order, hue_order,\n\u001b[0;32m   3183\u001b[0m                           estimator, ci, n_boot, units, seed,\n\u001b[0;32m   3184\u001b[0m                           orient, color, palette, saturation,\n\u001b[0;32m   3185\u001b[0m                           errcolor, errwidth, capsize, dodge)\n\u001b[0;32m   3187\u001b[0m     \u001b[39mif\u001b[39;00m ax \u001b[39mis\u001b[39;00m \u001b[39mNone\u001b[39;00m:\n\u001b[0;32m   3188\u001b[0m         ax \u001b[39m=\u001b[39m plt\u001b[39m.\u001b[39mgca()\n",
      "File \u001b[1;32mc:\\Users\\rimellegari\\AppData\\Local\\Programs\\Python\\Python310\\lib\\site-packages\\seaborn\\categorical.py:1584\u001b[0m, in \u001b[0;36m_BarPlotter.__init__\u001b[1;34m(self, x, y, hue, data, order, hue_order, estimator, ci, n_boot, units, seed, orient, color, palette, saturation, errcolor, errwidth, capsize, dodge)\u001b[0m\n\u001b[0;32m   1579\u001b[0m \u001b[39mdef\u001b[39;00m \u001b[39m__init__\u001b[39m(\u001b[39mself\u001b[39m, x, y, hue, data, order, hue_order,\n\u001b[0;32m   1580\u001b[0m              estimator, ci, n_boot, units, seed,\n\u001b[0;32m   1581\u001b[0m              orient, color, palette, saturation, errcolor,\n\u001b[0;32m   1582\u001b[0m              errwidth, capsize, dodge):\n\u001b[0;32m   1583\u001b[0m     \u001b[39m\"\"\"Initialize the plotter.\"\"\"\u001b[39;00m\n\u001b[1;32m-> 1584\u001b[0m     \u001b[39mself\u001b[39;49m\u001b[39m.\u001b[39;49mestablish_variables(x, y, hue, data, orient,\n\u001b[0;32m   1585\u001b[0m                              order, hue_order, units)\n\u001b[0;32m   1586\u001b[0m     \u001b[39mself\u001b[39m\u001b[39m.\u001b[39mestablish_colors(color, palette, saturation)\n\u001b[0;32m   1587\u001b[0m     \u001b[39mself\u001b[39m\u001b[39m.\u001b[39mestimate_statistic(estimator, ci, n_boot, seed)\n",
      "File \u001b[1;32mc:\\Users\\rimellegari\\AppData\\Local\\Programs\\Python\\Python310\\lib\\site-packages\\seaborn\\categorical.py:153\u001b[0m, in \u001b[0;36m_CategoricalPlotter.establish_variables\u001b[1;34m(self, x, y, hue, data, orient, order, hue_order, units)\u001b[0m\n\u001b[0;32m    151\u001b[0m     \u001b[39mif\u001b[39;00m \u001b[39misinstance\u001b[39m(var, \u001b[39mstr\u001b[39m):\n\u001b[0;32m    152\u001b[0m         err \u001b[39m=\u001b[39m \u001b[39m\"\u001b[39m\u001b[39mCould not interpret input \u001b[39m\u001b[39m'\u001b[39m\u001b[39m{}\u001b[39;00m\u001b[39m'\u001b[39m\u001b[39m\"\u001b[39m\u001b[39m.\u001b[39mformat(var)\n\u001b[1;32m--> 153\u001b[0m         \u001b[39mraise\u001b[39;00m \u001b[39mValueError\u001b[39;00m(err)\n\u001b[0;32m    155\u001b[0m \u001b[39m# Figure out the plotting orientation\u001b[39;00m\n\u001b[0;32m    156\u001b[0m orient \u001b[39m=\u001b[39m infer_orient(\n\u001b[0;32m    157\u001b[0m     x, y, orient, require_numeric\u001b[39m=\u001b[39m\u001b[39mself\u001b[39m\u001b[39m.\u001b[39mrequire_numeric\n\u001b[0;32m    158\u001b[0m )\n",
      "\u001b[1;31mValueError\u001b[0m: Could not interpret input 'product_category_name'"
     ]
    }
   ],
   "source": []
  },
  {
   "cell_type": "code",
   "execution_count": 39,
   "metadata": {},
   "outputs": [
    {
     "data": {
      "text/plain": [
       "Text(0.5, 1.0, 'Categorias de produto com maior faturamento')"
      ]
     },
     "execution_count": 39,
     "metadata": {},
     "output_type": "execute_result"
    },
    {
     "data": {
      "image/png": "[encoded data removed]",
      "text/plain": [
       "<Figure size 1584x504 with 1 Axes>"
      ]
     },
     "metadata": {
      "needs_background": "light"
     },
     "output_type": "display_data"
    }
   ],
   "source": [
    "\n",
    "df_olist.groupby('product_category_name')['order_total_value'].max().sort_values(ascending=False).plot(kind='bar', figsize = (22,7), color='#98c1d9')\n",
    "plt.title('Categorias de produto com maior faturamento', size=15, color='#7e7e7e')\n",
    "\n",
    "#sns.barplot(data=df_olist.groupby('product_category_name')['order_total_value'], x='product_category_name', y='order_total_value')"
   ]
  },
  {
   "cell_type": "code",
   "execution_count": 121,
   "metadata": {},
   "outputs": [
    {
     "data": {
      "text/plain": [
       "<pandas.core.groupby.generic.SeriesGroupBy object at 0x000002DAACF9DFF0>"
      ]
     },
     "execution_count": 121,
     "metadata": {},
     "output_type": "execute_result"
    }
   ],
   "source": [
    "teste= df_olist.groupby('product_category_name')['order_total_value']\n",
    "teste"
   ]
  },
  {
   "cell_type": "code",
   "execution_count": 157,
   "metadata": {},
   "outputs": [
    {
     "data": {
      "image/png": "[encoded data removed]",
      "text/plain": [
       "<Figure size 1440x1080 with 1 Axes>"
      ]
     },
     "metadata": {
      "needs_background": "light"
     },
     "output_type": "display_data"
    }
   ],
   "source": [
    "plt.figure(figsize=(20,15))\n",
    "top_five= df_olist.nlargest(5, 'order_total_value')\n",
    "sns.barplot(data=top_five, x='product_category_name', y= 'order_total_value')\n",
    "plt.title('Categorias de produto com maior faturamento', size=15, color='#7e7e7e')\n",
    "plt.xticks(rotation = 90)\n",
    "plt.show()"
   ]
  },
  {
   "cell_type": "code",
   "execution_count": 61,
   "metadata": {},
   "outputs": [
    {
     "data": {
      "text/plain": [
       "count    100000.000000\n",
       "mean        150.930905\n",
       "std         203.896164\n",
       "min           7.430000\n",
       "25%          61.980000\n",
       "50%         101.780000\n",
       "75%         169.110000\n",
       "max       13664.080000\n",
       "Name: order_total_value, dtype: float64"
      ]
     },
     "execution_count": 61,
     "metadata": {},
     "output_type": "execute_result"
    }
   ],
   "source": [
    "df_olist['order_total_value'].describe()"
   ]
  },
  {
   "cell_type": "code",
   "execution_count": 120,
   "metadata": {},
   "outputs": [
    {
     "data": {
      "image/png": "[encoded data removed]",
      "text/plain": [
       "<Figure size 864x432 with 1 Axes>"
      ]
     },
     "metadata": {
      "needs_background": "light"
     },
     "output_type": "display_data"
    }
   ],
   "source": [
    "df_olist['order_total_value']=df_olist['order_total_value'].astype(int)\n",
    "df_olist.describe()\n",
    "\n",
    "data_avaliacao = df_olist[(df_olist['order_total_value']>=2000) &(df_olist['order_total_value']<=13664)]\n",
    "data_avaliacao.describe()\n",
    "plt.figure(figsize=(12,6))\n",
    "sns.boxplot(data=df_olist, y='order_total_value')\n",
    "plt.show()"
   ]
  },
  {
   "cell_type": "code",
   "execution_count": 110,
   "metadata": {},
   "outputs": [
    {
     "name": "stdout",
     "output_type": "stream",
     "text": [
      "       order_products_value  order_freight_value  order_items_qty  \\\n",
      "count          96554.000000         96554.000000     96554.000000   \n",
      "mean             103.450030            20.367284         1.089421   \n",
      "std               82.592587            14.374864         0.399527   \n",
      "min                2.000000             0.000000         1.000000   \n",
      "25%               45.000000            13.390000         1.000000   \n",
      "50%               79.900000            16.490000         1.000000   \n",
      "75%              138.000000            22.110000         1.000000   \n",
      "max              499.500000           239.000000        20.000000   \n",
      "\n",
      "       order_sellers_qty  customer_zip_code_prefix  product_name_length  \\\n",
      "count       96554.000000              96554.000000         96554.000000   \n",
      "mean            1.145224                351.804275            48.840245   \n",
      "std             0.718665                297.473359            10.160072   \n",
      "min             1.000000                 10.000000             5.000000   \n",
      "25%             1.000000                115.250000            42.000000   \n",
      "50%             1.000000                247.000000            52.000000   \n",
      "75%             1.000000                583.000000            57.000000   \n",
      "max            30.000000                999.000000            72.000000   \n",
      "\n",
      "       product_description_length  product_photos_qty  review_score  \\\n",
      "count                96554.000000        96554.000000  96554.000000   \n",
      "mean                   761.780102            2.265841      4.058454   \n",
      "std                    646.064343            1.747568      1.358902   \n",
      "min                      8.000000            1.000000      1.000000   \n",
      "25%                    336.000000            1.000000      4.000000   \n",
      "50%                    580.000000            2.000000      5.000000   \n",
      "75%                    955.000000            3.000000      5.000000   \n",
      "max                   3987.000000           20.000000      5.000000   \n",
      "\n",
      "       installments  order_total_value  time_buy_arrive  time_expected_arrive  \\\n",
      "count  96552.000000       96554.000000     94281.000000          96536.000000   \n",
      "mean       2.905491         123.339354        11.767249             23.398639   \n",
      "std        2.664976          88.567793         9.422391              8.849660   \n",
      "min        0.000000           7.000000        -7.000000             -5.000000   \n",
      "25%        1.000000          60.000000         6.000000             18.000000   \n",
      "50%        2.000000          98.000000        10.000000             23.000000   \n",
      "75%        4.000000         160.000000        15.000000             28.000000   \n",
      "max       24.000000         500.000000       208.000000            149.000000   \n",
      "\n",
      "       diff_real_est_arrival  \n",
      "count           94281.000000  \n",
      "mean              -11.585166  \n",
      "std                10.195842  \n",
      "min              -146.000000  \n",
      "25%               -17.000000  \n",
      "50%               -12.000000  \n",
      "75%                -7.000000  \n",
      "max               189.000000  \n"
     ]
    },
    {
     "data": {
      "image/png": "[encoded data removed]",
      "text/plain": [
       "<Figure size 1440x576 with 1 Axes>"
      ]
     },
     "metadata": {
      "needs_background": "light"
     },
     "output_type": "display_data"
    }
   ],
   "source": [
    "data_avaliacao2 = df_olist[(df_olist['order_total_value']>0) &(df_olist['order_total_value']<=500)]\n",
    "print(data_avaliacao2.describe())\n",
    "plt.figure(figsize=(20,8))\n",
    "sns.boxplot(data=data_avaliacao2, y='order_total_value')\n",
    "plt.show()"
   ]
  },
  {
   "cell_type": "code",
   "execution_count": 78,
   "metadata": {},
   "outputs": [
    {
     "name": "stderr",
     "output_type": "stream",
     "text": [
      "c:\\Users\\rimellegari\\AppData\\Local\\Programs\\Python\\Python310\\lib\\site-packages\\seaborn\\distributions.py:2619: FutureWarning: `distplot` is a deprecated function and will be removed in a future version. Please adapt your code to use either `displot` (a figure-level function with similar flexibility) or `histplot` (an axes-level function for histograms).\n",
      "  warnings.warn(msg, FutureWarning)\n"
     ]
    },
    {
     "data": {
      "text/plain": [
       "(0.0, 2000.0)"
      ]
     },
     "execution_count": 78,
     "metadata": {},
     "output_type": "execute_result"
    },
    {
     "data": {
      "image/png": "[encoded data removed]",
      "text/plain": [
       "<Figure size 1440x576 with 1 Axes>"
      ]
     },
     "metadata": {
      "needs_background": "light"
     },
     "output_type": "display_data"
    }
   ],
   "source": [
    "plt.figure(figsize=(20,8))\n",
    "plt.title('Distribuição de valor de compras nacional', size=15, color='#7e7e7e')\n",
    "sns.distplot(df_olist['order_total_value'], bins=800 ,kde=False, color='#98c1d9')\n",
    "plt.xlim([0, 2000])"
   ]
  },
  {
   "cell_type": "markdown",
   "metadata": {},
   "source": []
  },
  {
   "cell_type": "code",
   "execution_count": 118,
   "metadata": {},
   "outputs": [
    {
     "name": "stdout",
     "output_type": "stream",
     "text": [
      "['AC' 'AL' 'AM' 'AP' 'BA' 'CE' 'DF' 'ES' 'GO' 'MA' 'MG' 'MS' 'MT' 'PA'\n",
      " 'PB' 'PE' 'PI' 'PR' 'RJ' 'RN' 'RO' 'RR' 'RS' 'SC' 'SE' 'SP' 'TO']\n"
     ]
    }
   ],
   "source": [
    "estados=df_olist['customer_state'].unique()\n",
    "estados.sort()\n",
    "print(estados)\n",
    "\n",
    "for estado in estados:\n",
    "    df_olist.groupby('product_category_name')['order_total_value'].mean().sort_values(ascending=False).plot(kind='bar', figsize = (22,7), color='#98c1d9')\n",
    "    plt.title('Categorias de produto ', size=15, color='#7e7e7e')"
   ]
  }
 ],
 "metadata": {
  "kernelspec": {
   "display_name": "Python 3.10.5 64-bit",
   "language": "python",
   "name": "python3"
  },
  "language_info": {
   "codemirror_mode": {
    "name": "ipython",
    "version": 3
   },
   "file_extension": ".py",
   "mimetype": "text/x-python",
   "name": "python",
   "nbconvert_exporter": "python",
   "pygments_lexer": "ipython3",
   "version": "3.10.5"
  },
  "orig_nbformat": 4,
  "vscode": {
   "interpreter": {
    "hash": "45d5e5a50b53a70c70bb0ae5279e1f9d57fd706a8fe6d56c029ec465ab606d56"
   }
  }
 },
 "nbformat": 4,
 "nbformat_minor": 2
}
