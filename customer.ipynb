{
 "cells": [
  {
   "cell_type": "markdown",
   "metadata": {},
   "source": [
    "# Olist dataset - e-commerce"
   ]
  },
  {
   "cell_type": "markdown",
   "metadata": {},
   "source": [
    "### Importando bibliotecas\n",
    "#### *Importing libraries*"
   ]
  },
  {
   "cell_type": "code",
   "execution_count": 144,
   "metadata": {},
   "outputs": [],
   "source": [
    "import numpy as np\n",
    "import pandas as pd\n",
    "import seaborn as sns\n",
    "import matplotlib.pyplot as plt\n",
    "import scipy\n",
    "import sklearn\n",
    "import datetime as dt\n",
    "plt.style.use('ggplot')\n",
    "\n",
    "df_olist=pd.read_csv('./datasets/olist_public_dataset_v2.csv')\n",
    "df_olist_pay=pd.read_csv('./datasets/olist_public_dataset_v2_payments.csv')\n",
    "\n"
   ]
  },
  {
   "cell_type": "markdown",
   "metadata": {},
   "source": [
    "###  1. Combinando datasets e corrigindo títulos de colunas\n",
    "#### 1. *Combining datasets and correcting columns titles*"
   ]
  },
  {
   "cell_type": "code",
   "execution_count": 145,
   "metadata": {},
   "outputs": [
    {
     "name": "stdout",
     "output_type": "stream",
     "text": [
      "<class 'pandas.core.frame.DataFrame'>\n",
      "RangeIndex: 100000 entries, 0 to 99999\n",
      "Data columns (total 25 columns):\n",
      " #   Column                         Non-Null Count   Dtype  \n",
      "---  ------                         --------------   -----  \n",
      " 0   order_id                       100000 non-null  object \n",
      " 1   order_status                   100000 non-null  object \n",
      " 2   order_products_value           100000 non-null  float64\n",
      " 3   order_freight_value            100000 non-null  float64\n",
      " 4   order_items_qty                100000 non-null  int64  \n",
      " 5   order_sellers_qty              100000 non-null  int64  \n",
      " 6   order_purchase_timestamp       100000 non-null  object \n",
      " 7   order_aproved_at               99982 non-null   object \n",
      " 8   order_estimated_delivery_date  100000 non-null  object \n",
      " 9   order_delivered_customer_date  97595 non-null   object \n",
      " 10  customer_id                    100000 non-null  object \n",
      " 11  customer_city                  100000 non-null  object \n",
      " 12  customer_state                 100000 non-null  object \n",
      " 13  customer_zip_code_prefix       100000 non-null  int64  \n",
      " 14  product_category_name          100000 non-null  object \n",
      " 15  product_name_lenght            100000 non-null  int64  \n",
      " 16  product_description_lenght     100000 non-null  int64  \n",
      " 17  product_photos_qty             100000 non-null  int64  \n",
      " 18  product_id                     100000 non-null  object \n",
      " 19  review_id                      100000 non-null  object \n",
      " 20  review_score                   100000 non-null  int64  \n",
      " 21  review_comment_title           8262 non-null    object \n",
      " 22  review_comment_message         42489 non-null   object \n",
      " 23  review_creation_date           100000 non-null  object \n",
      " 24  review_answer_timestamp        100000 non-null  object \n",
      "dtypes: float64(2), int64(7), object(16)\n",
      "memory usage: 19.1+ MB\n"
     ]
    }
   ],
   "source": [
    "df_olist.info()"
   ]
  },
  {
   "cell_type": "code",
   "execution_count": 146,
   "metadata": {},
   "outputs": [
    {
     "data": {
      "text/plain": [
       "Index(['order_id', 'order_status', 'order_products_value',\n",
       "       'order_freight_value', 'order_items_qty', 'order_sellers_qty',\n",
       "       'order_purchase_timestamp', 'order_aproved_at',\n",
       "       'order_estimated_delivery_date', 'order_delivered_customer_date',\n",
       "       'customer_id', 'customer_city', 'customer_state',\n",
       "       'customer_zip_code_prefix', 'product_category_name',\n",
       "       'product_name_lenght', 'product_description_lenght',\n",
       "       'product_photos_qty', 'product_id', 'review_id', 'review_score',\n",
       "       'review_comment_title', 'review_comment_message',\n",
       "       'review_creation_date', 'review_answer_timestamp'],\n",
       "      dtype='object')"
      ]
     },
     "execution_count": 146,
     "metadata": {},
     "output_type": "execute_result"
    }
   ],
   "source": [
    "df_olist.columns"
   ]
  },
  {
   "cell_type": "code",
   "execution_count": 147,
   "metadata": {},
   "outputs": [],
   "source": [
    "df_olist['order_purchase_timestamp'] = pd.to_datetime(df_olist['order_purchase_timestamp'])\n",
    "df_olist['order_aproved_at'] = pd.to_datetime(df_olist['order_aproved_at'])\n",
    "df_olist['order_estimated_delivery_date'] = pd.to_datetime(df_olist['order_estimated_delivery_date'])\n",
    "df_olist['order_delivered_customer_date'] = pd.to_datetime(df_olist['order_delivered_customer_date'])\n",
    "df_olist['review_creation_date'] = pd.to_datetime(df_olist['review_creation_date'])\n",
    "\n",
    "df_olist['review_answer_timestamp'] = pd.to_datetime(df_olist['review_answer_timestamp'])\n"
   ]
  },
  {
   "cell_type": "code",
   "execution_count": 148,
   "metadata": {},
   "outputs": [],
   "source": [
    "df_olist.rename(columns= {'order_aproved_at': 'order_approved_at','product_name_lenght': 'product_name_length', 'product_description_lenght':'product_description_length'}, inplace = True)"
   ]
  },
  {
   "cell_type": "code",
   "execution_count": 149,
   "metadata": {},
   "outputs": [],
   "source": [
    "base_pt_en = pd.read_csv('./datasets/product_category_name_translation.csv')\n",
    "base_pt_en_dic = dict(zip(base_pt_en['product_category_name'].tolist(),base_pt_en['product_category_name_english'].tolist()))\n",
    "df_olist['categories_english'] = df_olist['product_category_name'].map(base_pt_en_dic)\n",
    "df_olist['categories_english'] = df_olist['categories_english'].str.replace('_', \" \")\n",
    "df_olist['product_category_name'] = df_olist['product_category_name'].str.replace('_', \" \")"
   ]
  },
  {
   "cell_type": "code",
   "execution_count": 150,
   "metadata": {},
   "outputs": [
    {
     "data": {
      "text/plain": [
       "Index(['order_id', 'order_status', 'order_products_value',\n",
       "       'order_freight_value', 'order_items_qty', 'order_sellers_qty',\n",
       "       'order_purchase_timestamp', 'order_approved_at',\n",
       "       'order_estimated_delivery_date', 'order_delivered_customer_date',\n",
       "       'customer_id', 'customer_city', 'customer_state',\n",
       "       'customer_zip_code_prefix', 'product_category_name',\n",
       "       'product_name_length', 'product_description_length',\n",
       "       'product_photos_qty', 'product_id', 'review_id', 'review_score',\n",
       "       'review_comment_title', 'review_comment_message',\n",
       "       'review_creation_date', 'review_answer_timestamp',\n",
       "       'categories_english'],\n",
       "      dtype='object')"
      ]
     },
     "execution_count": 150,
     "metadata": {},
     "output_type": "execute_result"
    }
   ],
   "source": [
    "df_olist.columns"
   ]
  },
  {
   "cell_type": "code",
   "execution_count": 151,
   "metadata": {},
   "outputs": [
    {
     "name": "stdout",
     "output_type": "stream",
     "text": [
      "<class 'pandas.core.frame.DataFrame'>\n",
      "RangeIndex: 100000 entries, 0 to 99999\n",
      "Data columns (total 26 columns):\n",
      " #   Column                         Non-Null Count   Dtype              \n",
      "---  ------                         --------------   -----              \n",
      " 0   order_id                       100000 non-null  object             \n",
      " 1   order_status                   100000 non-null  object             \n",
      " 2   order_products_value           100000 non-null  float64            \n",
      " 3   order_freight_value            100000 non-null  float64            \n",
      " 4   order_items_qty                100000 non-null  int64              \n",
      " 5   order_sellers_qty              100000 non-null  int64              \n",
      " 6   order_purchase_timestamp       100000 non-null  datetime64[ns]     \n",
      " 7   order_approved_at              99982 non-null   datetime64[ns]     \n",
      " 8   order_estimated_delivery_date  100000 non-null  datetime64[ns]     \n",
      " 9   order_delivered_customer_date  97595 non-null   datetime64[ns]     \n",
      " 10  customer_id                    100000 non-null  object             \n",
      " 11  customer_city                  100000 non-null  object             \n",
      " 12  customer_state                 100000 non-null  object             \n",
      " 13  customer_zip_code_prefix       100000 non-null  int64              \n",
      " 14  product_category_name          100000 non-null  object             \n",
      " 15  product_name_length            100000 non-null  int64              \n",
      " 16  product_description_length     100000 non-null  int64              \n",
      " 17  product_photos_qty             100000 non-null  int64              \n",
      " 18  product_id                     100000 non-null  object             \n",
      " 19  review_id                      100000 non-null  object             \n",
      " 20  review_score                   100000 non-null  int64              \n",
      " 21  review_comment_title           8262 non-null    object             \n",
      " 22  review_comment_message         42489 non-null   object             \n",
      " 23  review_creation_date           100000 non-null  datetime64[ns]     \n",
      " 24  review_answer_timestamp        100000 non-null  datetime64[ns, UTC]\n",
      " 25  categories_english             100000 non-null  object             \n",
      "dtypes: datetime64[ns, UTC](1), datetime64[ns](5), float64(2), int64(7), object(11)\n",
      "memory usage: 19.8+ MB\n"
     ]
    }
   ],
   "source": [
    "df_olist.info()"
   ]
  },
  {
   "cell_type": "code",
   "execution_count": 152,
   "metadata": {},
   "outputs": [
    {
     "name": "stdout",
     "output_type": "stream",
     "text": [
      "<class 'pandas.core.frame.DataFrame'>\n",
      "RangeIndex: 104848 entries, 0 to 104847\n",
      "Data columns (total 5 columns):\n",
      " #   Column        Non-Null Count   Dtype  \n",
      "---  ------        --------------   -----  \n",
      " 0   order_id      104848 non-null  object \n",
      " 1   installments  104848 non-null  int64  \n",
      " 2   sequential    104848 non-null  int64  \n",
      " 3   payment_type  104848 non-null  object \n",
      " 4   value         104848 non-null  float64\n",
      "dtypes: float64(1), int64(2), object(2)\n",
      "memory usage: 4.0+ MB\n"
     ]
    }
   ],
   "source": [
    "df_olist_pay.info()"
   ]
  },
  {
   "cell_type": "code",
   "execution_count": 153,
   "metadata": {},
   "outputs": [],
   "source": [
    "dict_order_installements= dict(zip(df_olist_pay['order_id'],df_olist_pay['installments']))\n"
   ]
  },
  {
   "cell_type": "code",
   "execution_count": 154,
   "metadata": {},
   "outputs": [],
   "source": [
    "dict_order_payment_type= dict(zip(df_olist_pay['order_id'],df_olist_pay['payment_type']))\n"
   ]
  },
  {
   "cell_type": "code",
   "execution_count": 155,
   "metadata": {},
   "outputs": [
    {
     "data": {
      "text/plain": [
       "Index(['order_id', 'order_status', 'order_products_value',\n",
       "       'order_freight_value', 'order_items_qty', 'order_sellers_qty',\n",
       "       'order_purchase_timestamp', 'order_approved_at',\n",
       "       'order_estimated_delivery_date', 'order_delivered_customer_date',\n",
       "       'customer_id', 'customer_city', 'customer_state',\n",
       "       'customer_zip_code_prefix', 'product_category_name',\n",
       "       'product_name_length', 'product_description_length',\n",
       "       'product_photos_qty', 'product_id', 'review_id', 'review_score',\n",
       "       'review_comment_title', 'review_comment_message',\n",
       "       'review_creation_date', 'review_answer_timestamp', 'categories_english',\n",
       "       'installments', 'payment_type'],\n",
       "      dtype='object')"
      ]
     },
     "execution_count": 155,
     "metadata": {},
     "output_type": "execute_result"
    }
   ],
   "source": [
    "df_olist['installments'] = df_olist['order_id'].map(dict_order_installements)\n",
    "df_olist['payment_type'] = df_olist['order_id'].map(dict_order_payment_type)\n",
    "df_olist.columns\n"
   ]
  },
  {
   "cell_type": "code",
   "execution_count": 156,
   "metadata": {},
   "outputs": [
    {
     "name": "stdout",
     "output_type": "stream",
     "text": [
      "<class 'pandas.core.frame.DataFrame'>\n",
      "RangeIndex: 100000 entries, 0 to 99999\n",
      "Data columns (total 28 columns):\n",
      " #   Column                         Non-Null Count   Dtype              \n",
      "---  ------                         --------------   -----              \n",
      " 0   order_id                       100000 non-null  object             \n",
      " 1   order_status                   100000 non-null  object             \n",
      " 2   order_products_value           100000 non-null  float64            \n",
      " 3   order_freight_value            100000 non-null  float64            \n",
      " 4   order_items_qty                100000 non-null  int64              \n",
      " 5   order_sellers_qty              100000 non-null  int64              \n",
      " 6   order_purchase_timestamp       100000 non-null  datetime64[ns]     \n",
      " 7   order_approved_at              99982 non-null   datetime64[ns]     \n",
      " 8   order_estimated_delivery_date  100000 non-null  datetime64[ns]     \n",
      " 9   order_delivered_customer_date  97595 non-null   datetime64[ns]     \n",
      " 10  customer_id                    100000 non-null  object             \n",
      " 11  customer_city                  100000 non-null  object             \n",
      " 12  customer_state                 100000 non-null  object             \n",
      " 13  customer_zip_code_prefix       100000 non-null  int64              \n",
      " 14  product_category_name          100000 non-null  object             \n",
      " 15  product_name_length            100000 non-null  int64              \n",
      " 16  product_description_length     100000 non-null  int64              \n",
      " 17  product_photos_qty             100000 non-null  int64              \n",
      " 18  product_id                     100000 non-null  object             \n",
      " 19  review_id                      100000 non-null  object             \n",
      " 20  review_score                   100000 non-null  int64              \n",
      " 21  review_comment_title           8262 non-null    object             \n",
      " 22  review_comment_message         42489 non-null   object             \n",
      " 23  review_creation_date           100000 non-null  datetime64[ns]     \n",
      " 24  review_answer_timestamp        100000 non-null  datetime64[ns, UTC]\n",
      " 25  categories_english             100000 non-null  object             \n",
      " 26  installments                   99998 non-null   float64            \n",
      " 27  payment_type                   99998 non-null   object             \n",
      "dtypes: datetime64[ns, UTC](1), datetime64[ns](5), float64(3), int64(7), object(12)\n",
      "memory usage: 21.4+ MB\n"
     ]
    }
   ],
   "source": [
    "df_olist.info()"
   ]
  },
  {
   "cell_type": "code",
   "execution_count": 157,
   "metadata": {},
   "outputs": [],
   "source": [
    "df_olist['order_total_value'] = df_olist['order_products_value'].add(df_olist['order_freight_value'])\n",
    "\n"
   ]
  },
  {
   "cell_type": "code",
   "execution_count": 158,
   "metadata": {},
   "outputs": [
    {
     "data": {
      "text/html": [
       "<div>\n",
       "<style scoped>\n",
       "    .dataframe tbody tr th:only-of-type {\n",
       "        vertical-align: middle;\n",
       "    }\n",
       "\n",
       "    .dataframe tbody tr th {\n",
       "        vertical-align: top;\n",
       "    }\n",
       "\n",
       "    .dataframe thead th {\n",
       "        text-align: right;\n",
       "    }\n",
       "</style>\n",
       "<table border=\"1\" class=\"dataframe\">\n",
       "  <thead>\n",
       "    <tr style=\"text-align: right;\">\n",
       "      <th></th>\n",
       "      <th>order_id</th>\n",
       "      <th>order_status</th>\n",
       "      <th>order_products_value</th>\n",
       "      <th>order_freight_value</th>\n",
       "      <th>order_items_qty</th>\n",
       "      <th>order_sellers_qty</th>\n",
       "      <th>order_purchase_timestamp</th>\n",
       "      <th>order_approved_at</th>\n",
       "      <th>order_estimated_delivery_date</th>\n",
       "      <th>order_delivered_customer_date</th>\n",
       "      <th>...</th>\n",
       "      <th>review_comment_message</th>\n",
       "      <th>review_creation_date</th>\n",
       "      <th>review_answer_timestamp</th>\n",
       "      <th>categories_english</th>\n",
       "      <th>installments</th>\n",
       "      <th>payment_type</th>\n",
       "      <th>order_total_value</th>\n",
       "      <th>time_buy_arrive</th>\n",
       "      <th>time_expected_arrive</th>\n",
       "      <th>diff_real_est_arrival</th>\n",
       "    </tr>\n",
       "  </thead>\n",
       "  <tbody>\n",
       "    <tr>\n",
       "      <th>0</th>\n",
       "      <td>b95df3cef5297e79ef709ba256518f6f</td>\n",
       "      <td>delivered</td>\n",
       "      <td>349.90</td>\n",
       "      <td>13.84</td>\n",
       "      <td>1</td>\n",
       "      <td>1</td>\n",
       "      <td>2017-01-31 17:19:01</td>\n",
       "      <td>2017-02-01 02:41:21.549551</td>\n",
       "      <td>2017-03-15</td>\n",
       "      <td>2017-02-06 11:04:24.154259</td>\n",
       "      <td>...</td>\n",
       "      <td>NaN</td>\n",
       "      <td>2017-02-07</td>\n",
       "      <td>2017-02-09 02:37:37+00:00</td>\n",
       "      <td>health beauty</td>\n",
       "      <td>1.0</td>\n",
       "      <td>boleto</td>\n",
       "      <td>363.74</td>\n",
       "      <td>5.0</td>\n",
       "      <td>41.0</td>\n",
       "      <td>-36.0</td>\n",
       "    </tr>\n",
       "    <tr>\n",
       "      <th>1</th>\n",
       "      <td>59af46052a799e80e2f0c665c587731d</td>\n",
       "      <td>delivered</td>\n",
       "      <td>15.00</td>\n",
       "      <td>15.10</td>\n",
       "      <td>1</td>\n",
       "      <td>1</td>\n",
       "      <td>2017-09-09 19:52:54</td>\n",
       "      <td>2017-09-10 20:03:31.535281</td>\n",
       "      <td>2017-10-02</td>\n",
       "      <td>2017-09-13 20:17:41.296915</td>\n",
       "      <td>...</td>\n",
       "      <td>entrega em 2 dias produto c boa qualidade otim...</td>\n",
       "      <td>2017-09-14</td>\n",
       "      <td>2017-09-15 03:43:47+00:00</td>\n",
       "      <td>computers accessories</td>\n",
       "      <td>1.0</td>\n",
       "      <td>credit_card</td>\n",
       "      <td>30.10</td>\n",
       "      <td>3.0</td>\n",
       "      <td>21.0</td>\n",
       "      <td>-18.0</td>\n",
       "    </tr>\n",
       "    <tr>\n",
       "      <th>2</th>\n",
       "      <td>a3e6136894621db402a772c6bc72a12a</td>\n",
       "      <td>delivered</td>\n",
       "      <td>238.90</td>\n",
       "      <td>18.00</td>\n",
       "      <td>1</td>\n",
       "      <td>1</td>\n",
       "      <td>2017-01-30 17:00:09</td>\n",
       "      <td>2017-01-30 17:31:25.438253</td>\n",
       "      <td>2017-03-07</td>\n",
       "      <td>2017-02-06 15:43:04.758566</td>\n",
       "      <td>...</td>\n",
       "      <td>produto veio antes do prazo informado muito ob...</td>\n",
       "      <td>2017-02-07</td>\n",
       "      <td>2017-02-10 14:18:53+00:00</td>\n",
       "      <td>auto</td>\n",
       "      <td>10.0</td>\n",
       "      <td>credit_card</td>\n",
       "      <td>256.90</td>\n",
       "      <td>6.0</td>\n",
       "      <td>35.0</td>\n",
       "      <td>-29.0</td>\n",
       "    </tr>\n",
       "    <tr>\n",
       "      <th>3</th>\n",
       "      <td>b675ea5a618922f6e679e30531b8957b</td>\n",
       "      <td>delivered</td>\n",
       "      <td>29.99</td>\n",
       "      <td>18.23</td>\n",
       "      <td>1</td>\n",
       "      <td>1</td>\n",
       "      <td>2018-03-11 18:18:36</td>\n",
       "      <td>2018-03-11 18:30:37.931962</td>\n",
       "      <td>2018-04-03</td>\n",
       "      <td>2018-04-03 20:36:43.778451</td>\n",
       "      <td>...</td>\n",
       "      <td>NaN</td>\n",
       "      <td>2018-04-04</td>\n",
       "      <td>2018-04-05 02:52:31+00:00</td>\n",
       "      <td>bed bath table</td>\n",
       "      <td>4.0</td>\n",
       "      <td>credit_card</td>\n",
       "      <td>48.22</td>\n",
       "      <td>23.0</td>\n",
       "      <td>22.0</td>\n",
       "      <td>1.0</td>\n",
       "    </tr>\n",
       "    <tr>\n",
       "      <th>4</th>\n",
       "      <td>195a8be6794c487fe6cfbb97b7c61902</td>\n",
       "      <td>delivered</td>\n",
       "      <td>295.99</td>\n",
       "      <td>47.65</td>\n",
       "      <td>1</td>\n",
       "      <td>1</td>\n",
       "      <td>2017-04-20 08:01:08</td>\n",
       "      <td>2017-04-25 08:05:40.405383</td>\n",
       "      <td>2017-05-24</td>\n",
       "      <td>2017-05-04 18:47:45.721758</td>\n",
       "      <td>...</td>\n",
       "      <td>NaN</td>\n",
       "      <td>2017-05-05</td>\n",
       "      <td>2017-05-08 15:20:18+00:00</td>\n",
       "      <td>furniture decor</td>\n",
       "      <td>1.0</td>\n",
       "      <td>boleto</td>\n",
       "      <td>343.64</td>\n",
       "      <td>9.0</td>\n",
       "      <td>28.0</td>\n",
       "      <td>-19.0</td>\n",
       "    </tr>\n",
       "    <tr>\n",
       "      <th>...</th>\n",
       "      <td>...</td>\n",
       "      <td>...</td>\n",
       "      <td>...</td>\n",
       "      <td>...</td>\n",
       "      <td>...</td>\n",
       "      <td>...</td>\n",
       "      <td>...</td>\n",
       "      <td>...</td>\n",
       "      <td>...</td>\n",
       "      <td>...</td>\n",
       "      <td>...</td>\n",
       "      <td>...</td>\n",
       "      <td>...</td>\n",
       "      <td>...</td>\n",
       "      <td>...</td>\n",
       "      <td>...</td>\n",
       "      <td>...</td>\n",
       "      <td>...</td>\n",
       "      <td>...</td>\n",
       "      <td>...</td>\n",
       "      <td>...</td>\n",
       "    </tr>\n",
       "    <tr>\n",
       "      <th>99995</th>\n",
       "      <td>5e0fb4a48b36946c8121f9e03964d9c2</td>\n",
       "      <td>delivered</td>\n",
       "      <td>198.00</td>\n",
       "      <td>91.98</td>\n",
       "      <td>2</td>\n",
       "      <td>1</td>\n",
       "      <td>2017-10-02 20:19:43</td>\n",
       "      <td>2017-10-04 02:43:52.408623</td>\n",
       "      <td>2017-10-31</td>\n",
       "      <td>2017-10-11 16:25:47.945541</td>\n",
       "      <td>...</td>\n",
       "      <td>show</td>\n",
       "      <td>2017-10-12</td>\n",
       "      <td>2017-10-12 19:53:25+00:00</td>\n",
       "      <td>garden tools</td>\n",
       "      <td>1.0</td>\n",
       "      <td>boleto</td>\n",
       "      <td>289.98</td>\n",
       "      <td>7.0</td>\n",
       "      <td>26.0</td>\n",
       "      <td>-19.0</td>\n",
       "    </tr>\n",
       "    <tr>\n",
       "      <th>99996</th>\n",
       "      <td>138d22c05c5e456f19bdc7dcf09b89aa</td>\n",
       "      <td>delivered</td>\n",
       "      <td>59.00</td>\n",
       "      <td>11.02</td>\n",
       "      <td>1</td>\n",
       "      <td>1</td>\n",
       "      <td>2017-03-22 06:13:55</td>\n",
       "      <td>2017-03-22 06:13:55.000000</td>\n",
       "      <td>2017-04-10</td>\n",
       "      <td>2017-03-31 13:23:12.316309</td>\n",
       "      <td>...</td>\n",
       "      <td>NaN</td>\n",
       "      <td>2017-04-01</td>\n",
       "      <td>2017-04-04 04:42:58+00:00</td>\n",
       "      <td>telephony</td>\n",
       "      <td>1.0</td>\n",
       "      <td>credit_card</td>\n",
       "      <td>70.02</td>\n",
       "      <td>9.0</td>\n",
       "      <td>18.0</td>\n",
       "      <td>-9.0</td>\n",
       "    </tr>\n",
       "    <tr>\n",
       "      <th>99997</th>\n",
       "      <td>a97f1478d7e7648bf5bd2af02d1392a7</td>\n",
       "      <td>delivered</td>\n",
       "      <td>119.99</td>\n",
       "      <td>18.09</td>\n",
       "      <td>1</td>\n",
       "      <td>1</td>\n",
       "      <td>2017-06-10 20:12:12</td>\n",
       "      <td>2017-06-10 21:32:48.260831</td>\n",
       "      <td>2017-07-05</td>\n",
       "      <td>2017-06-24 07:26:42.947365</td>\n",
       "      <td>...</td>\n",
       "      <td>recomendo</td>\n",
       "      <td>2017-06-25</td>\n",
       "      <td>2017-06-27 22:11:50+00:00</td>\n",
       "      <td>sports leisure</td>\n",
       "      <td>3.0</td>\n",
       "      <td>credit_card</td>\n",
       "      <td>138.08</td>\n",
       "      <td>13.0</td>\n",
       "      <td>24.0</td>\n",
       "      <td>-11.0</td>\n",
       "    </tr>\n",
       "    <tr>\n",
       "      <th>99998</th>\n",
       "      <td>7212b1926de631a35211dd5b4bd9d77b</td>\n",
       "      <td>delivered</td>\n",
       "      <td>119.99</td>\n",
       "      <td>18.09</td>\n",
       "      <td>1</td>\n",
       "      <td>1</td>\n",
       "      <td>2017-09-12 10:24:08</td>\n",
       "      <td>2017-09-12 10:35:15.542788</td>\n",
       "      <td>2017-10-02</td>\n",
       "      <td>2017-09-19 22:51:55.417806</td>\n",
       "      <td>...</td>\n",
       "      <td>NaN</td>\n",
       "      <td>2017-09-20</td>\n",
       "      <td>2017-09-25 21:22:57+00:00</td>\n",
       "      <td>cool stuff</td>\n",
       "      <td>1.0</td>\n",
       "      <td>voucher</td>\n",
       "      <td>138.08</td>\n",
       "      <td>7.0</td>\n",
       "      <td>19.0</td>\n",
       "      <td>-12.0</td>\n",
       "    </tr>\n",
       "    <tr>\n",
       "      <th>99999</th>\n",
       "      <td>21dd0192970edd37e2a4f39eee973364</td>\n",
       "      <td>delivered</td>\n",
       "      <td>179.90</td>\n",
       "      <td>19.54</td>\n",
       "      <td>1</td>\n",
       "      <td>1</td>\n",
       "      <td>2017-02-18 22:24:21</td>\n",
       "      <td>2017-02-18 22:42:23.800747</td>\n",
       "      <td>2017-03-21</td>\n",
       "      <td>2017-03-01 14:05:06.695182</td>\n",
       "      <td>...</td>\n",
       "      <td>NaN</td>\n",
       "      <td>2017-03-02</td>\n",
       "      <td>2017-03-03 12:37:15+00:00</td>\n",
       "      <td>furniture decor</td>\n",
       "      <td>12.0</td>\n",
       "      <td>credit_card</td>\n",
       "      <td>199.44</td>\n",
       "      <td>10.0</td>\n",
       "      <td>30.0</td>\n",
       "      <td>-20.0</td>\n",
       "    </tr>\n",
       "  </tbody>\n",
       "</table>\n",
       "<p>100000 rows × 32 columns</p>\n",
       "</div>"
      ],
      "text/plain": [
       "                               order_id order_status  order_products_value  \\\n",
       "0      b95df3cef5297e79ef709ba256518f6f    delivered                349.90   \n",
       "1      59af46052a799e80e2f0c665c587731d    delivered                 15.00   \n",
       "2      a3e6136894621db402a772c6bc72a12a    delivered                238.90   \n",
       "3      b675ea5a618922f6e679e30531b8957b    delivered                 29.99   \n",
       "4      195a8be6794c487fe6cfbb97b7c61902    delivered                295.99   \n",
       "...                                 ...          ...                   ...   \n",
       "99995  5e0fb4a48b36946c8121f9e03964d9c2    delivered                198.00   \n",
       "99996  138d22c05c5e456f19bdc7dcf09b89aa    delivered                 59.00   \n",
       "99997  a97f1478d7e7648bf5bd2af02d1392a7    delivered                119.99   \n",
       "99998  7212b1926de631a35211dd5b4bd9d77b    delivered                119.99   \n",
       "99999  21dd0192970edd37e2a4f39eee973364    delivered                179.90   \n",
       "\n",
       "       order_freight_value  order_items_qty  order_sellers_qty  \\\n",
       "0                    13.84                1                  1   \n",
       "1                    15.10                1                  1   \n",
       "2                    18.00                1                  1   \n",
       "3                    18.23                1                  1   \n",
       "4                    47.65                1                  1   \n",
       "...                    ...              ...                ...   \n",
       "99995                91.98                2                  1   \n",
       "99996                11.02                1                  1   \n",
       "99997                18.09                1                  1   \n",
       "99998                18.09                1                  1   \n",
       "99999                19.54                1                  1   \n",
       "\n",
       "      order_purchase_timestamp          order_approved_at  \\\n",
       "0          2017-01-31 17:19:01 2017-02-01 02:41:21.549551   \n",
       "1          2017-09-09 19:52:54 2017-09-10 20:03:31.535281   \n",
       "2          2017-01-30 17:00:09 2017-01-30 17:31:25.438253   \n",
       "3          2018-03-11 18:18:36 2018-03-11 18:30:37.931962   \n",
       "4          2017-04-20 08:01:08 2017-04-25 08:05:40.405383   \n",
       "...                        ...                        ...   \n",
       "99995      2017-10-02 20:19:43 2017-10-04 02:43:52.408623   \n",
       "99996      2017-03-22 06:13:55 2017-03-22 06:13:55.000000   \n",
       "99997      2017-06-10 20:12:12 2017-06-10 21:32:48.260831   \n",
       "99998      2017-09-12 10:24:08 2017-09-12 10:35:15.542788   \n",
       "99999      2017-02-18 22:24:21 2017-02-18 22:42:23.800747   \n",
       "\n",
       "      order_estimated_delivery_date order_delivered_customer_date  ...  \\\n",
       "0                        2017-03-15    2017-02-06 11:04:24.154259  ...   \n",
       "1                        2017-10-02    2017-09-13 20:17:41.296915  ...   \n",
       "2                        2017-03-07    2017-02-06 15:43:04.758566  ...   \n",
       "3                        2018-04-03    2018-04-03 20:36:43.778451  ...   \n",
       "4                        2017-05-24    2017-05-04 18:47:45.721758  ...   \n",
       "...                             ...                           ...  ...   \n",
       "99995                    2017-10-31    2017-10-11 16:25:47.945541  ...   \n",
       "99996                    2017-04-10    2017-03-31 13:23:12.316309  ...   \n",
       "99997                    2017-07-05    2017-06-24 07:26:42.947365  ...   \n",
       "99998                    2017-10-02    2017-09-19 22:51:55.417806  ...   \n",
       "99999                    2017-03-21    2017-03-01 14:05:06.695182  ...   \n",
       "\n",
       "                                  review_comment_message review_creation_date  \\\n",
       "0                                                    NaN           2017-02-07   \n",
       "1      entrega em 2 dias produto c boa qualidade otim...           2017-09-14   \n",
       "2      produto veio antes do prazo informado muito ob...           2017-02-07   \n",
       "3                                                    NaN           2018-04-04   \n",
       "4                                                    NaN           2017-05-05   \n",
       "...                                                  ...                  ...   \n",
       "99995                                               show           2017-10-12   \n",
       "99996                                                NaN           2017-04-01   \n",
       "99997                                          recomendo           2017-06-25   \n",
       "99998                                                NaN           2017-09-20   \n",
       "99999                                                NaN           2017-03-02   \n",
       "\n",
       "        review_answer_timestamp     categories_english installments  \\\n",
       "0     2017-02-09 02:37:37+00:00          health beauty          1.0   \n",
       "1     2017-09-15 03:43:47+00:00  computers accessories          1.0   \n",
       "2     2017-02-10 14:18:53+00:00                   auto         10.0   \n",
       "3     2018-04-05 02:52:31+00:00         bed bath table          4.0   \n",
       "4     2017-05-08 15:20:18+00:00        furniture decor          1.0   \n",
       "...                         ...                    ...          ...   \n",
       "99995 2017-10-12 19:53:25+00:00           garden tools          1.0   \n",
       "99996 2017-04-04 04:42:58+00:00              telephony          1.0   \n",
       "99997 2017-06-27 22:11:50+00:00         sports leisure          3.0   \n",
       "99998 2017-09-25 21:22:57+00:00             cool stuff          1.0   \n",
       "99999 2017-03-03 12:37:15+00:00        furniture decor         12.0   \n",
       "\n",
       "       payment_type  order_total_value  time_buy_arrive time_expected_arrive  \\\n",
       "0            boleto             363.74              5.0                 41.0   \n",
       "1       credit_card              30.10              3.0                 21.0   \n",
       "2       credit_card             256.90              6.0                 35.0   \n",
       "3       credit_card              48.22             23.0                 22.0   \n",
       "4            boleto             343.64              9.0                 28.0   \n",
       "...             ...                ...              ...                  ...   \n",
       "99995        boleto             289.98              7.0                 26.0   \n",
       "99996   credit_card              70.02              9.0                 18.0   \n",
       "99997   credit_card             138.08             13.0                 24.0   \n",
       "99998       voucher             138.08              7.0                 19.0   \n",
       "99999   credit_card             199.44             10.0                 30.0   \n",
       "\n",
       "      diff_real_est_arrival  \n",
       "0                     -36.0  \n",
       "1                     -18.0  \n",
       "2                     -29.0  \n",
       "3                       1.0  \n",
       "4                     -19.0  \n",
       "...                     ...  \n",
       "99995                 -19.0  \n",
       "99996                  -9.0  \n",
       "99997                 -11.0  \n",
       "99998                 -12.0  \n",
       "99999                 -20.0  \n",
       "\n",
       "[100000 rows x 32 columns]"
      ]
     },
     "execution_count": 158,
     "metadata": {},
     "output_type": "execute_result"
    }
   ],
   "source": [
    "df_olist['time_buy_arrive'] = df_olist['order_delivered_customer_date'] - df_olist['order_approved_at']\n",
    "df_olist['time_buy_arrive'] =(df_olist['time_buy_arrive']).dt.days\n",
    "\n",
    "\n",
    "df_olist['time_expected_arrive'] = df_olist['order_estimated_delivery_date'] - df_olist['order_approved_at']\n",
    "df_olist['time_expected_arrive'] =(df_olist['time_expected_arrive']).dt.days\n",
    "df_olist['diff_real_est_arrival'] = df_olist['time_buy_arrive'] - df_olist['time_expected_arrive']\n",
    "df_olist"
   ]
  },
  {
   "cell_type": "code",
   "execution_count": 159,
   "metadata": {},
   "outputs": [
    {
     "data": {
      "text/plain": [
       "array(['delivered', 'canceled', 'shipped', 'invoiced', 'processing',\n",
       "       'unavailable', 'approved'], dtype=object)"
      ]
     },
     "execution_count": 159,
     "metadata": {},
     "output_type": "execute_result"
    }
   ],
   "source": [
    "order_status = df_olist['order_status'].unique()\n",
    "order_status"
   ]
  },
  {
   "cell_type": "markdown",
   "metadata": {},
   "source": [
    "### 1.1 Analisando categorias de produtos\n",
    "\n",
    "### *1.1 Analysing product categories*\n",
    "\n",
    "\n",
    "\n"
   ]
  },
  {
   "cell_type": "code",
   "execution_count": 160,
   "metadata": {},
   "outputs": [
    {
     "data": {
      "text/plain": [
       "71"
      ]
     },
     "execution_count": 160,
     "metadata": {},
     "output_type": "execute_result"
    }
   ],
   "source": [
    "product_category = df_olist['product_category_name'].unique()\n",
    "product_category = product_category.tolist()\n",
    "product_category.sort()\n",
    "product_category\n",
    "len(product_category)"
   ]
  },
  {
   "cell_type": "markdown",
   "metadata": {},
   "source": [
    "### 1.1.1 Verificando diferenças entre 'casa_conforto' e 'casa_conforto_2' & 'eletrodomesticos' e 'eletrodomesticos_2'\n",
    "\n",
    "### 1.1.1 *Verifying diferences between 'casa_conforto' and 'casa_conforto_2' & between 'eletrodomesticos' and 'eletrodomesticos_2'*"
   ]
  },
  {
   "cell_type": "code",
   "execution_count": 161,
   "metadata": {},
   "outputs": [
    {
     "data": {
      "text/plain": [
       "0              beleza saude\n",
       "1    informatica acessorios\n",
       "2                automotivo\n",
       "3           cama mesa banho\n",
       "4          moveis decoracao\n",
       "Name: product_category_name, dtype: object"
      ]
     },
     "execution_count": 161,
     "metadata": {},
     "output_type": "execute_result"
    }
   ],
   "source": [
    "\n",
    "df_olist['product_category_name'] = df_olist['product_category_name'].str.replace('_', ' ').str.lower()\n",
    "df_olist['product_category_name'].head()\n"
   ]
  },
  {
   "cell_type": "code",
   "execution_count": 162,
   "metadata": {},
   "outputs": [
    {
     "data": {
      "text/plain": [
       "<AxesSubplot:xlabel='product_category_name', ylabel='order_total_value'>"
      ]
     },
     "execution_count": 162,
     "metadata": {},
     "output_type": "execute_result"
    },
    {
     "data": {
      "image/png": "[encoded data removed]",
      "text/plain": [
       "<Figure size 432x288 with 1 Axes>"
      ]
     },
     "metadata": {},
     "output_type": "display_data"
    }
   ],
   "source": [
    "df_casa_conforto2 = df_olist[df_olist['product_category_name'].isin(['casa conforto 2','casa conforto'])]\n",
    "\n",
    "sns.boxplot(data=df_casa_conforto2,x='product_category_name', y= 'order_total_value')\n",
    "\n",
    "\n"
   ]
  },
  {
   "cell_type": "code",
   "execution_count": 163,
   "metadata": {},
   "outputs": [
    {
     "data": {
      "text/plain": [
       "array(['beleza saude', 'informatica acessorios', 'automotivo',\n",
       "       'cama mesa banho', 'moveis decoracao', 'esporte lazer',\n",
       "       'perfumaria', 'utilidades domesticas', 'telefonia',\n",
       "       'relogios presentes', 'alimentos bebidas', 'bebes', 'papelaria',\n",
       "       'tablets impressao imagem', 'brinquedos', 'telefonia fixa',\n",
       "       'ferramentas jardim', 'fashion bolsas e acessorios',\n",
       "       'eletroportateis', 'consoles games', 'audio', 'fashion calcados',\n",
       "       'cool stuff', 'malas acessorios', 'climatizacao',\n",
       "       'construcao ferramentas construcao',\n",
       "       'moveis cozinha area de servico jantar e jardim',\n",
       "       'construcao ferramentas jardim', 'fashion roupa masculina',\n",
       "       'pet shop', 'moveis escritorio', 'market place', 'eletronicos',\n",
       "       'eletrodomesticos', 'artigos de festas', 'casa conforto',\n",
       "       'construcao ferramentas ferramentas', 'agro industria e comercio',\n",
       "       'moveis colchao e estofado', 'livros tecnicos', 'casa construcao',\n",
       "       'instrumentos musicais', 'moveis sala',\n",
       "       'construcao ferramentas iluminacao',\n",
       "       'industria comercio e negocios', 'alimentos', 'artes',\n",
       "       'moveis quarto', 'livros interesse geral',\n",
       "       'construcao ferramentas seguranca',\n",
       "       'fashion underwear e moda praia', 'fashion esporte',\n",
       "       'sinalizacao e seguranca', 'pcs', 'artigos de natal',\n",
       "       'fashion roupa feminina', 'eletrodomesticos 2',\n",
       "       'livros importados', 'bebidas', 'cine foto', 'la cuisine',\n",
       "       'musica', 'casa conforto 2', 'portateis casa forno e cafe',\n",
       "       'cds dvds musicais', 'dvds blu ray', 'flores',\n",
       "       'artes e artesanato', 'fraldas higiene',\n",
       "       'fashion roupa infanto juvenil', 'seguros e servicos'],\n",
       "      dtype=object)"
      ]
     },
     "execution_count": 163,
     "metadata": {},
     "output_type": "execute_result"
    }
   ],
   "source": [
    "df_olist['product_category_name'].unique()"
   ]
  },
  {
   "cell_type": "code",
   "execution_count": 164,
   "metadata": {},
   "outputs": [
    {
     "data": {
      "text/plain": [
       "124"
      ]
     },
     "execution_count": 164,
     "metadata": {},
     "output_type": "execute_result"
    }
   ],
   "source": [
    "len(df_olist[df_olist['product_category_name']=='casa conforto']['product_id'].unique())"
   ]
  },
  {
   "cell_type": "code",
   "execution_count": 165,
   "metadata": {},
   "outputs": [
    {
     "data": {
      "text/plain": [
       "6"
      ]
     },
     "execution_count": 165,
     "metadata": {},
     "output_type": "execute_result"
    }
   ],
   "source": [
    "len(df_olist[df_olist['product_category_name']=='casa conforto 2']['product_id'].unique())"
   ]
  },
  {
   "cell_type": "code",
   "execution_count": 166,
   "metadata": {},
   "outputs": [
    {
     "data": {
      "text/plain": [
       "423"
      ]
     },
     "execution_count": 166,
     "metadata": {},
     "output_type": "execute_result"
    }
   ],
   "source": [
    "len(df_olist[df_olist['product_category_name']=='eletrodomesticos']['product_id'].unique())"
   ]
  },
  {
   "cell_type": "code",
   "execution_count": 167,
   "metadata": {},
   "outputs": [
    {
     "data": {
      "text/plain": [
       "172"
      ]
     },
     "execution_count": 167,
     "metadata": {},
     "output_type": "execute_result"
    }
   ],
   "source": [
    "len(df_olist[df_olist['product_category_name']=='eletrodomesticos 2']['product_id'].tolist())"
   ]
  },
  {
   "cell_type": "code",
   "execution_count": 168,
   "metadata": {},
   "outputs": [
    {
     "data": {
      "text/plain": [
       "<AxesSubplot:xlabel='product_category_name', ylabel='order_total_value'>"
      ]
     },
     "execution_count": 168,
     "metadata": {},
     "output_type": "execute_result"
    },
    {
     "data": {
      "image/png": "[encoded data removed]",
      "text/plain": [
       "<Figure size 432x288 with 1 Axes>"
      ]
     },
     "metadata": {},
     "output_type": "display_data"
    }
   ],
   "source": [
    "\n",
    "df_eletro = df_olist[df_olist['product_category_name'].isin(['eletrodomesticos','eletrodomesticos 2'])]\n",
    "\n",
    "sns.boxplot(data=df_eletro, y= 'order_total_value', x='product_category_name')"
   ]
  },
  {
   "cell_type": "code",
   "execution_count": 169,
   "metadata": {},
   "outputs": [
    {
     "data": {
      "text/plain": [
       "SP    41020\n",
       "RJ    13486\n",
       "MG    11977\n",
       "RS     5586\n",
       "PR     5027\n",
       "SC     3747\n",
       "BA     3459\n",
       "Name: customer_state, dtype: int64"
      ]
     },
     "execution_count": 169,
     "metadata": {},
     "output_type": "execute_result"
    }
   ],
   "source": [
    "#capitalize first character of each word\n",
    "df_olist['customer_city'] = df_olist['customer_city'].str.title()\n",
    "df_olist['customer_state'] = df_olist['customer_state'].str.upper()\n",
    "df_olist['customer_state'].value_counts().head(7)"
   ]
  },
  {
   "cell_type": "markdown",
   "metadata": {},
   "source": [
    "### <span style =' color:#FCA311'>  1.1.3 CONCLUSAO DA ANALISE DO NOME DAS CATEGORIAS DE PRODUTOS </span>\n",
    "\n",
    "#### Há diferença entre valores e quantidades de itens únicos entre as categorias 'casa_conforto' e 'casa_conforto_2' & 'eletrodomesticos' e 'eletrodomesticos_2'\n",
    "\n",
    "### <span style =' color:#FCA311'>*1.1.3 CONCLUSION REGARDING PRODUCT NAME CATEGORY ANALISYS* </span>\n",
    "\n",
    "#### *There are differecences between 'casa_conforto' and 'casa_conforto_2' & between 'eletrodomesticos' and 'eletrodomesticos_2'*"
   ]
  },
  {
   "cell_type": "markdown",
   "metadata": {},
   "source": [
    "## <span style =' color:#ffe200'>  2. VISUALIZAÇÃO DE DADOS - EDA\n",
    "## <span style =' color:#ffe200'>*2. DATA VISUALIZATION - EDA*"
   ]
  },
  {
   "cell_type": "markdown",
   "metadata": {},
   "source": [
    "### <span style =' color:#FCA311'>  2.1 VENDAS </span>\n",
    "### <span style =' color:#FCA311'>*2.1 SALES*</span>"
   ]
  },
  {
   "cell_type": "markdown",
   "metadata": {},
   "source": [
    "### 2.1.1 Faturamento por estado\n",
    "\n",
    "### 2.1.1 *Revenue by state*"
   ]
  },
  {
   "cell_type": "code",
   "execution_count": 170,
   "metadata": {},
   "outputs": [
    {
     "data": {
      "text/html": [
       "<div>\n",
       "<style scoped>\n",
       "    .dataframe tbody tr th:only-of-type {\n",
       "        vertical-align: middle;\n",
       "    }\n",
       "\n",
       "    .dataframe tbody tr th {\n",
       "        vertical-align: top;\n",
       "    }\n",
       "\n",
       "    .dataframe thead th {\n",
       "        text-align: right;\n",
       "    }\n",
       "</style>\n",
       "<table border=\"1\" class=\"dataframe\">\n",
       "  <thead>\n",
       "    <tr style=\"text-align: right;\">\n",
       "      <th></th>\n",
       "      <th>order_total_value</th>\n",
       "    </tr>\n",
       "    <tr>\n",
       "      <th>customer_state</th>\n",
       "      <th></th>\n",
       "    </tr>\n",
       "  </thead>\n",
       "  <tbody>\n",
       "    <tr>\n",
       "      <th>SP</th>\n",
       "      <td>5531820.39</td>\n",
       "    </tr>\n",
       "    <tr>\n",
       "      <th>RJ</th>\n",
       "      <td>2091366.68</td>\n",
       "    </tr>\n",
       "    <tr>\n",
       "      <th>MG</th>\n",
       "      <td>1761858.48</td>\n",
       "    </tr>\n",
       "    <tr>\n",
       "      <th>RS</th>\n",
       "      <td>869553.97</td>\n",
       "    </tr>\n",
       "    <tr>\n",
       "      <th>PR</th>\n",
       "      <td>764372.84</td>\n",
       "    </tr>\n",
       "    <tr>\n",
       "      <th>BA</th>\n",
       "      <td>602405.01</td>\n",
       "    </tr>\n",
       "    <tr>\n",
       "      <th>SC</th>\n",
       "      <td>587859.93</td>\n",
       "    </tr>\n",
       "    <tr>\n",
       "      <th>GO</th>\n",
       "      <td>329294.42</td>\n",
       "    </tr>\n",
       "    <tr>\n",
       "      <th>DF</th>\n",
       "      <td>325533.52</td>\n",
       "    </tr>\n",
       "    <tr>\n",
       "      <th>ES</th>\n",
       "      <td>310230.68</td>\n",
       "    </tr>\n",
       "    <tr>\n",
       "      <th>PE</th>\n",
       "      <td>303551.03</td>\n",
       "    </tr>\n",
       "    <tr>\n",
       "      <th>CE</th>\n",
       "      <td>257246.53</td>\n",
       "    </tr>\n",
       "    <tr>\n",
       "      <th>PA</th>\n",
       "      <td>220933.17</td>\n",
       "    </tr>\n",
       "    <tr>\n",
       "      <th>MT</th>\n",
       "      <td>169973.48</td>\n",
       "    </tr>\n",
       "    <tr>\n",
       "      <th>MA</th>\n",
       "      <td>155792.17</td>\n",
       "    </tr>\n",
       "    <tr>\n",
       "      <th>PB</th>\n",
       "      <td>127725.33</td>\n",
       "    </tr>\n",
       "    <tr>\n",
       "      <th>MS</th>\n",
       "      <td>124096.90</td>\n",
       "    </tr>\n",
       "    <tr>\n",
       "      <th>AL</th>\n",
       "      <td>104669.02</td>\n",
       "    </tr>\n",
       "    <tr>\n",
       "      <th>RN</th>\n",
       "      <td>94913.84</td>\n",
       "    </tr>\n",
       "    <tr>\n",
       "      <th>PI</th>\n",
       "      <td>92922.66</td>\n",
       "    </tr>\n",
       "    <tr>\n",
       "      <th>SE</th>\n",
       "      <td>70035.16</td>\n",
       "    </tr>\n",
       "    <tr>\n",
       "      <th>RO</th>\n",
       "      <td>69692.94</td>\n",
       "    </tr>\n",
       "    <tr>\n",
       "      <th>TO</th>\n",
       "      <td>52116.20</td>\n",
       "    </tr>\n",
       "    <tr>\n",
       "      <th>AM</th>\n",
       "      <td>28919.14</td>\n",
       "    </tr>\n",
       "    <tr>\n",
       "      <th>AC</th>\n",
       "      <td>20959.81</td>\n",
       "    </tr>\n",
       "    <tr>\n",
       "      <th>AP</th>\n",
       "      <td>15850.92</td>\n",
       "    </tr>\n",
       "    <tr>\n",
       "      <th>RR</th>\n",
       "      <td>9396.30</td>\n",
       "    </tr>\n",
       "  </tbody>\n",
       "</table>\n",
       "</div>"
      ],
      "text/plain": [
       "                order_total_value\n",
       "customer_state                   \n",
       "SP                     5531820.39\n",
       "RJ                     2091366.68\n",
       "MG                     1761858.48\n",
       "RS                      869553.97\n",
       "PR                      764372.84\n",
       "BA                      602405.01\n",
       "SC                      587859.93\n",
       "GO                      329294.42\n",
       "DF                      325533.52\n",
       "ES                      310230.68\n",
       "PE                      303551.03\n",
       "CE                      257246.53\n",
       "PA                      220933.17\n",
       "MT                      169973.48\n",
       "MA                      155792.17\n",
       "PB                      127725.33\n",
       "MS                      124096.90\n",
       "AL                      104669.02\n",
       "RN                       94913.84\n",
       "PI                       92922.66\n",
       "SE                       70035.16\n",
       "RO                       69692.94\n",
       "TO                       52116.20\n",
       "AM                       28919.14\n",
       "AC                       20959.81\n",
       "AP                       15850.92\n",
       "RR                        9396.30"
      ]
     },
     "execution_count": 170,
     "metadata": {},
     "output_type": "execute_result"
    }
   ],
   "source": [
    "pd.pivot_table(data=df_olist, values='order_total_value',\n",
    "               index='customer_state', aggfunc=sum).sort_values(by='order_total_value',ascending=False)"
   ]
  },
  {
   "cell_type": "markdown",
   "metadata": {},
   "source": [
    "### 2.1.2 Faturamento por categoria de produto\n",
    "\n",
    "### 2.1.2 *Revenue by product category*"
   ]
  },
  {
   "cell_type": "code",
   "execution_count": 171,
   "metadata": {},
   "outputs": [
    {
     "data": {
      "text/html": [
       "<div>\n",
       "<style scoped>\n",
       "    .dataframe tbody tr th:only-of-type {\n",
       "        vertical-align: middle;\n",
       "    }\n",
       "\n",
       "    .dataframe tbody tr th {\n",
       "        vertical-align: top;\n",
       "    }\n",
       "\n",
       "    .dataframe thead th {\n",
       "        text-align: right;\n",
       "    }\n",
       "</style>\n",
       "<table border=\"1\" class=\"dataframe\">\n",
       "  <thead>\n",
       "    <tr style=\"text-align: right;\">\n",
       "      <th></th>\n",
       "      <th>order_products_value</th>\n",
       "    </tr>\n",
       "    <tr>\n",
       "      <th>product_category_name</th>\n",
       "      <th></th>\n",
       "    </tr>\n",
       "  </thead>\n",
       "  <tbody>\n",
       "    <tr>\n",
       "      <th>relogios presentes</th>\n",
       "      <td>1337041.00</td>\n",
       "    </tr>\n",
       "    <tr>\n",
       "      <th>beleza saude</th>\n",
       "      <td>1081665.93</td>\n",
       "    </tr>\n",
       "    <tr>\n",
       "      <th>cama mesa banho</th>\n",
       "      <td>1056703.34</td>\n",
       "    </tr>\n",
       "    <tr>\n",
       "      <th>esporte lazer</th>\n",
       "      <td>961111.91</td>\n",
       "    </tr>\n",
       "    <tr>\n",
       "      <th>informatica acessorios</th>\n",
       "      <td>859228.95</td>\n",
       "    </tr>\n",
       "    <tr>\n",
       "      <th>...</th>\n",
       "      <td>...</td>\n",
       "    </tr>\n",
       "    <tr>\n",
       "      <th>cds dvds musicais</th>\n",
       "      <td>730.00</td>\n",
       "    </tr>\n",
       "    <tr>\n",
       "      <th>flores</th>\n",
       "      <td>679.20</td>\n",
       "    </tr>\n",
       "    <tr>\n",
       "      <th>fraldas higiene</th>\n",
       "      <td>509.00</td>\n",
       "    </tr>\n",
       "    <tr>\n",
       "      <th>cine foto</th>\n",
       "      <td>502.00</td>\n",
       "    </tr>\n",
       "    <tr>\n",
       "      <th>artes e artesanato</th>\n",
       "      <td>352.28</td>\n",
       "    </tr>\n",
       "  </tbody>\n",
       "</table>\n",
       "<p>71 rows × 1 columns</p>\n",
       "</div>"
      ],
      "text/plain": [
       "                        order_products_value\n",
       "product_category_name                       \n",
       "relogios presentes                1337041.00\n",
       "beleza saude                      1081665.93\n",
       "cama mesa banho                   1056703.34\n",
       "esporte lazer                      961111.91\n",
       "informatica acessorios             859228.95\n",
       "...                                      ...\n",
       "cds dvds musicais                     730.00\n",
       "flores                                679.20\n",
       "fraldas higiene                       509.00\n",
       "cine foto                             502.00\n",
       "artes e artesanato                    352.28\n",
       "\n",
       "[71 rows x 1 columns]"
      ]
     },
     "execution_count": 171,
     "metadata": {},
     "output_type": "execute_result"
    }
   ],
   "source": [
    "pd.pivot_table(data=df_olist, values='order_products_value',\n",
    "               index='product_category_name', aggfunc=sum).sort_values(by='order_products_value',ascending=False)"
   ]
  },
  {
   "cell_type": "code",
   "execution_count": 172,
   "metadata": {},
   "outputs": [
    {
     "data": {
      "image/png": "[encoded data removed]",
      "text/plain": [
       "<Figure size 1440x576 with 1 Axes>"
      ]
     },
     "metadata": {},
     "output_type": "display_data"
    }
   ],
   "source": [
    "df_olist.groupby(df_olist['customer_state'])['order_products_value'].sum().sort_values(ascending=False).plot(kind='bar',figsize=(20,8),color='#98c1d9')\n",
    "plt.title('States responsible for highest revenue', size=15, color='#7e7e7e')\n",
    "plt.ylabel('Revenue in R$(Millions)')\n",
    "plt.xlabel('States')\n",
    "plt.legend()\n",
    "plt.show()"
   ]
  },
  {
   "cell_type": "code",
   "execution_count": 173,
   "metadata": {},
   "outputs": [
    {
     "data": {
      "image/png": "[encoded data removed]",
      "text/plain": [
       "<Figure size 1440x576 with 1 Axes>"
      ]
     },
     "metadata": {},
     "output_type": "display_data"
    }
   ],
   "source": [
    "df_olist.groupby(df_olist['categories_english'])['order_products_value'].sum().sort_values(ascending=False).plot(kind='bar',figsize=(20,8),color='#98c1d9')\n",
    "plt.title('Product categories with highest revenue', size=15, color='#7e7e7e')\n",
    "plt.ylabel('Revenue in R$(Millions)')\n",
    "plt.xlabel('Product Categories')\n",
    "plt.legend()\n",
    "plt.show()"
   ]
  },
  {
   "cell_type": "code",
   "execution_count": 174,
   "metadata": {},
   "outputs": [
    {
     "data": {
      "text/plain": [
       "<pandas.core.groupby.generic.SeriesGroupBy object at 0x00000276395928C0>"
      ]
     },
     "execution_count": 174,
     "metadata": {},
     "output_type": "execute_result"
    }
   ],
   "source": [
    "teste= df_olist.groupby('product_category_name')['order_total_value']\n",
    "teste"
   ]
  },
  {
   "cell_type": "code",
   "execution_count": 175,
   "metadata": {},
   "outputs": [
    {
     "data": {
      "text/plain": [
       "count    100000.000000\n",
       "mean        150.930905\n",
       "std         203.896164\n",
       "min           7.430000\n",
       "25%          61.980000\n",
       "50%         101.780000\n",
       "75%         169.110000\n",
       "max       13664.080000\n",
       "Name: order_total_value, dtype: float64"
      ]
     },
     "execution_count": 175,
     "metadata": {},
     "output_type": "execute_result"
    }
   ],
   "source": [
    "df_olist['order_total_value'].describe()"
   ]
  },
  {
   "cell_type": "code",
   "execution_count": 176,
   "metadata": {},
   "outputs": [
    {
     "name": "stdout",
     "output_type": "stream",
     "text": [
      "Order mean value R$ 150.93\n",
      "Median order value R$ 101.78\n"
     ]
    },
    {
     "data": {
      "image/png": "[encoded data removed]",
      "text/plain": [
       "<Figure size 1080x432 with 1 Axes>"
      ]
     },
     "metadata": {},
     "output_type": "display_data"
    }
   ],
   "source": [
    "plt.figure(figsize=(15,6))\n",
    "plt.title('Order value distribution', size=15, color='#7e7e7e')\n",
    "plt.xlabel('Order total value in R$')\n",
    "plt.ylabel('# of Orders')\n",
    "sns.histplot(df_olist['order_total_value'], bins=900 ,kde=True, color='#98c1d9')\n",
    "plt.xlim([0, 1000])\n",
    "preco_medio = round(df_olist['order_total_value'].mean(),2)\n",
    "preco_mediano = round(df_olist['order_total_value'].median(),2)\n",
    "print(f'Order mean value R$ {preco_medio}')\n",
    "print(f'Median order value R$ {preco_mediano}')"
   ]
  },
  {
   "cell_type": "markdown",
   "metadata": {},
   "source": [
    "#### O gráfico acima demonstra uma distribuição assimétrica em relação aos valores das compras\n",
    "\n",
    "#### *The chart below shows us a assymetrical distribution regarding order value*"
   ]
  },
  {
   "cell_type": "markdown",
   "metadata": {},
   "source": [
    "### Analise Horário de Compras\n",
    "\n",
    "### *Purchasing hour analysis*"
   ]
  },
  {
   "cell_type": "code",
   "execution_count": 177,
   "metadata": {},
   "outputs": [
    {
     "data": {
      "text/plain": [
       "<AxesSubplot:title={'center':'Purchasing hour'}, xlabel='purchase moment', ylabel='# of Orders across the day'>"
      ]
     },
     "execution_count": 177,
     "metadata": {},
     "output_type": "execute_result"
    },
    {
     "data": {
      "image/png": "[encoded data removed]",
      "text/plain": [
       "<Figure size 1080x432 with 1 Axes>"
      ]
     },
     "metadata": {},
     "output_type": "display_data"
    }
   ],
   "source": [
    "df_olist['purchase_hour'] = df_olist['order_purchase_timestamp'].dt.hour\n",
    "plt.figure(figsize=(15,6))\n",
    "plt.title('Purchasing hour', size=15, color='#7e7e7e')\n",
    "plt.xlabel('purchase moment')\n",
    "plt.ylabel('# of Orders across the day')\n",
    "sns.histplot(df_olist['purchase_hour'],kde=True, bins=24, color='#98c1d9')\n",
    "\n"
   ]
  },
  {
   "cell_type": "code",
   "execution_count": 178,
   "metadata": {},
   "outputs": [
    {
     "data": {
      "text/plain": [
       "count    100000.000000\n",
       "mean         14.822790\n",
       "std           5.330297\n",
       "min           0.000000\n",
       "25%          11.000000\n",
       "50%          15.000000\n",
       "75%          19.000000\n",
       "max          23.000000\n",
       "Name: purchase_hour, dtype: float64"
      ]
     },
     "execution_count": 178,
     "metadata": {},
     "output_type": "execute_result"
    }
   ],
   "source": [
    "df_olist['purchase_hour'].describe()"
   ]
  },
  {
   "cell_type": "markdown",
   "metadata": {},
   "source": [
    "#### Maior parte dos clientes compra durante o horário comercial\n",
    "#### *Majority of customers usually buy during business hours*"
   ]
  },
  {
   "cell_type": "markdown",
   "metadata": {},
   "source": [
    "### 2.1.3 Análise das formas de pagamento\n",
    "\n",
    "### 2.1.3 *Payment methods analysis*"
   ]
  },
  {
   "cell_type": "code",
   "execution_count": 179,
   "metadata": {},
   "outputs": [
    {
     "data": {
      "text/plain": [
       "<AxesSubplot:ylabel='payment_type'>"
      ]
     },
     "execution_count": 179,
     "metadata": {},
     "output_type": "execute_result"
    },
    {
     "data": {
      "image/png": "[encoded data removed]",
      "text/plain": [
       "<Figure size 432x288 with 1 Axes>"
      ]
     },
     "metadata": {},
     "output_type": "display_data"
    }
   ],
   "source": [
    "\n",
    "df_olist['payment_type'].groupby(df_olist['payment_type']).count().plot(kind='pie',radius=3,labels=df_olist.payment_type.unique(),autopct='%.1f%%')\n"
   ]
  },
  {
   "cell_type": "markdown",
   "metadata": {},
   "source": [
    "#### Mais de 90% dos pedidos foram pagos por crédito ou boleto como forma de pagamento\n",
    "\n",
    "#### Over 90% of of total order were paid by credit card or boletos. "
   ]
  },
  {
   "cell_type": "code",
   "execution_count": 180,
   "metadata": {},
   "outputs": [
    {
     "data": {
      "text/html": [
       "<div>\n",
       "<style scoped>\n",
       "    .dataframe tbody tr th:only-of-type {\n",
       "        vertical-align: middle;\n",
       "    }\n",
       "\n",
       "    .dataframe tbody tr th {\n",
       "        vertical-align: top;\n",
       "    }\n",
       "\n",
       "    .dataframe thead tr th {\n",
       "        text-align: left;\n",
       "    }\n",
       "\n",
       "    .dataframe thead tr:last-of-type th {\n",
       "        text-align: right;\n",
       "    }\n",
       "</style>\n",
       "<table border=\"1\" class=\"dataframe\">\n",
       "  <thead>\n",
       "    <tr>\n",
       "      <th></th>\n",
       "      <th colspan=\"2\" halign=\"left\">order_products_value</th>\n",
       "    </tr>\n",
       "    <tr>\n",
       "      <th></th>\n",
       "      <th>median</th>\n",
       "      <th>count</th>\n",
       "    </tr>\n",
       "    <tr>\n",
       "      <th>customer_state</th>\n",
       "      <th></th>\n",
       "      <th></th>\n",
       "    </tr>\n",
       "  </thead>\n",
       "  <tbody>\n",
       "    <tr>\n",
       "      <th>PB</th>\n",
       "      <td>109.990</td>\n",
       "      <td>542</td>\n",
       "    </tr>\n",
       "    <tr>\n",
       "      <th>TO</th>\n",
       "      <td>109.000</td>\n",
       "      <td>261</td>\n",
       "    </tr>\n",
       "    <tr>\n",
       "      <th>PI</th>\n",
       "      <td>99.900</td>\n",
       "      <td>454</td>\n",
       "    </tr>\n",
       "    <tr>\n",
       "      <th>PA</th>\n",
       "      <td>99.900</td>\n",
       "      <td>1023</td>\n",
       "    </tr>\n",
       "    <tr>\n",
       "      <th>AP</th>\n",
       "      <td>99.900</td>\n",
       "      <td>68</td>\n",
       "    </tr>\n",
       "    <tr>\n",
       "      <th>SE</th>\n",
       "      <td>99.000</td>\n",
       "      <td>339</td>\n",
       "    </tr>\n",
       "    <tr>\n",
       "      <th>RO</th>\n",
       "      <td>99.000</td>\n",
       "      <td>287</td>\n",
       "    </tr>\n",
       "    <tr>\n",
       "      <th>AL</th>\n",
       "      <td>99.000</td>\n",
       "      <td>440</td>\n",
       "    </tr>\n",
       "    <tr>\n",
       "      <th>MA</th>\n",
       "      <td>98.000</td>\n",
       "      <td>763</td>\n",
       "    </tr>\n",
       "    <tr>\n",
       "      <th>RN</th>\n",
       "      <td>98.000</td>\n",
       "      <td>519</td>\n",
       "    </tr>\n",
       "    <tr>\n",
       "      <th>RR</th>\n",
       "      <td>97.450</td>\n",
       "      <td>46</td>\n",
       "    </tr>\n",
       "    <tr>\n",
       "      <th>AM</th>\n",
       "      <td>94.900</td>\n",
       "      <td>156</td>\n",
       "    </tr>\n",
       "    <tr>\n",
       "      <th>CE</th>\n",
       "      <td>93.000</td>\n",
       "      <td>1327</td>\n",
       "    </tr>\n",
       "    <tr>\n",
       "      <th>PE</th>\n",
       "      <td>91.400</td>\n",
       "      <td>1638</td>\n",
       "    </tr>\n",
       "    <tr>\n",
       "      <th>AC</th>\n",
       "      <td>89.945</td>\n",
       "      <td>86</td>\n",
       "    </tr>\n",
       "    <tr>\n",
       "      <th>MT</th>\n",
       "      <td>89.900</td>\n",
       "      <td>922</td>\n",
       "    </tr>\n",
       "    <tr>\n",
       "      <th>RJ</th>\n",
       "      <td>89.900</td>\n",
       "      <td>13486</td>\n",
       "    </tr>\n",
       "    <tr>\n",
       "      <th>BA</th>\n",
       "      <td>89.900</td>\n",
       "      <td>3459</td>\n",
       "    </tr>\n",
       "    <tr>\n",
       "      <th>GO</th>\n",
       "      <td>89.800</td>\n",
       "      <td>2011</td>\n",
       "    </tr>\n",
       "    <tr>\n",
       "      <th>MS</th>\n",
       "      <td>89.000</td>\n",
       "      <td>725</td>\n",
       "    </tr>\n",
       "    <tr>\n",
       "      <th>ES</th>\n",
       "      <td>88.045</td>\n",
       "      <td>2040</td>\n",
       "    </tr>\n",
       "    <tr>\n",
       "      <th>SC</th>\n",
       "      <td>87.900</td>\n",
       "      <td>3747</td>\n",
       "    </tr>\n",
       "    <tr>\n",
       "      <th>RS</th>\n",
       "      <td>85.945</td>\n",
       "      <td>5586</td>\n",
       "    </tr>\n",
       "    <tr>\n",
       "      <th>MG</th>\n",
       "      <td>84.900</td>\n",
       "      <td>11977</td>\n",
       "    </tr>\n",
       "    <tr>\n",
       "      <th>DF</th>\n",
       "      <td>82.990</td>\n",
       "      <td>2051</td>\n",
       "    </tr>\n",
       "    <tr>\n",
       "      <th>PR</th>\n",
       "      <td>80.000</td>\n",
       "      <td>5027</td>\n",
       "    </tr>\n",
       "    <tr>\n",
       "      <th>SP</th>\n",
       "      <td>78.000</td>\n",
       "      <td>41020</td>\n",
       "    </tr>\n",
       "  </tbody>\n",
       "</table>\n",
       "</div>"
      ],
      "text/plain": [
       "               order_products_value       \n",
       "                             median  count\n",
       "customer_state                            \n",
       "PB                          109.990    542\n",
       "TO                          109.000    261\n",
       "PI                           99.900    454\n",
       "PA                           99.900   1023\n",
       "AP                           99.900     68\n",
       "SE                           99.000    339\n",
       "RO                           99.000    287\n",
       "AL                           99.000    440\n",
       "MA                           98.000    763\n",
       "RN                           98.000    519\n",
       "RR                           97.450     46\n",
       "AM                           94.900    156\n",
       "CE                           93.000   1327\n",
       "PE                           91.400   1638\n",
       "AC                           89.945     86\n",
       "MT                           89.900    922\n",
       "RJ                           89.900  13486\n",
       "BA                           89.900   3459\n",
       "GO                           89.800   2011\n",
       "MS                           89.000    725\n",
       "ES                           88.045   2040\n",
       "SC                           87.900   3747\n",
       "RS                           85.945   5586\n",
       "MG                           84.900  11977\n",
       "DF                           82.990   2051\n",
       "PR                           80.000   5027\n",
       "SP                           78.000  41020"
      ]
     },
     "execution_count": 180,
     "metadata": {},
     "output_type": "execute_result"
    }
   ],
   "source": [
    "grouped_states = (df_olist.groupby('customer_state')[['order_products_value']]\n",
    "                            .agg({'order_products_value':['median', 'count']})).sort_values(by=('order_products_value','median'), ascending=False)\n",
    "\n",
    "grouped_states"
   ]
  },
  {
   "cell_type": "code",
   "execution_count": 181,
   "metadata": {},
   "outputs": [],
   "source": [
    "region_dict = {'RS':'South',\n",
    "               'SC':'South',\n",
    "               'PR':'South',\n",
    "               'SP':'Southeast',\n",
    "               'RJ':'Southeast',\n",
    "               'ES':'Southeast',\n",
    "               'MG':'Southeast',\n",
    "               'DF': 'Midwest',\n",
    "               'GO':'Midwest',\n",
    "               'MT':'Midwest',\n",
    "               'MS': 'Midwest',\n",
    "               'BA': 'Northeast',\n",
    "               'SE': 'Northeast',\n",
    "               'AL': 'Northeast',\n",
    "               'PE': 'Northeast',\n",
    "               'PB': 'Northeast',\n",
    "               'RN': 'Northeast',\n",
    "               'CE': 'Northeast',\n",
    "               'PI': 'Northeast',\n",
    "               'MA': 'Northeast',\n",
    "               'TO': 'North',\n",
    "               'PA': 'North',\n",
    "               'AP': 'North',\n",
    "               'AM': 'North',\n",
    "               'AC': 'North',\n",
    "               'RO': 'North',\n",
    "               'RR': 'North',  \n",
    "            }"
   ]
  },
  {
   "cell_type": "code",
   "execution_count": 182,
   "metadata": {},
   "outputs": [],
   "source": [
    "df_olist['region'] = df_olist['customer_state'].map(region_dict)"
   ]
  },
  {
   "cell_type": "code",
   "execution_count": 183,
   "metadata": {},
   "outputs": [
    {
     "data": {
      "image/png": "[encoded data removed]",
      "text/plain": [
       "<Figure size 1080x432 with 1 Axes>"
      ]
     },
     "metadata": {},
     "output_type": "display_data"
    }
   ],
   "source": [
    "plt.figure(figsize=(15,6))\n",
    "plt.title('Order value comparison among Regions', color='#6a6e70')\n",
    "sns.boxplot(data=df_olist[df_olist['order_products_value']<=600], y='order_products_value', x='region')\n",
    "plt.show()"
   ]
  },
  {
   "cell_type": "code",
   "execution_count": 184,
   "metadata": {},
   "outputs": [
    {
     "data": {
      "image/png": "[encoded data removed]",
      "text/plain": [
       "<Figure size 1080x432 with 1 Axes>"
      ]
     },
     "metadata": {},
     "output_type": "display_data"
    }
   ],
   "source": [
    "\n",
    "num_installments= df_olist['installments']\n",
    "plt.figure(figsize=(15,6))\n",
    "sns.countplot(x=num_installments, color = '#00b4d8')\n",
    "plt.title('# of orders grouped by installments', color='#6a6e70')\n",
    "plt.ylabel('quantity of orders')\n",
    "plt.show()\n",
    "\n",
    "\n"
   ]
  },
  {
   "cell_type": "code",
   "execution_count": 185,
   "metadata": {},
   "outputs": [
    {
     "data": {
      "text/html": [
       "<div>\n",
       "<style scoped>\n",
       "    .dataframe tbody tr th:only-of-type {\n",
       "        vertical-align: middle;\n",
       "    }\n",
       "\n",
       "    .dataframe tbody tr th {\n",
       "        vertical-align: top;\n",
       "    }\n",
       "\n",
       "    .dataframe thead tr th {\n",
       "        text-align: left;\n",
       "    }\n",
       "\n",
       "    .dataframe thead tr:last-of-type th {\n",
       "        text-align: right;\n",
       "    }\n",
       "</style>\n",
       "<table border=\"1\" class=\"dataframe\">\n",
       "  <thead>\n",
       "    <tr>\n",
       "      <th></th>\n",
       "      <th colspan=\"5\" halign=\"left\">order_products_value</th>\n",
       "    </tr>\n",
       "    <tr>\n",
       "      <th></th>\n",
       "      <th>median</th>\n",
       "      <th>count</th>\n",
       "      <th>mean</th>\n",
       "      <th>max</th>\n",
       "      <th>min</th>\n",
       "    </tr>\n",
       "    <tr>\n",
       "      <th>installments</th>\n",
       "      <th></th>\n",
       "      <th></th>\n",
       "      <th></th>\n",
       "      <th></th>\n",
       "      <th></th>\n",
       "    </tr>\n",
       "  </thead>\n",
       "  <tbody>\n",
       "    <tr>\n",
       "      <th>24.0</th>\n",
       "      <td>457.000</td>\n",
       "      <td>25</td>\n",
       "      <td>501.768800</td>\n",
       "      <td>1999.90</td>\n",
       "      <td>69.99</td>\n",
       "    </tr>\n",
       "    <tr>\n",
       "      <th>20.0</th>\n",
       "      <td>264.945</td>\n",
       "      <td>14</td>\n",
       "      <td>402.927143</td>\n",
       "      <td>1200.00</td>\n",
       "      <td>44.90</td>\n",
       "    </tr>\n",
       "    <tr>\n",
       "      <th>15.0</th>\n",
       "      <td>230.900</td>\n",
       "      <td>79</td>\n",
       "      <td>381.951519</td>\n",
       "      <td>3599.00</td>\n",
       "      <td>51.90</td>\n",
       "    </tr>\n",
       "    <tr>\n",
       "      <th>18.0</th>\n",
       "      <td>230.000</td>\n",
       "      <td>31</td>\n",
       "      <td>419.612903</td>\n",
       "      <td>1599.99</td>\n",
       "      <td>35.90</td>\n",
       "    </tr>\n",
       "    <tr>\n",
       "      <th>23.0</th>\n",
       "      <td>216.000</td>\n",
       "      <td>1</td>\n",
       "      <td>216.000000</td>\n",
       "      <td>216.00</td>\n",
       "      <td>216.00</td>\n",
       "    </tr>\n",
       "    <tr>\n",
       "      <th>22.0</th>\n",
       "      <td>194.895</td>\n",
       "      <td>2</td>\n",
       "      <td>194.895000</td>\n",
       "      <td>209.99</td>\n",
       "      <td>179.80</td>\n",
       "    </tr>\n",
       "    <tr>\n",
       "      <th>10.0</th>\n",
       "      <td>179.990</td>\n",
       "      <td>5803</td>\n",
       "      <td>312.364208</td>\n",
       "      <td>9798.00</td>\n",
       "      <td>7.80</td>\n",
       "    </tr>\n",
       "    <tr>\n",
       "      <th>8.0</th>\n",
       "      <td>169.000</td>\n",
       "      <td>4392</td>\n",
       "      <td>248.713472</td>\n",
       "      <td>6735.00</td>\n",
       "      <td>9.99</td>\n",
       "    </tr>\n",
       "    <tr>\n",
       "      <th>19.0</th>\n",
       "      <td>159.900</td>\n",
       "      <td>3</td>\n",
       "      <td>163.293333</td>\n",
       "      <td>184.99</td>\n",
       "      <td>144.99</td>\n",
       "    </tr>\n",
       "    <tr>\n",
       "      <th>21.0</th>\n",
       "      <td>157.495</td>\n",
       "      <td>2</td>\n",
       "      <td>157.495000</td>\n",
       "      <td>165.00</td>\n",
       "      <td>149.99</td>\n",
       "    </tr>\n",
       "    <tr>\n",
       "      <th>17.0</th>\n",
       "      <td>151.000</td>\n",
       "      <td>4</td>\n",
       "      <td>147.625000</td>\n",
       "      <td>155.50</td>\n",
       "      <td>133.00</td>\n",
       "    </tr>\n",
       "    <tr>\n",
       "      <th>16.0</th>\n",
       "      <td>148.000</td>\n",
       "      <td>8</td>\n",
       "      <td>161.450000</td>\n",
       "      <td>285.00</td>\n",
       "      <td>129.90</td>\n",
       "    </tr>\n",
       "    <tr>\n",
       "      <th>12.0</th>\n",
       "      <td>139.800</td>\n",
       "      <td>143</td>\n",
       "      <td>245.954895</td>\n",
       "      <td>2399.90</td>\n",
       "      <td>34.90</td>\n",
       "    </tr>\n",
       "    <tr>\n",
       "      <th>14.0</th>\n",
       "      <td>125.450</td>\n",
       "      <td>14</td>\n",
       "      <td>143.927857</td>\n",
       "      <td>399.90</td>\n",
       "      <td>58.67</td>\n",
       "    </tr>\n",
       "    <tr>\n",
       "      <th>13.0</th>\n",
       "      <td>110.000</td>\n",
       "      <td>16</td>\n",
       "      <td>115.386250</td>\n",
       "      <td>259.99</td>\n",
       "      <td>10.90</td>\n",
       "    </tr>\n",
       "    <tr>\n",
       "      <th>6.0</th>\n",
       "      <td>110.000</td>\n",
       "      <td>4109</td>\n",
       "      <td>164.169942</td>\n",
       "      <td>3899.70</td>\n",
       "      <td>12.17</td>\n",
       "    </tr>\n",
       "    <tr>\n",
       "      <th>5.0</th>\n",
       "      <td>99.900</td>\n",
       "      <td>5365</td>\n",
       "      <td>145.911545</td>\n",
       "      <td>4599.90</td>\n",
       "      <td>8.03</td>\n",
       "    </tr>\n",
       "    <tr>\n",
       "      <th>11.0</th>\n",
       "      <td>97.400</td>\n",
       "      <td>35</td>\n",
       "      <td>106.852571</td>\n",
       "      <td>369.00</td>\n",
       "      <td>24.90</td>\n",
       "    </tr>\n",
       "    <tr>\n",
       "      <th>4.0</th>\n",
       "      <td>92.000</td>\n",
       "      <td>7232</td>\n",
       "      <td>132.839403</td>\n",
       "      <td>2999.99</td>\n",
       "      <td>6.98</td>\n",
       "    </tr>\n",
       "    <tr>\n",
       "      <th>7.0</th>\n",
       "      <td>89.990</td>\n",
       "      <td>1782</td>\n",
       "      <td>142.536448</td>\n",
       "      <td>1597.35</td>\n",
       "      <td>8.90</td>\n",
       "    </tr>\n",
       "    <tr>\n",
       "      <th>3.0</th>\n",
       "      <td>88.000</td>\n",
       "      <td>10593</td>\n",
       "      <td>114.884234</td>\n",
       "      <td>2299.95</td>\n",
       "      <td>3.82</td>\n",
       "    </tr>\n",
       "    <tr>\n",
       "      <th>2.0</th>\n",
       "      <td>86.900</td>\n",
       "      <td>12091</td>\n",
       "      <td>101.949429</td>\n",
       "      <td>1589.96</td>\n",
       "      <td>3.49</td>\n",
       "    </tr>\n",
       "    <tr>\n",
       "      <th>9.0</th>\n",
       "      <td>84.990</td>\n",
       "      <td>704</td>\n",
       "      <td>147.141037</td>\n",
       "      <td>1359.00</td>\n",
       "      <td>16.90</td>\n",
       "    </tr>\n",
       "    <tr>\n",
       "      <th>0.0</th>\n",
       "      <td>64.640</td>\n",
       "      <td>2</td>\n",
       "      <td>64.640000</td>\n",
       "      <td>83.38</td>\n",
       "      <td>45.90</td>\n",
       "    </tr>\n",
       "    <tr>\n",
       "      <th>1.0</th>\n",
       "      <td>59.990</td>\n",
       "      <td>47548</td>\n",
       "      <td>98.444701</td>\n",
       "      <td>13440.00</td>\n",
       "      <td>2.00</td>\n",
       "    </tr>\n",
       "  </tbody>\n",
       "</table>\n",
       "</div>"
      ],
      "text/plain": [
       "             order_products_value                                     \n",
       "                           median  count        mean       max     min\n",
       "installments                                                          \n",
       "24.0                      457.000     25  501.768800   1999.90   69.99\n",
       "20.0                      264.945     14  402.927143   1200.00   44.90\n",
       "15.0                      230.900     79  381.951519   3599.00   51.90\n",
       "18.0                      230.000     31  419.612903   1599.99   35.90\n",
       "23.0                      216.000      1  216.000000    216.00  216.00\n",
       "22.0                      194.895      2  194.895000    209.99  179.80\n",
       "10.0                      179.990   5803  312.364208   9798.00    7.80\n",
       "8.0                       169.000   4392  248.713472   6735.00    9.99\n",
       "19.0                      159.900      3  163.293333    184.99  144.99\n",
       "21.0                      157.495      2  157.495000    165.00  149.99\n",
       "17.0                      151.000      4  147.625000    155.50  133.00\n",
       "16.0                      148.000      8  161.450000    285.00  129.90\n",
       "12.0                      139.800    143  245.954895   2399.90   34.90\n",
       "14.0                      125.450     14  143.927857    399.90   58.67\n",
       "13.0                      110.000     16  115.386250    259.99   10.90\n",
       "6.0                       110.000   4109  164.169942   3899.70   12.17\n",
       "5.0                        99.900   5365  145.911545   4599.90    8.03\n",
       "11.0                       97.400     35  106.852571    369.00   24.90\n",
       "4.0                        92.000   7232  132.839403   2999.99    6.98\n",
       "7.0                        89.990   1782  142.536448   1597.35    8.90\n",
       "3.0                        88.000  10593  114.884234   2299.95    3.82\n",
       "2.0                        86.900  12091  101.949429   1589.96    3.49\n",
       "9.0                        84.990    704  147.141037   1359.00   16.90\n",
       "0.0                        64.640      2   64.640000     83.38   45.90\n",
       "1.0                        59.990  47548   98.444701  13440.00    2.00"
      ]
     },
     "execution_count": 185,
     "metadata": {},
     "output_type": "execute_result"
    }
   ],
   "source": [
    "grouped_installments = (df_olist.groupby('installments')[['order_products_value']]\n",
    "                            .agg({'order_products_value':['median', 'count', 'mean','max','min']})).sort_values(by=('order_products_value','median'), ascending=False)\n",
    "\n",
    "grouped_installments"
   ]
  },
  {
   "cell_type": "markdown",
   "metadata": {},
   "source": [
    "### 2.1.4 Análises de pedidos diários\n",
    "\n",
    "### 2.1.4 *Daily Orders analysis*"
   ]
  },
  {
   "cell_type": "code",
   "execution_count": 186,
   "metadata": {},
   "outputs": [
    {
     "data": {
      "text/html": [
       "<div>\n",
       "<style scoped>\n",
       "    .dataframe tbody tr th:only-of-type {\n",
       "        vertical-align: middle;\n",
       "    }\n",
       "\n",
       "    .dataframe tbody tr th {\n",
       "        vertical-align: top;\n",
       "    }\n",
       "\n",
       "    .dataframe thead th {\n",
       "        text-align: right;\n",
       "    }\n",
       "</style>\n",
       "<table border=\"1\" class=\"dataframe\">\n",
       "  <thead>\n",
       "    <tr style=\"text-align: right;\">\n",
       "      <th></th>\n",
       "      <th>order_approved_at</th>\n",
       "    </tr>\n",
       "    <tr>\n",
       "      <th>order_approved_at</th>\n",
       "      <th></th>\n",
       "    </tr>\n",
       "  </thead>\n",
       "  <tbody>\n",
       "    <tr>\n",
       "      <th>0.0</th>\n",
       "      <td>12842</td>\n",
       "    </tr>\n",
       "    <tr>\n",
       "      <th>1.0</th>\n",
       "      <td>19250</td>\n",
       "    </tr>\n",
       "    <tr>\n",
       "      <th>2.0</th>\n",
       "      <td>15885</td>\n",
       "    </tr>\n",
       "    <tr>\n",
       "      <th>3.0</th>\n",
       "      <td>15326</td>\n",
       "    </tr>\n",
       "    <tr>\n",
       "      <th>4.0</th>\n",
       "      <td>14747</td>\n",
       "    </tr>\n",
       "    <tr>\n",
       "      <th>5.0</th>\n",
       "      <td>12535</td>\n",
       "    </tr>\n",
       "    <tr>\n",
       "      <th>6.0</th>\n",
       "      <td>9397</td>\n",
       "    </tr>\n",
       "  </tbody>\n",
       "</table>\n",
       "</div>"
      ],
      "text/plain": [
       "                   order_approved_at\n",
       "order_approved_at                   \n",
       "0.0                            12842\n",
       "1.0                            19250\n",
       "2.0                            15885\n",
       "3.0                            15326\n",
       "4.0                            14747\n",
       "5.0                            12535\n",
       "6.0                             9397"
      ]
     },
     "execution_count": 186,
     "metadata": {},
     "output_type": "execute_result"
    }
   ],
   "source": [
    "order_daily = df_olist[['order_approved_at']].groupby(df_olist['order_approved_at'].dt.dayofweek.sort_index()).count()\n",
    "order_daily"
   ]
  },
  {
   "cell_type": "code",
   "execution_count": 187,
   "metadata": {},
   "outputs": [
    {
     "data": {
      "text/html": [
       "<div>\n",
       "<style scoped>\n",
       "    .dataframe tbody tr th:only-of-type {\n",
       "        vertical-align: middle;\n",
       "    }\n",
       "\n",
       "    .dataframe tbody tr th {\n",
       "        vertical-align: top;\n",
       "    }\n",
       "\n",
       "    .dataframe thead th {\n",
       "        text-align: right;\n",
       "    }\n",
       "</style>\n",
       "<table border=\"1\" class=\"dataframe\">\n",
       "  <thead>\n",
       "    <tr style=\"text-align: right;\">\n",
       "      <th></th>\n",
       "      <th>order_approved_at</th>\n",
       "      <th>num_of_orders</th>\n",
       "    </tr>\n",
       "  </thead>\n",
       "  <tbody>\n",
       "    <tr>\n",
       "      <th>0</th>\n",
       "      <td>0.0</td>\n",
       "      <td>12842</td>\n",
       "    </tr>\n",
       "    <tr>\n",
       "      <th>1</th>\n",
       "      <td>1.0</td>\n",
       "      <td>19250</td>\n",
       "    </tr>\n",
       "    <tr>\n",
       "      <th>2</th>\n",
       "      <td>2.0</td>\n",
       "      <td>15885</td>\n",
       "    </tr>\n",
       "    <tr>\n",
       "      <th>3</th>\n",
       "      <td>3.0</td>\n",
       "      <td>15326</td>\n",
       "    </tr>\n",
       "    <tr>\n",
       "      <th>4</th>\n",
       "      <td>4.0</td>\n",
       "      <td>14747</td>\n",
       "    </tr>\n",
       "    <tr>\n",
       "      <th>5</th>\n",
       "      <td>5.0</td>\n",
       "      <td>12535</td>\n",
       "    </tr>\n",
       "    <tr>\n",
       "      <th>6</th>\n",
       "      <td>6.0</td>\n",
       "      <td>9397</td>\n",
       "    </tr>\n",
       "  </tbody>\n",
       "</table>\n",
       "</div>"
      ],
      "text/plain": [
       "   order_approved_at  num_of_orders\n",
       "0                0.0          12842\n",
       "1                1.0          19250\n",
       "2                2.0          15885\n",
       "3                3.0          15326\n",
       "4                4.0          14747\n",
       "5                5.0          12535\n",
       "6                6.0           9397"
      ]
     },
     "execution_count": 187,
     "metadata": {},
     "output_type": "execute_result"
    }
   ],
   "source": [
    "daily_trend_index = order_daily.rename(columns = {'order_approved_at': 'num_of_orders'})\n",
    "daily_trend = daily_trend_index.reset_index()\n",
    "daily_trend\n"
   ]
  },
  {
   "cell_type": "code",
   "execution_count": 188,
   "metadata": {},
   "outputs": [
    {
     "data": {
      "text/html": [
       "<div>\n",
       "<style scoped>\n",
       "    .dataframe tbody tr th:only-of-type {\n",
       "        vertical-align: middle;\n",
       "    }\n",
       "\n",
       "    .dataframe tbody tr th {\n",
       "        vertical-align: top;\n",
       "    }\n",
       "\n",
       "    .dataframe thead th {\n",
       "        text-align: right;\n",
       "    }\n",
       "</style>\n",
       "<table border=\"1\" class=\"dataframe\">\n",
       "  <thead>\n",
       "    <tr style=\"text-align: right;\">\n",
       "      <th></th>\n",
       "      <th>order_approved_at</th>\n",
       "      <th>num_of_orders</th>\n",
       "    </tr>\n",
       "  </thead>\n",
       "  <tbody>\n",
       "    <tr>\n",
       "      <th>0</th>\n",
       "      <td>Monday</td>\n",
       "      <td>12842</td>\n",
       "    </tr>\n",
       "    <tr>\n",
       "      <th>1</th>\n",
       "      <td>Tuesday</td>\n",
       "      <td>19250</td>\n",
       "    </tr>\n",
       "    <tr>\n",
       "      <th>2</th>\n",
       "      <td>Wednesday</td>\n",
       "      <td>15885</td>\n",
       "    </tr>\n",
       "    <tr>\n",
       "      <th>3</th>\n",
       "      <td>Thursday</td>\n",
       "      <td>15326</td>\n",
       "    </tr>\n",
       "    <tr>\n",
       "      <th>4</th>\n",
       "      <td>Friday</td>\n",
       "      <td>14747</td>\n",
       "    </tr>\n",
       "    <tr>\n",
       "      <th>5</th>\n",
       "      <td>Saturday</td>\n",
       "      <td>12535</td>\n",
       "    </tr>\n",
       "    <tr>\n",
       "      <th>6</th>\n",
       "      <td>Sunday</td>\n",
       "      <td>9397</td>\n",
       "    </tr>\n",
       "  </tbody>\n",
       "</table>\n",
       "</div>"
      ],
      "text/plain": [
       "  order_approved_at  num_of_orders\n",
       "0            Monday          12842\n",
       "1           Tuesday          19250\n",
       "2         Wednesday          15885\n",
       "3          Thursday          15326\n",
       "4            Friday          14747\n",
       "5          Saturday          12535\n",
       "6            Sunday           9397"
      ]
     },
     "execution_count": 188,
     "metadata": {},
     "output_type": "execute_result"
    }
   ],
   "source": [
    "week_list = ['Monday','Tuesday','Wednesday','Thursday','Friday','Saturday','Sunday']\n",
    "\n",
    "for day in range(7):\n",
    "  daily_trend['order_approved_at'] = daily_trend['order_approved_at'].replace(day,week_list[day])\n",
    "daily_trend"
   ]
  },
  {
   "cell_type": "code",
   "execution_count": 189,
   "metadata": {},
   "outputs": [
    {
     "data": {
      "image/png": "[encoded data removed]",
      "text/plain": [
       "<Figure size 1080x432 with 1 Axes>"
      ]
     },
     "metadata": {},
     "output_type": "display_data"
    }
   ],
   "source": [
    "plt.figure(figsize=(15,6))\n",
    "sns.barplot(data=daily_trend, x='order_approved_at', y='num_of_orders', color = '#00b4d8')\n",
    "plt.xlabel('days',fontsize = 13, color='#6a6e70')\n",
    "plt.ylabel('# of orders', fontsize = 13, color='#6a6e70')\n",
    "plt.title('Orders by weekday',fontsize = 16,color='#6a6e70')\n",
    "plt.show()"
   ]
  },
  {
   "cell_type": "code",
   "execution_count": 190,
   "metadata": {},
   "outputs": [],
   "source": [
    "df_olist['order_approved_at'] = df_olist['order_approved_at'].dt.weekday\n"
   ]
  },
  {
   "cell_type": "code",
   "execution_count": 191,
   "metadata": {},
   "outputs": [],
   "source": [
    "day_dict = { 0: 'Monday', 1:'Tuesday', 2:'Wednesday', 3:'Thursday', 4:'Friday', 5:'Saturday', 6:'Sunday', \n",
    "}\n",
    "\n",
    "df_olist['order_approved_at'] = df_olist['order_approved_at'].map(day_dict)\n"
   ]
  },
  {
   "cell_type": "code",
   "execution_count": 192,
   "metadata": {},
   "outputs": [
    {
     "data": {
      "text/plain": [
       "0        Wednesday\n",
       "1           Sunday\n",
       "2           Monday\n",
       "3           Sunday\n",
       "4          Tuesday\n",
       "           ...    \n",
       "99995    Wednesday\n",
       "99996    Wednesday\n",
       "99997     Saturday\n",
       "99998      Tuesday\n",
       "99999     Saturday\n",
       "Name: order_approved_at, Length: 100000, dtype: object"
      ]
     },
     "execution_count": 192,
     "metadata": {},
     "output_type": "execute_result"
    }
   ],
   "source": [
    "df_olist['order_approved_at']"
   ]
  },
  {
   "cell_type": "markdown",
   "metadata": {},
   "source": [
    "### <span style =' color:#FCA311'>2.2 Análise da avaliação do consumidor </span>\n",
    "### <span style =' color:#FCA311'> *2.2 Customer review analysis* </span>\n"
   ]
  },
  {
   "cell_type": "markdown",
   "metadata": {},
   "source": [
    "### 2.2.1 Avaliacao notas por categoria - Produtos com menor nota\n",
    "\n",
    "### 2.2.1 *Customer rate by category* - Products with lowest score\n",
    "\n"
   ]
  },
  {
   "cell_type": "code",
   "execution_count": 193,
   "metadata": {},
   "outputs": [
    {
     "data": {
      "text/plain": [
       "Index(['order_id', 'order_status', 'order_products_value',\n",
       "       'order_freight_value', 'order_items_qty', 'order_sellers_qty',\n",
       "       'order_purchase_timestamp', 'order_approved_at',\n",
       "       'order_estimated_delivery_date', 'order_delivered_customer_date',\n",
       "       'customer_id', 'customer_city', 'customer_state',\n",
       "       'customer_zip_code_prefix', 'product_category_name',\n",
       "       'product_name_length', 'product_description_length',\n",
       "       'product_photos_qty', 'product_id', 'review_id', 'review_score',\n",
       "       'review_comment_title', 'review_comment_message',\n",
       "       'review_creation_date', 'review_answer_timestamp', 'categories_english',\n",
       "       'installments', 'payment_type', 'order_total_value', 'time_buy_arrive',\n",
       "       'time_expected_arrive', 'diff_real_est_arrival', 'purchase_hour',\n",
       "       'region'],\n",
       "      dtype='object')"
      ]
     },
     "execution_count": 193,
     "metadata": {},
     "output_type": "execute_result"
    }
   ],
   "source": [
    "df_olist.columns"
   ]
  },
  {
   "cell_type": "code",
   "execution_count": 194,
   "metadata": {},
   "outputs": [
    {
     "data": {
      "text/html": [
       "<div>\n",
       "<style scoped>\n",
       "    .dataframe tbody tr th:only-of-type {\n",
       "        vertical-align: middle;\n",
       "    }\n",
       "\n",
       "    .dataframe tbody tr th {\n",
       "        vertical-align: top;\n",
       "    }\n",
       "\n",
       "    .dataframe thead th {\n",
       "        text-align: right;\n",
       "    }\n",
       "</style>\n",
       "<table border=\"1\" class=\"dataframe\">\n",
       "  <thead>\n",
       "    <tr style=\"text-align: right;\">\n",
       "      <th></th>\n",
       "      <th>categories_english</th>\n",
       "      <th>count</th>\n",
       "      <th>mean</th>\n",
       "      <th>median</th>\n",
       "    </tr>\n",
       "  </thead>\n",
       "  <tbody>\n",
       "    <tr>\n",
       "      <th>8</th>\n",
       "      <td>books general interest</td>\n",
       "      <td>436</td>\n",
       "      <td>4.454128</td>\n",
       "      <td>5.0</td>\n",
       "    </tr>\n",
       "    <tr>\n",
       "      <th>2</th>\n",
       "      <td>art</td>\n",
       "      <td>88</td>\n",
       "      <td>4.420455</td>\n",
       "      <td>5.0</td>\n",
       "    </tr>\n",
       "    <tr>\n",
       "      <th>10</th>\n",
       "      <td>books technical</td>\n",
       "      <td>113</td>\n",
       "      <td>4.380531</td>\n",
       "      <td>5.0</td>\n",
       "    </tr>\n",
       "    <tr>\n",
       "      <th>37</th>\n",
       "      <td>food drink</td>\n",
       "      <td>243</td>\n",
       "      <td>4.362140</td>\n",
       "      <td>5.0</td>\n",
       "    </tr>\n",
       "    <tr>\n",
       "      <th>53</th>\n",
       "      <td>luggage accessories</td>\n",
       "      <td>1059</td>\n",
       "      <td>4.318225</td>\n",
       "      <td>5.0</td>\n",
       "    </tr>\n",
       "    <tr>\n",
       "      <th>38</th>\n",
       "      <td>furniture bedroom</td>\n",
       "      <td>59</td>\n",
       "      <td>4.288136</td>\n",
       "      <td>5.0</td>\n",
       "    </tr>\n",
       "    <tr>\n",
       "      <th>0</th>\n",
       "      <td>agro industry and commerce</td>\n",
       "      <td>118</td>\n",
       "      <td>4.237288</td>\n",
       "      <td>5.0</td>\n",
       "    </tr>\n",
       "    <tr>\n",
       "      <th>14</th>\n",
       "      <td>computers</td>\n",
       "      <td>144</td>\n",
       "      <td>4.215278</td>\n",
       "      <td>5.0</td>\n",
       "    </tr>\n",
       "    <tr>\n",
       "      <th>45</th>\n",
       "      <td>home appliances 2</td>\n",
       "      <td>172</td>\n",
       "      <td>4.203488</td>\n",
       "      <td>5.0</td>\n",
       "    </tr>\n",
       "    <tr>\n",
       "      <th>31</th>\n",
       "      <td>fashion shoes</td>\n",
       "      <td>375</td>\n",
       "      <td>4.200000</td>\n",
       "      <td>5.0</td>\n",
       "    </tr>\n",
       "    <tr>\n",
       "      <th>25</th>\n",
       "      <td>dvds blu ray</td>\n",
       "      <td>66</td>\n",
       "      <td>4.196970</td>\n",
       "      <td>5.0</td>\n",
       "    </tr>\n",
       "    <tr>\n",
       "      <th>28</th>\n",
       "      <td>fashion bags accessories</td>\n",
       "      <td>2809</td>\n",
       "      <td>4.184763</td>\n",
       "      <td>5.0</td>\n",
       "    </tr>\n",
       "    <tr>\n",
       "      <th>50</th>\n",
       "      <td>industry commerce and business</td>\n",
       "      <td>83</td>\n",
       "      <td>4.180723</td>\n",
       "      <td>5.0</td>\n",
       "    </tr>\n",
       "    <tr>\n",
       "      <th>66</th>\n",
       "      <td>stationery</td>\n",
       "      <td>1945</td>\n",
       "      <td>4.179434</td>\n",
       "      <td>5.0</td>\n",
       "    </tr>\n",
       "    <tr>\n",
       "      <th>12</th>\n",
       "      <td>christmas supplies</td>\n",
       "      <td>106</td>\n",
       "      <td>4.179245</td>\n",
       "      <td>5.0</td>\n",
       "    </tr>\n",
       "    <tr>\n",
       "      <th>43</th>\n",
       "      <td>health beauty</td>\n",
       "      <td>7939</td>\n",
       "      <td>4.176093</td>\n",
       "      <td>5.0</td>\n",
       "    </tr>\n",
       "    <tr>\n",
       "      <th>36</th>\n",
       "      <td>food</td>\n",
       "      <td>247</td>\n",
       "      <td>4.170040</td>\n",
       "      <td>5.0</td>\n",
       "    </tr>\n",
       "    <tr>\n",
       "      <th>69</th>\n",
       "      <td>toys</td>\n",
       "      <td>4114</td>\n",
       "      <td>4.160914</td>\n",
       "      <td>5.0</td>\n",
       "    </tr>\n",
       "    <tr>\n",
       "      <th>59</th>\n",
       "      <td>perfumery</td>\n",
       "      <td>3823</td>\n",
       "      <td>4.158253</td>\n",
       "      <td>5.0</td>\n",
       "    </tr>\n",
       "    <tr>\n",
       "      <th>20</th>\n",
       "      <td>cool stuff</td>\n",
       "      <td>4315</td>\n",
       "      <td>4.154345</td>\n",
       "      <td>5.0</td>\n",
       "    </tr>\n",
       "    <tr>\n",
       "      <th>60</th>\n",
       "      <td>pet shop</td>\n",
       "      <td>1909</td>\n",
       "      <td>4.154007</td>\n",
       "      <td>5.0</td>\n",
       "    </tr>\n",
       "    <tr>\n",
       "      <th>63</th>\n",
       "      <td>small appliances</td>\n",
       "      <td>666</td>\n",
       "      <td>4.148649</td>\n",
       "      <td>5.0</td>\n",
       "    </tr>\n",
       "    <tr>\n",
       "      <th>65</th>\n",
       "      <td>sports leisure</td>\n",
       "      <td>7832</td>\n",
       "      <td>4.139811</td>\n",
       "      <td>5.0</td>\n",
       "    </tr>\n",
       "    <tr>\n",
       "      <th>56</th>\n",
       "      <td>musical instruments</td>\n",
       "      <td>566</td>\n",
       "      <td>4.130742</td>\n",
       "      <td>5.0</td>\n",
       "    </tr>\n",
       "    <tr>\n",
       "      <th>26</th>\n",
       "      <td>electronics</td>\n",
       "      <td>1687</td>\n",
       "      <td>4.112033</td>\n",
       "      <td>5.0</td>\n",
       "    </tr>\n",
       "    <tr>\n",
       "      <th>51</th>\n",
       "      <td>kitchen dining laundry garden furniture</td>\n",
       "      <td>230</td>\n",
       "      <td>4.104348</td>\n",
       "      <td>5.0</td>\n",
       "    </tr>\n",
       "    <tr>\n",
       "      <th>42</th>\n",
       "      <td>garden tools</td>\n",
       "      <td>4570</td>\n",
       "      <td>4.096061</td>\n",
       "      <td>5.0</td>\n",
       "    </tr>\n",
       "    <tr>\n",
       "      <th>49</th>\n",
       "      <td>housewares</td>\n",
       "      <td>6230</td>\n",
       "      <td>4.093900</td>\n",
       "      <td>5.0</td>\n",
       "    </tr>\n",
       "    <tr>\n",
       "      <th>67</th>\n",
       "      <td>tablets printing image</td>\n",
       "      <td>107</td>\n",
       "      <td>4.084112</td>\n",
       "      <td>5.0</td>\n",
       "    </tr>\n",
       "    <tr>\n",
       "      <th>44</th>\n",
       "      <td>home appliances</td>\n",
       "      <td>930</td>\n",
       "      <td>4.083871</td>\n",
       "      <td>5.0</td>\n",
       "    </tr>\n",
       "    <tr>\n",
       "      <th>21</th>\n",
       "      <td>costruction tools garden</td>\n",
       "      <td>223</td>\n",
       "      <td>4.080717</td>\n",
       "      <td>5.0</td>\n",
       "    </tr>\n",
       "    <tr>\n",
       "      <th>24</th>\n",
       "      <td>drinks</td>\n",
       "      <td>100</td>\n",
       "      <td>4.080000</td>\n",
       "      <td>5.0</td>\n",
       "    </tr>\n",
       "    <tr>\n",
       "      <th>4</th>\n",
       "      <td>audio</td>\n",
       "      <td>194</td>\n",
       "      <td>4.046392</td>\n",
       "      <td>5.0</td>\n",
       "    </tr>\n",
       "    <tr>\n",
       "      <th>70</th>\n",
       "      <td>watches gifts</td>\n",
       "      <td>7130</td>\n",
       "      <td>4.022440</td>\n",
       "      <td>5.0</td>\n",
       "    </tr>\n",
       "    <tr>\n",
       "      <th>68</th>\n",
       "      <td>telephony</td>\n",
       "      <td>3108</td>\n",
       "      <td>3.999035</td>\n",
       "      <td>5.0</td>\n",
       "    </tr>\n",
       "    <tr>\n",
       "      <th>16</th>\n",
       "      <td>consoles games</td>\n",
       "      <td>1098</td>\n",
       "      <td>3.998179</td>\n",
       "      <td>5.0</td>\n",
       "    </tr>\n",
       "    <tr>\n",
       "      <th>5</th>\n",
       "      <td>auto</td>\n",
       "      <td>3244</td>\n",
       "      <td>3.994451</td>\n",
       "      <td>5.0</td>\n",
       "    </tr>\n",
       "    <tr>\n",
       "      <th>15</th>\n",
       "      <td>computers accessories</td>\n",
       "      <td>6329</td>\n",
       "      <td>3.991152</td>\n",
       "      <td>5.0</td>\n",
       "    </tr>\n",
       "    <tr>\n",
       "      <th>18</th>\n",
       "      <td>construction tools lights</td>\n",
       "      <td>92</td>\n",
       "      <td>3.989130</td>\n",
       "      <td>5.0</td>\n",
       "    </tr>\n",
       "    <tr>\n",
       "      <th>6</th>\n",
       "      <td>baby</td>\n",
       "      <td>2364</td>\n",
       "      <td>3.984772</td>\n",
       "      <td>5.0</td>\n",
       "    </tr>\n",
       "    <tr>\n",
       "      <th>54</th>\n",
       "      <td>market place</td>\n",
       "      <td>507</td>\n",
       "      <td>3.970414</td>\n",
       "      <td>5.0</td>\n",
       "    </tr>\n",
       "    <tr>\n",
       "      <th>48</th>\n",
       "      <td>home construction</td>\n",
       "      <td>126</td>\n",
       "      <td>3.968254</td>\n",
       "      <td>5.0</td>\n",
       "    </tr>\n",
       "    <tr>\n",
       "      <th>40</th>\n",
       "      <td>furniture living room</td>\n",
       "      <td>382</td>\n",
       "      <td>3.960733</td>\n",
       "      <td>5.0</td>\n",
       "    </tr>\n",
       "    <tr>\n",
       "      <th>33</th>\n",
       "      <td>fashion underwear beach</td>\n",
       "      <td>191</td>\n",
       "      <td>3.958115</td>\n",
       "      <td>4.0</td>\n",
       "    </tr>\n",
       "    <tr>\n",
       "      <th>39</th>\n",
       "      <td>furniture decor</td>\n",
       "      <td>7728</td>\n",
       "      <td>3.917443</td>\n",
       "      <td>5.0</td>\n",
       "    </tr>\n",
       "    <tr>\n",
       "      <th>7</th>\n",
       "      <td>bed bath table</td>\n",
       "      <td>10435</td>\n",
       "      <td>3.905702</td>\n",
       "      <td>5.0</td>\n",
       "    </tr>\n",
       "    <tr>\n",
       "      <th>1</th>\n",
       "      <td>air conditioning</td>\n",
       "      <td>239</td>\n",
       "      <td>3.903766</td>\n",
       "      <td>5.0</td>\n",
       "    </tr>\n",
       "    <tr>\n",
       "      <th>17</th>\n",
       "      <td>construction tools construction</td>\n",
       "      <td>335</td>\n",
       "      <td>3.895522</td>\n",
       "      <td>5.0</td>\n",
       "    </tr>\n",
       "    <tr>\n",
       "      <th>34</th>\n",
       "      <td>fixed telephony</td>\n",
       "      <td>266</td>\n",
       "      <td>3.890977</td>\n",
       "      <td>5.0</td>\n",
       "    </tr>\n",
       "    <tr>\n",
       "      <th>27</th>\n",
       "      <td>fashio female clothing</td>\n",
       "      <td>59</td>\n",
       "      <td>3.864407</td>\n",
       "      <td>5.0</td>\n",
       "    </tr>\n",
       "    <tr>\n",
       "      <th>19</th>\n",
       "      <td>construction tools safety</td>\n",
       "      <td>94</td>\n",
       "      <td>3.765957</td>\n",
       "      <td>4.0</td>\n",
       "    </tr>\n",
       "    <tr>\n",
       "      <th>62</th>\n",
       "      <td>signaling and security</td>\n",
       "      <td>76</td>\n",
       "      <td>3.736842</td>\n",
       "      <td>4.0</td>\n",
       "    </tr>\n",
       "    <tr>\n",
       "      <th>47</th>\n",
       "      <td>home confort</td>\n",
       "      <td>572</td>\n",
       "      <td>3.732517</td>\n",
       "      <td>4.0</td>\n",
       "    </tr>\n",
       "    <tr>\n",
       "      <th>30</th>\n",
       "      <td>fashion male clothing</td>\n",
       "      <td>158</td>\n",
       "      <td>3.683544</td>\n",
       "      <td>4.0</td>\n",
       "    </tr>\n",
       "    <tr>\n",
       "      <th>57</th>\n",
       "      <td>office furniture</td>\n",
       "      <td>1685</td>\n",
       "      <td>3.562611</td>\n",
       "      <td>4.0</td>\n",
       "    </tr>\n",
       "  </tbody>\n",
       "</table>\n",
       "</div>"
      ],
      "text/plain": [
       "                         categories_english  count      mean  median\n",
       "8                    books general interest    436  4.454128     5.0\n",
       "2                                       art     88  4.420455     5.0\n",
       "10                          books technical    113  4.380531     5.0\n",
       "37                               food drink    243  4.362140     5.0\n",
       "53                      luggage accessories   1059  4.318225     5.0\n",
       "38                        furniture bedroom     59  4.288136     5.0\n",
       "0                agro industry and commerce    118  4.237288     5.0\n",
       "14                                computers    144  4.215278     5.0\n",
       "45                        home appliances 2    172  4.203488     5.0\n",
       "31                            fashion shoes    375  4.200000     5.0\n",
       "25                             dvds blu ray     66  4.196970     5.0\n",
       "28                 fashion bags accessories   2809  4.184763     5.0\n",
       "50           industry commerce and business     83  4.180723     5.0\n",
       "66                               stationery   1945  4.179434     5.0\n",
       "12                       christmas supplies    106  4.179245     5.0\n",
       "43                            health beauty   7939  4.176093     5.0\n",
       "36                                     food    247  4.170040     5.0\n",
       "69                                     toys   4114  4.160914     5.0\n",
       "59                                perfumery   3823  4.158253     5.0\n",
       "20                               cool stuff   4315  4.154345     5.0\n",
       "60                                 pet shop   1909  4.154007     5.0\n",
       "63                         small appliances    666  4.148649     5.0\n",
       "65                           sports leisure   7832  4.139811     5.0\n",
       "56                      musical instruments    566  4.130742     5.0\n",
       "26                              electronics   1687  4.112033     5.0\n",
       "51  kitchen dining laundry garden furniture    230  4.104348     5.0\n",
       "42                             garden tools   4570  4.096061     5.0\n",
       "49                               housewares   6230  4.093900     5.0\n",
       "67                   tablets printing image    107  4.084112     5.0\n",
       "44                          home appliances    930  4.083871     5.0\n",
       "21                 costruction tools garden    223  4.080717     5.0\n",
       "24                                   drinks    100  4.080000     5.0\n",
       "4                                     audio    194  4.046392     5.0\n",
       "70                            watches gifts   7130  4.022440     5.0\n",
       "68                                telephony   3108  3.999035     5.0\n",
       "16                           consoles games   1098  3.998179     5.0\n",
       "5                                      auto   3244  3.994451     5.0\n",
       "15                    computers accessories   6329  3.991152     5.0\n",
       "18                construction tools lights     92  3.989130     5.0\n",
       "6                                      baby   2364  3.984772     5.0\n",
       "54                             market place    507  3.970414     5.0\n",
       "48                        home construction    126  3.968254     5.0\n",
       "40                    furniture living room    382  3.960733     5.0\n",
       "33                  fashion underwear beach    191  3.958115     4.0\n",
       "39                          furniture decor   7728  3.917443     5.0\n",
       "7                            bed bath table  10435  3.905702     5.0\n",
       "1                          air conditioning    239  3.903766     5.0\n",
       "17          construction tools construction    335  3.895522     5.0\n",
       "34                          fixed telephony    266  3.890977     5.0\n",
       "27                   fashio female clothing     59  3.864407     5.0\n",
       "19                construction tools safety     94  3.765957     4.0\n",
       "62                   signaling and security     76  3.736842     4.0\n",
       "47                             home confort    572  3.732517     4.0\n",
       "30                    fashion male clothing    158  3.683544     4.0\n",
       "57                         office furniture   1685  3.562611     4.0"
      ]
     },
     "execution_count": 194,
     "metadata": {},
     "output_type": "execute_result"
    }
   ],
   "source": [
    "# creating an aggregation\n",
    "avg_score_per_category = df_olist.groupby('categories_english', as_index=False).agg({'review_score': ['count', 'mean', 'median']})\n",
    "avg_score_per_category.columns = ['categories_english', 'count', 'mean', 'median']\n",
    "avg_score_per_category = avg_score_per_category[avg_score_per_category['count'] > 50]\n",
    "avg_score_per_category = avg_score_per_category.sort_values(by='mean', ascending=False)\n",
    "avg_score_per_category"
   ]
  },
  {
   "cell_type": "markdown",
   "metadata": {},
   "source": [
    "### 2.2.2 Análise do score de revisões\n",
    "\n",
    "### 2.2.2 *Review score analysis*"
   ]
  },
  {
   "cell_type": "code",
   "execution_count": 195,
   "metadata": {},
   "outputs": [
    {
     "data": {
      "image/png": "[encoded data removed]",
      "text/plain": [
       "<Figure size 1080x720 with 1 Axes>"
      ]
     },
     "metadata": {},
     "output_type": "display_data"
    }
   ],
   "source": [
    "scores = pd.DataFrame(df_olist['review_score'].value_counts())\n",
    "\n",
    "# reseting index to manipulate created df\n",
    "\n",
    "scores.reset_index(inplace=True)\n",
    "plt.figure(figsize=(15,10))\n",
    "sns.barplot(data=scores, x='index', y='review_score', color='#00b4d8')\n",
    "plt.title('Score Frequency (1 to 5)', color='#6a6e70')\n",
    "plt.ylabel('Frequeny')\n",
    "plt.xlabel('score')\n",
    "plt.show()\n",
    "\n"
   ]
  },
  {
   "cell_type": "markdown",
   "metadata": {},
   "source": [
    "### 2.2.3 Análise de comentários\n",
    "### 2.2.3 *Review analysis*"
   ]
  },
  {
   "cell_type": "markdown",
   "metadata": {},
   "source": [
    "Primeiramente, será feita a análise exploratória para avaliar o comprimento das avaliações das compras que farão parte do corpus, além de verificar avaliações em branco ou nulas com o intuito de refinar a base para a análise de sentimento\n",
    "\n",
    "*Firstly, it will be done a exploratory analysis increasing the length of orders reviews that will integrate the corpus for the sentiment analysis, besides checking for null/blank reviews in order to remove outliers*"
   ]
  },
  {
   "cell_type": "markdown",
   "metadata": {},
   "source": [
    "#### 2.2.3.1 Comprimento das avaliações, avaliações nulas, registros duplicados\n",
    "\n",
    "#### 2.2.3.1 *Review length, null reviews, duplicated reviews*"
   ]
  },
  {
   "cell_type": "code",
   "execution_count": 196,
   "metadata": {},
   "outputs": [
    {
     "data": {
      "text/plain": [
       "count    42489.000000\n",
       "mean        67.999341\n",
       "std         53.316032\n",
       "min          1.000000\n",
       "25%         27.000000\n",
       "50%         52.000000\n",
       "75%         94.000000\n",
       "max        204.000000\n",
       "Name: review_comment_message, dtype: float64"
      ]
     },
     "execution_count": 196,
     "metadata": {},
     "output_type": "execute_result"
    }
   ],
   "source": [
    "df_olist['review_comment_message'].str.len().describe()"
   ]
  },
  {
   "cell_type": "markdown",
   "metadata": {},
   "source": [
    "#### 2.2.3.2 Avaliações nulas\n",
    "\n",
    "#### 2.2.3.2 *Null reviews*"
   ]
  },
  {
   "cell_type": "code",
   "execution_count": 197,
   "metadata": {},
   "outputs": [
    {
     "name": "stdout",
     "output_type": "stream",
     "text": [
      "Amount of null reviews: 57511\n"
     ]
    }
   ],
   "source": [
    "null_reviews=df_olist['review_comment_message'].isnull().sum()\n",
    "print(f'Amount of null reviews: {null_reviews}')"
   ]
  },
  {
   "cell_type": "markdown",
   "metadata": {},
   "source": [
    "#### 2.2.3.3 Registros duplicados\n",
    "\n",
    "#### 2.2.3.3 *Duplicated reviews*"
   ]
  },
  {
   "cell_type": "code",
   "execution_count": 198,
   "metadata": {},
   "outputs": [
    {
     "name": "stdout",
     "output_type": "stream",
     "text": [
      "Amount of duplicated reviews: 68782\n"
     ]
    }
   ],
   "source": [
    "duplicated_reviews=df_olist['review_comment_message'].duplicated(keep=False).sum()\n",
    "\n",
    "print(f'Amount of duplicated reviews: {duplicated_reviews}')\n"
   ]
  },
  {
   "cell_type": "code",
   "execution_count": 199,
   "metadata": {},
   "outputs": [
    {
     "name": "stdout",
     "output_type": "stream",
     "text": [
      "Amount of null reviews: 0\n",
      "Amount of duplicated reviews: 0\n"
     ]
    }
   ],
   "source": [
    "#removing blanks\n",
    "df_olist_review = df_olist\n",
    "df_olist_review= df_olist_review[~df_olist_review['review_comment_message'].isna()].reset_index(drop=True)\n",
    "\n",
    "#getting reviews with len higher than 3 - to assure that reviews with minimum semantic with one-word message such as \"bom\" (good) are captured\n",
    "\n",
    "df_olist_review = df_olist_review[df_olist_review['review_comment_message'].str.len()>3]\n",
    "\n",
    "\n",
    "#removing duplicates\n",
    "\n",
    "df_olist_review= df_olist_review.drop_duplicates('review_comment_message').reset_index(drop = True)\n",
    "\n",
    "\n",
    "null_reviews=df_olist_review['review_comment_message'].isnull().sum()\n",
    "print(f'Amount of null reviews: {null_reviews}')\n",
    "\n",
    "duplicated_reviews=df_olist_review['review_comment_message'].duplicated(keep=False).sum()\n",
    "\n",
    "print(f'Amount of duplicated reviews: {duplicated_reviews}')\n"
   ]
  },
  {
   "cell_type": "code",
   "execution_count": 200,
   "metadata": {},
   "outputs": [
    {
     "data": {
      "text/plain": [
       "(33728, 34)"
      ]
     },
     "execution_count": 200,
     "metadata": {},
     "output_type": "execute_result"
    }
   ],
   "source": [
    "df_olist_review.shape"
   ]
  },
  {
   "cell_type": "code",
   "execution_count": 201,
   "metadata": {},
   "outputs": [
    {
     "name": "stdout",
     "output_type": "stream",
     "text": [
      "count    33728.000000\n",
      "mean        78.118299\n",
      "std         51.641159\n",
      "min          4.000000\n",
      "25%         39.000000\n",
      "50%         62.000000\n",
      "75%        106.000000\n",
      "max        204.000000\n",
      "Name: review_comment_message, dtype: float64\n"
     ]
    }
   ],
   "source": [
    "print(df_olist_review['review_comment_message'].str.len().describe())\n"
   ]
  },
  {
   "cell_type": "markdown",
   "metadata": {},
   "source": [
    "#### Shortest review with semantic values after data cleaning contains 4 characters"
   ]
  },
  {
   "cell_type": "markdown",
   "metadata": {},
   "source": [
    "### 2.2.3 Verificação de comentários com comprimento igual a 4\n",
    "### 2.2.3 *Checking review messages with length equals to 4*"
   ]
  },
  {
   "cell_type": "code",
   "execution_count": 202,
   "metadata": {},
   "outputs": [
    {
     "name": "stdout",
     "output_type": "stream",
     "text": [
      " amount of 4-character review :17\n",
      "amei    1\n",
      "joia    1\n",
      "foda    1\n",
      "cadê    1\n",
      "ágil    1\n",
      "okok    1\n",
      "sdds    1\n",
      "para    1\n",
      "otmo    1\n",
      "show    1\n",
      "haha    1\n",
      "jjjj    1\n",
      "nice    1\n",
      "rdgs    1\n",
      "nnnn    1\n",
      "ruim    1\n",
      "zero    1\n",
      "Name: review_comment_message, dtype: int64\n"
     ]
    }
   ],
   "source": [
    "shortlist = df_olist_review['review_comment_message'][df_olist_review['review_comment_message'].str.len() == 4].count()\n",
    "print(f' amount of 4-character review :{shortlist}')\n",
    "shortlist_value = df_olist_review['review_comment_message'][df_olist_review['review_comment_message'].str.len() == 4].value_counts()\n",
    "print(f'{shortlist_value}')"
   ]
  },
  {
   "cell_type": "code",
   "execution_count": 203,
   "metadata": {},
   "outputs": [
    {
     "data": {
      "text/plain": [
       "amei    1\n",
       "show    1\n",
       "ruim    1\n",
       "nice    1\n",
       "otmo    1\n",
       "joia    1\n",
       "okok    1\n",
       "ágil    1\n",
       "zero    1\n",
       "Name: review_comment_message, dtype: int64"
      ]
     },
     "execution_count": 203,
     "metadata": {},
     "output_type": "execute_result"
    }
   ],
   "source": [
    "#removing messages with no semantic value for 4 characters\n",
    "short_filter = ['foda', 'cadê', 'sdds', 'para', 'haha', 'jjjj', 'rdgs', 'nnnn']\n",
    "\n",
    "df_olist_review = df_olist_review[df_olist_review['review_comment_message'].isin(short_filter)==False]\n",
    "shortlist_value= df_olist_review['review_comment_message'][df_olist_review['review_comment_message'].str.len() == 4].value_counts()\n",
    "shortlist_value"
   ]
  },
  {
   "cell_type": "code",
   "execution_count": 204,
   "metadata": {},
   "outputs": [
    {
     "data": {
      "text/plain": [
       "array(['muito bom', 'recomendo', 'excelente', 'nota 1000', 'amei tudo',\n",
       "       'muito boa', 'eu gostei', 'indicaria', 'foi otimo', 'magnífico',\n",
       "       'td rapido', 'mas é bom', 'maravilha', 'muito bem', 'confiavel',\n",
       "       'muito rui', 'paciência', 'esxelente', 'ótimo uso', 'eu aprovo',\n",
       "       'recomento', 'exerlente', 'bom preco', 'hum legal', 'eficiente',\n",
       "       'bom filme', 'confiável', 'ezcrlente', 'uma bosta', 'pertfeito',\n",
       "       'foi ótimo', 'revomendo', 'indicarei', 'não tenho', 'bonitinho',\n",
       "       'tudo joia', 'linda cor', 'reocmendo', 'kd o rôdo', 'muito rop',\n",
       "       'escelente', 'esperando', 'otimo bom', 'bom preço', 'ruim tudo',\n",
       "       'muito bim', 'tdo certo', 'tranquilo', 'tudo okay', 'ótimo sit',\n",
       "       'confiança', 'mto lindo', 'ameiiiiii', 'fácil uso', 'bonissomo',\n",
       "       'foi ótima', '100 ótimo', 'adoreiiii', 'muito top', 'impecável',\n",
       "       'adoreiii8', 'muy buena', 'bom mesmo', 'esselente', 'erro erro',\n",
       "       'porcaria7', 'perfeição'], dtype=object)"
      ]
     },
     "execution_count": 204,
     "metadata": {},
     "output_type": "execute_result"
    }
   ],
   "source": [
    "shortlist_value = df_olist_review['review_comment_message'][df_olist_review['review_comment_message'].str.len() == 9].unique()\n",
    "shortlist_value"
   ]
  },
  {
   "cell_type": "markdown",
   "metadata": {},
   "source": [
    "### 2.2.4 Padronização de palavras-chaves\n",
    "### 2.2.3 *Keywords standardization*"
   ]
  },
  {
   "cell_type": "markdown",
   "metadata": {},
   "source": [
    "Essa etapa tem como objetivo padronizar palavras comumente usadas para expressar satisfação quanto a um produto/serviço, corrigindo a ortografia dos termos e facilitando a visualização em nuvens de palavras. O dicionário abaixo foi construido baseando-se na visualização dos valores únicos para avaliações até 10 caracteres\n",
    "\n",
    "\n",
    "*This step aims to standardize words commonly used to express satisfaction with a product/service, correcting the spelling of terms and facilitating visualization in word clouds. The dictionary below was built based on the visualization of unique values ​​for reviews up to 10 characters*"
   ]
  },
  {
   "cell_type": "code",
   "execution_count": 205,
   "metadata": {},
   "outputs": [
    {
     "data": {
      "text/plain": [
       "['amei',\n",
       " 'show',\n",
       " 'ruim',\n",
       " 'nice',\n",
       " 'otmo',\n",
       " 'joia',\n",
       " 'okok',\n",
       " 'ágil',\n",
       " 'zero',\n",
       " 'legal',\n",
       " 'medio',\n",
       " 'ótimo',\n",
       " 'otimo',\n",
       " 'lindo',\n",
       " 'bom l',\n",
       " 'curti',\n",
       " 'grato',\n",
       " 'ótima',\n",
       " 'otima',\n",
       " 'valeu',\n",
       " 'òtimo',\n",
       " 'sdsds',\n",
       " 'médio',\n",
       " 'linda',\n",
       " 'ok ok',\n",
       " 'ok 10',\n",
       " 'daora',\n",
       " 'denis',\n",
       " 'xxxdf',\n",
       " 'feliz',\n",
       " 'otuno',\n",
       " 'xxxxx',\n",
       " 'td ok',\n",
       " 'merda',\n",
       " 'happy',\n",
       " 'compr',\n",
       " 'foboa',\n",
       " 'showw',\n",
       " 'gosto',\n",
       " 'nihil',\n",
       " 'gostei',\n",
       " 'rápido',\n",
       " 'adorei',\n",
       " 'ameiii',\n",
       " 'nakjsk',\n",
       " 'indico',\n",
       " 'fragil',\n",
       " 'normal',\n",
       " 'mt bom',\n",
       " 'lindos',\n",
       " 'ótimas',\n",
       " 'atende',\n",
       " 'd mais',\n",
       " 'amoooo',\n",
       " 'ótimos',\n",
       " 'rapido',\n",
       " 'mt boa',\n",
       " 'otimos',\n",
       " 'enorme',\n",
       " 'nota10',\n",
       " 'seguro',\n",
       " 'nota 8',\n",
       " 'dahora',\n",
       " 'top 10',\n",
       " 'recebi',\n",
       " 'rapida',\n",
       " 'celere',\n",
       " 'tudo o',\n",
       " 'jjjjjj',\n",
       " 'bababa',\n",
       " 'optimo',\n",
       " 'tudo ok',\n",
       " 'sucesso',\n",
       " 'foi boa',\n",
       " 'nota 10',\n",
       " 'possimo',\n",
       " 'lindooo',\n",
       " 'hshsshb',\n",
       " 'ótimooo',\n",
       " 'loja 10',\n",
       " 'regular',\n",
       " 'rapidez',\n",
       " 'não sei',\n",
       " 'lindaaa',\n",
       " 'xxxxxxx',\n",
       " 'loja ok',\n",
       " 'pontual',\n",
       " 'nenhuma',\n",
       " 'exlente',\n",
       " 'péssimo',\n",
       " 'bommmmm',\n",
       " 'adorooo',\n",
       " 'mto bom',\n",
       " 'bom tmb',\n",
       " 'nora 10',\n",
       " 'adorava',\n",
       " 'correta',\n",
       " 'superou',\n",
       " 'opinião',\n",
       " 'bom att',\n",
       " 'elogios',\n",
       " 'não tem',\n",
       " 'mto boa',\n",
       " 'de bola',\n",
       " '1000000',\n",
       " 'e lindo',\n",
       " 'pessima',\n",
       " 'pessomo',\n",
       " 'positia',\n",
       " 'top top',\n",
       " 'pessimo',\n",
       " 'arrasou',\n",
       " 'otimooo',\n",
       " 'rasoave',\n",
       " 'demorou',\n",
       " 'bom bom',\n",
       " 'ksksksk',\n",
       " 'foi bom',\n",
       " 'prático',\n",
       " 'bom viu',\n",
       " 'the end',\n",
       " 'perfeito',\n",
       " 'mt lindo',\n",
       " 'obrigada',\n",
       " 'parabéns',\n",
       " 'razoavel',\n",
       " 'obrigado',\n",
       " 'exelente',\n",
       " 'nota dez',\n",
       " 'demorado',\n",
       " 'loja boa',\n",
       " 'aprovado',\n",
       " 'parabens',\n",
       " 'tudo bem',\n",
       " 'esta bom',\n",
       " 'boa loja',\n",
       " 'recebido',\n",
       " 'tudo bom',\n",
       " 'negativo',\n",
       " 'chigling',\n",
       " 'bem útil',\n",
       " 'no prazo',\n",
       " 'loja 100',\n",
       " 'atendido',\n",
       " 'sem mais',\n",
       " 'positiva',\n",
       " 'moutobon',\n",
       " 'top show',\n",
       " 'aprovada',\n",
       " 'ok otimo',\n",
       " 'adoreiii',\n",
       " 'presteza',\n",
       " 'ecelente',\n",
       " 'tudo blz',\n",
       " 'certinho',\n",
       " 'razoável',\n",
       " 'compensa',\n",
       " 'e bonito',\n",
       " 'n gostei',\n",
       " 'execente',\n",
       " 'ameiiiii',\n",
       " 'muitobom',\n",
       " 'devolver',\n",
       " 'tudo 100',\n",
       " 'funciona',\n",
       " 'perfeita',\n",
       " 'loja top',\n",
       " 'hoviveis',\n",
       " 'negativa',\n",
       " 'gosteiii',\n",
       " 'horrível',\n",
       " 'muito om',\n",
       " 'muit bom',\n",
       " 'mito bom',\n",
       " 'td certo',\n",
       " 'chateado',\n",
       " 'td otimo',\n",
       " 'tudo top',\n",
       " 'nota mil',\n",
       " 'prefeito',\n",
       " 'atrasado',\n",
       " 'jduddjjd',\n",
       " 'muito bom',\n",
       " 'recomendo',\n",
       " 'excelente',\n",
       " 'nota 1000',\n",
       " 'amei tudo',\n",
       " 'muito boa',\n",
       " 'eu gostei',\n",
       " 'indicaria',\n",
       " 'foi otimo',\n",
       " 'magnífico',\n",
       " 'td rapido',\n",
       " 'mas é bom',\n",
       " 'maravilha',\n",
       " 'muito bem',\n",
       " 'confiavel',\n",
       " 'muito rui',\n",
       " 'paciência',\n",
       " 'esxelente',\n",
       " 'ótimo uso',\n",
       " 'eu aprovo',\n",
       " 'recomento',\n",
       " 'exerlente',\n",
       " 'bom preco',\n",
       " 'hum legal',\n",
       " 'eficiente',\n",
       " 'bom filme',\n",
       " 'confiável',\n",
       " 'ezcrlente',\n",
       " 'uma bosta',\n",
       " 'pertfeito',\n",
       " 'foi ótimo',\n",
       " 'revomendo',\n",
       " 'indicarei',\n",
       " 'não tenho',\n",
       " 'bonitinho',\n",
       " 'tudo joia',\n",
       " 'linda cor',\n",
       " 'reocmendo',\n",
       " 'kd o rôdo',\n",
       " 'muito rop',\n",
       " 'escelente',\n",
       " 'esperando',\n",
       " 'otimo bom',\n",
       " 'bom preço',\n",
       " 'ruim tudo',\n",
       " 'muito bim',\n",
       " 'tdo certo',\n",
       " 'tranquilo',\n",
       " 'tudo okay',\n",
       " 'ótimo sit',\n",
       " 'confiança',\n",
       " 'mto lindo',\n",
       " 'ameiiiiii',\n",
       " 'fácil uso',\n",
       " 'bonissomo',\n",
       " 'foi ótima',\n",
       " '100 ótimo',\n",
       " 'adoreiiii',\n",
       " 'muito top',\n",
       " 'impecável',\n",
       " 'adoreiii8',\n",
       " 'muy buena',\n",
       " 'bom mesmo',\n",
       " 'esselente',\n",
       " 'erro erro',\n",
       " 'porcaria7',\n",
       " 'perfeição',\n",
       " 'satisfeito',\n",
       " 'sem opniao',\n",
       " 'não recebi',\n",
       " 'tudo certo',\n",
       " 'tudo ótimo',\n",
       " 'produto ok',\n",
       " 'satisfacao',\n",
       " 'boa compra',\n",
       " 'muito boas',\n",
       " 'revom endo',\n",
       " 'satisfeita',\n",
       " 'chegou bem',\n",
       " 'ótima loja',\n",
       " 'otima loja',\n",
       " 'linda amei',\n",
       " 'não gostei',\n",
       " 'muito ruim',\n",
       " 'frustração',\n",
       " 'competente',\n",
       " 'vou testar',\n",
       " 'eficientes',\n",
       " 'nao recebi',\n",
       " 'muito boom',\n",
       " 'mas chegou',\n",
       " 'muito bons',\n",
       " 'muito show',\n",
       " 'entrega ok',\n",
       " 'bom gostei',\n",
       " 'tudo suave',\n",
       " '5 estrelas',\n",
       " 'ótima cuba',\n",
       " 'reocomendo',\n",
       " 'não chegou',\n",
       " 'loja ótima',\n",
       " 'anel lindo',\n",
       " 'frete caro',\n",
       " 'ok nota 10',\n",
       " 'em opiniao',\n",
       " 'tudo otimo',\n",
       " 'tapete top',\n",
       " 'amei lindo',\n",
       " 'muito fofo',\n",
       " 'e bonzinho',\n",
       " 'super útil',\n",
       " 'bem rapido',\n",
       " 'muitio bom',\n",
       " 'muinto bom',\n",
       " 'òtima loja',\n",
       " 'recomendou',\n",
       " 'ótimo site',\n",
       " 'mujito bom',\n",
       " 'nao chegou',\n",
       " 'muito boua',\n",
       " 'loja otima',\n",
       " 'lindo amei',\n",
       " 'amei a pia',\n",
       " 'vaso lindo',\n",
       " 'otimo site',\n",
       " 'boa a loja',\n",
       " 'muito util',\n",
       " 'satisfação',\n",
       " 'marailhoso',\n",
       " 'sim indico',\n",
       " 'fone bom m',\n",
       " 'chegou ant',\n",
       " 'lindissima',\n",
       " 'sem opinar',\n",
       " 'ta nota 10',\n",
       " 'são lindas',\n",
       " 'lindo jogo',\n",
       " 'execelente',\n",
       " 'muito fina',\n",
       " 'fantástico']"
      ]
     },
     "execution_count": 205,
     "metadata": {},
     "output_type": "execute_result"
    }
   ],
   "source": [
    "lista_review = []\n",
    "for num_caracteres in range(4,11):\n",
    "    \n",
    "    shortlist_value = df_olist_review['review_comment_message'][df_olist_review['review_comment_message'].str.len() == num_caracteres].unique().tolist()\n",
    "    contador = len(shortlist_value)\n",
    "    for indice in range(0, contador):\n",
    "        lista_review.append(shortlist_value[indice])\n",
    "lista_review"
   ]
  },
  {
   "cell_type": "code",
   "execution_count": 206,
   "metadata": {},
   "outputs": [],
   "source": [
    "correcao_dict={\n",
    "'bim': 'bom',\n",
    "'blz': 'beleza',\n",
    "'boua': 'boa',\n",
    "'joia': 'jóia',\n",
    "'otmo': 'ótimo',\n",
    "'otmos': 'ótimos',\n",
    "'otma': 'ótima',\n",
    "'otmas': 'ótimas',\n",
    "'medio': 'médio',\n",
    "'otimo': 'ótimo',\n",
    "'otimos': 'ótimos',\n",
    "'otima': 'ótima',\n",
    "'otimas': 'ótimas',\n",
    "'òtimo': 'ótimo',\n",
    "'òtimos': 'ótimos',\n",
    "'òtima': 'ótima',\n",
    "'òtimas': 'ótimas',\n",
    "'otuno': 'ótimo',\n",
    "'optimo': 'ótimo',\n",
    "'optima': 'ótima',\n",
    "'ótimooo': 'ótimo',\n",
    "'otimooo': 'ótimo',\n",
    "'ameiii': 'amei',\n",
    "'ameiiiii': 'amei',\n",
    "'ameiiiiii': 'amei',\n",
    "'mt bom': 'muito bom',\n",
    "'mto bom': 'muito bom',\n",
    "'mt boa': 'muito boa',\n",
    "'mto boa': 'muito boa',\n",
    "'amoooo': 'amo',\n",
    "'rapido': 'rápido',\n",
    "'rapida': 'rápida',\n",
    "'possimo': 'péssimo',\n",
    "'possimos': 'péssimos',\n",
    "'pessimo': 'péssimo',\n",
    "'pessimos': 'péssimos',\n",
    "'possima': 'péssima',\n",
    "'pessima': 'péssima',\n",
    "'possimas': 'péssimas',\n",
    "'pessimas': 'péssimas',\n",
    "'bommmmm': 'bom',\n",
    "'adorooo': 'adoro',\n",
    "'bom tmb': 'bom também',\n",
    "'nora 10': 'nota 10',\n",
    "'positia': 'positiva',\n",
    "'positias': 'positivas',\n",
    "'positio': 'positivo',\n",
    "'positios': 'positivos',\n",
    "'rasoave': 'razoável',\n",
    "'adoreiii': 'adorei',\n",
    "'adoreiii8': 'adorei',\n",
    "'adoreiiii': 'adorei',\n",
    "'confiavel': 'confiável',\n",
    "'ecelente': 'excelente',\n",
    "'escelente': 'excelente',\n",
    "'esselente': 'excelente',\n",
    "'esxelente': 'excelente',\n",
    "'excelente': 'excelente',\n",
    "'execelente': 'excelente',\n",
    "'execente': 'excelente',\n",
    "'exelente': 'excelente',\n",
    "'exerlente': 'excelente',\n",
    "'ezcrlente': 'excelente',\n",
    "'gosteiii':'gostei',\n",
    "'hoviveis': 'horríveis',\n",
    "'marailhoso':'maravilhoso',\n",
    "'mito bom': 'muito bom',\n",
    "'moutobon': 'muito bom',\n",
    "'mt lindo': 'muito lindo',\n",
    "'mto lindo': 'muito lindo',\n",
    "'muinto': 'muito',\n",
    "'mujito': 'muito',\n",
    "'muit': 'muito',\n",
    "'muitio': 'muitos',\n",
    "'muito boom': 'muito bom',\n",
    "'muitobom': 'muito bom',\n",
    "'n gostei': 'não gostei',\n",
    "'nao': 'não',\n",
    "'om': 'bom',\n",
    "'opiniao': 'opinião',\n",
    "'opniao': 'opinião',\n",
    "'parabens': 'parabéns',\n",
    "'pertfeito': 'perfeito',\n",
    "'prefeito': 'perfeito',\n",
    "'recomento' :'recomendo',\n",
    "'reocmendo' :'recomendo',\n",
    "'reocomendo' :'recomendo',\n",
    "'revom endo' :'recomendo',\n",
    "'revomendo' :'recomendo',\n",
    "'rui': 'ruim',\n",
    "'satisfacao':'satisfação',\n",
    "'td': 'tudo',\n",
    "'bbom': 'bom'\n",
    "}"
   ]
  },
  {
   "cell_type": "code",
   "execution_count": 207,
   "metadata": {},
   "outputs": [],
   "source": [
    "df_olist_review['review_comment_message'] = df_olist_review['review_comment_message'].replace(correcao_dict, regex = True)\n",
    "\n"
   ]
  },
  {
   "cell_type": "code",
   "execution_count": 208,
   "metadata": {},
   "outputs": [
    {
     "data": {
      "text/plain": [
       "bom    1\n",
       "amo    1\n",
       "Name: review_comment_message, dtype: int64"
      ]
     },
     "execution_count": 208,
     "metadata": {},
     "output_type": "execute_result"
    }
   ],
   "source": [
    "shortlist_value_4= df_olist_review['review_comment_message'][df_olist_review['review_comment_message'].str.len() == 4].value_counts()\n",
    "df_olist_review['review_comment_message'] = df_olist_review['review_comment_message'].replace({'bbom':'bom'}, regex = True)\n",
    "shortlist_value_4= df_olist_review['review_comment_message'][df_olist_review['review_comment_message'].str.len() == 4].value_counts()\n",
    "shortlist_value_4\n",
    "shortlist_value_3= df_olist_review['review_comment_message'][df_olist_review['review_comment_message'].str.len() == 3].value_counts()\n",
    "shortlist_value_3"
   ]
  },
  {
   "cell_type": "markdown",
   "metadata": {},
   "source": [
    "### <span style =' color:#FCA311'>2.3 Análise de sentimento </span>\n",
    "### <span style =' color:#FCA311'> *2.3 Sentiment analysis* </span>\n"
   ]
  },
  {
   "attachments": {},
   "cell_type": "markdown",
   "metadata": {},
   "source": [
    "#### <span style =' color:#FCA311'> 2.3.1 *Revisando avaliação de reviews*\n",
    "#### <span style =' color:#FCA311'> 2.3.1 *Revisiting review scores*"
   ]
  },
  {
   "cell_type": "code",
   "execution_count": 209,
   "metadata": {},
   "outputs": [
    {
     "data": {
      "text/plain": [
       "5    15541\n",
       "1     8126\n",
       "4     4645\n",
       "3     3358\n",
       "2     2050\n",
       "Name: review_score, dtype: int64"
      ]
     },
     "execution_count": 209,
     "metadata": {},
     "output_type": "execute_result"
    }
   ],
   "source": [
    "df_olist_review['review_score'].value_counts()"
   ]
  },
  {
   "attachments": {},
   "cell_type": "markdown",
   "metadata": {},
   "source": [
    "For this analysis a review will be considered as positive with a score equals to or higher than 4."
   ]
  },
  {
   "cell_type": "code",
   "execution_count": 210,
   "metadata": {},
   "outputs": [],
   "source": [
    "labels = []\n",
    "\n",
    "for score in df_olist_review['review_score']:\n",
    "\n",
    "    if score >3:\n",
    "        labels.append(1)\n",
    "    else:\n",
    "        labels.append(0)\n",
    "    \n",
    "df_olist_review['label'] = labels"
   ]
  },
  {
   "cell_type": "code",
   "execution_count": 211,
   "metadata": {},
   "outputs": [
    {
     "name": "stderr",
     "output_type": "stream",
     "text": [
      "c:\\Users\\rimellegari\\AppData\\Local\\Programs\\Python\\Python310\\lib\\site-packages\\seaborn\\_decorators.py:36: FutureWarning: Pass the following variable as a keyword arg: x. From version 0.12, the only valid positional argument will be `data`, and passing other arguments without an explicit keyword will result in an error or misinterpretation.\n",
      "  warnings.warn(\n"
     ]
    },
    {
     "data": {
      "image/png": "[encoded data removed]",
      "text/plain": [
       "<Figure size 720x504 with 1 Axes>"
      ]
     },
     "metadata": {},
     "output_type": "display_data"
    }
   ],
   "source": [
    "labels = df_olist_review['label']\n",
    "\n",
    "# reseting index to manipulate created df\n",
    "plt.figure(figsize=(10,7))\n",
    "sns.countplot(labels)\n",
    "plt.title('Label Frequency', color='#6a6e70')\n",
    "plt.ylabel('Frequeny')\n",
    "plt.xlabel('label')\n",
    "plt.show()"
   ]
  },
  {
   "cell_type": "code",
   "execution_count": 212,
   "metadata": {},
   "outputs": [
    {
     "name": "stdout",
     "output_type": "stream",
     "text": [
      "✔ Download and installation successful\n",
      "You can now load the package via spacy.load('pt_core_news_sm')\n"
     ]
    }
   ],
   "source": [
    "import re\n",
    "from unidecode import unidecode\n",
    "import spacy\n",
    "import nltk\n",
    "import spacy.cli\n",
    "spacy.cli.download(\"pt_core_news_sm\")\n",
    "import pt_core_news_sm\n",
    "\n",
    "spc_pt = pt_core_news_sm.load()\n"
   ]
  },
  {
   "attachments": {},
   "cell_type": "markdown",
   "metadata": {},
   "source": [
    "#### <span style =' color:#FCA311'> 2.3.2 *Pré-processamento de texto*\n",
    "#### <span style =' color:#FCA311'> 2.3.2 *Text pre-processing*\n"
   ]
  },
  {
   "cell_type": "code",
   "execution_count": 213,
   "metadata": {},
   "outputs": [
    {
     "name": "stderr",
     "output_type": "stream",
     "text": [
      "[nltk_data] Downloading package stopwords to\n",
      "[nltk_data]     C:\\Users\\rimellegari\\AppData\\Roaming\\nltk_data...\n",
      "[nltk_data]   Package stopwords is already up-to-date!\n"
     ]
    }
   ],
   "source": [
    "nltk.download('stopwords')\n",
    "from nltk.corpus import stopwords\n",
    "\n",
    "stopwords_pt = stopwords.words('portuguese')"
   ]
  },
  {
   "cell_type": "code",
   "execution_count": 214,
   "metadata": {},
   "outputs": [
    {
     "data": {
      "text/plain": [
       "['a',\n",
       " 'à',\n",
       " 'ao',\n",
       " 'aos',\n",
       " 'aquela',\n",
       " 'aquelas',\n",
       " 'aquele',\n",
       " 'aqueles',\n",
       " 'aquilo',\n",
       " 'as',\n",
       " 'às',\n",
       " 'até',\n",
       " 'com',\n",
       " 'como',\n",
       " 'da',\n",
       " 'das',\n",
       " 'de',\n",
       " 'dela',\n",
       " 'delas',\n",
       " 'dele',\n",
       " 'deles',\n",
       " 'depois',\n",
       " 'do',\n",
       " 'dos',\n",
       " 'e',\n",
       " 'é',\n",
       " 'ela',\n",
       " 'elas',\n",
       " 'ele',\n",
       " 'eles',\n",
       " 'em',\n",
       " 'entre',\n",
       " 'era',\n",
       " 'eram',\n",
       " 'éramos',\n",
       " 'essa',\n",
       " 'essas',\n",
       " 'esse',\n",
       " 'esses',\n",
       " 'esta',\n",
       " 'está',\n",
       " 'estamos',\n",
       " 'estão',\n",
       " 'estar',\n",
       " 'estas',\n",
       " 'estava',\n",
       " 'estavam',\n",
       " 'estávamos',\n",
       " 'este',\n",
       " 'esteja',\n",
       " 'estejam',\n",
       " 'estejamos',\n",
       " 'estes',\n",
       " 'esteve',\n",
       " 'estive',\n",
       " 'estivemos',\n",
       " 'estiver',\n",
       " 'estivera',\n",
       " 'estiveram',\n",
       " 'estivéramos',\n",
       " 'estiverem',\n",
       " 'estivermos',\n",
       " 'estivesse',\n",
       " 'estivessem',\n",
       " 'estivéssemos',\n",
       " 'estou',\n",
       " 'eu',\n",
       " 'foi',\n",
       " 'fomos',\n",
       " 'for',\n",
       " 'fora',\n",
       " 'foram',\n",
       " 'fôramos',\n",
       " 'forem',\n",
       " 'formos',\n",
       " 'fosse',\n",
       " 'fossem',\n",
       " 'fôssemos',\n",
       " 'fui',\n",
       " 'há',\n",
       " 'haja',\n",
       " 'hajam',\n",
       " 'hajamos',\n",
       " 'hão',\n",
       " 'havemos',\n",
       " 'haver',\n",
       " 'hei',\n",
       " 'houve',\n",
       " 'houvemos',\n",
       " 'houver',\n",
       " 'houvera',\n",
       " 'houverá',\n",
       " 'houveram',\n",
       " 'houvéramos',\n",
       " 'houverão',\n",
       " 'houverei',\n",
       " 'houverem',\n",
       " 'houveremos',\n",
       " 'houveria',\n",
       " 'houveriam',\n",
       " 'houveríamos',\n",
       " 'houvermos',\n",
       " 'houvesse',\n",
       " 'houvessem',\n",
       " 'houvéssemos',\n",
       " 'isso',\n",
       " 'isto',\n",
       " 'já',\n",
       " 'lhe',\n",
       " 'lhes',\n",
       " 'mais',\n",
       " 'mas',\n",
       " 'me',\n",
       " 'mesmo',\n",
       " 'meu',\n",
       " 'meus',\n",
       " 'minha',\n",
       " 'minhas',\n",
       " 'muito',\n",
       " 'na',\n",
       " 'não',\n",
       " 'nas',\n",
       " 'nem',\n",
       " 'no',\n",
       " 'nos',\n",
       " 'nós',\n",
       " 'nossa',\n",
       " 'nossas',\n",
       " 'nosso',\n",
       " 'nossos',\n",
       " 'num',\n",
       " 'numa',\n",
       " 'o',\n",
       " 'os',\n",
       " 'ou',\n",
       " 'para',\n",
       " 'pela',\n",
       " 'pelas',\n",
       " 'pelo',\n",
       " 'pelos',\n",
       " 'por',\n",
       " 'qual',\n",
       " 'quando',\n",
       " 'que',\n",
       " 'quem',\n",
       " 'são',\n",
       " 'se',\n",
       " 'seja',\n",
       " 'sejam',\n",
       " 'sejamos',\n",
       " 'sem',\n",
       " 'ser',\n",
       " 'será',\n",
       " 'serão',\n",
       " 'serei',\n",
       " 'seremos',\n",
       " 'seria',\n",
       " 'seriam',\n",
       " 'seríamos',\n",
       " 'seu',\n",
       " 'seus',\n",
       " 'só',\n",
       " 'somos',\n",
       " 'sou',\n",
       " 'sua',\n",
       " 'suas',\n",
       " 'também',\n",
       " 'te',\n",
       " 'tem',\n",
       " 'tém',\n",
       " 'temos',\n",
       " 'tenha',\n",
       " 'tenham',\n",
       " 'tenhamos',\n",
       " 'tenho',\n",
       " 'terá',\n",
       " 'terão',\n",
       " 'terei',\n",
       " 'teremos',\n",
       " 'teria',\n",
       " 'teriam',\n",
       " 'teríamos',\n",
       " 'teu',\n",
       " 'teus',\n",
       " 'teve',\n",
       " 'tinha',\n",
       " 'tinham',\n",
       " 'tínhamos',\n",
       " 'tive',\n",
       " 'tivemos',\n",
       " 'tiver',\n",
       " 'tivera',\n",
       " 'tiveram',\n",
       " 'tivéramos',\n",
       " 'tiverem',\n",
       " 'tivermos',\n",
       " 'tivesse',\n",
       " 'tivessem',\n",
       " 'tivéssemos',\n",
       " 'tu',\n",
       " 'tua',\n",
       " 'tuas',\n",
       " 'um',\n",
       " 'uma',\n",
       " 'você',\n",
       " 'vocês',\n",
       " 'vos']"
      ]
     },
     "execution_count": 214,
     "metadata": {},
     "output_type": "execute_result"
    }
   ],
   "source": [
    "stopwords_pt"
   ]
  },
  {
   "attachments": {},
   "cell_type": "markdown",
   "metadata": {},
   "source": [
    "Palavras como 'não' e 'nem' podem ser importantes ao realizar a análise de sentimentos, por isso serão descartadas da lista de stopwords.\n",
    "\n",
    "\n",
    "Words such as 'no' and 'neither' may be important when performing sentiment analysis, therefore both of them will be removed from the stopwords"
   ]
  },
  {
   "cell_type": "code",
   "execution_count": 215,
   "metadata": {},
   "outputs": [],
   "source": [
    "stopwords_pt.remove('não')\n",
    "stopwords_pt.remove('nem')"
   ]
  },
  {
   "cell_type": "code",
   "execution_count": 216,
   "metadata": {},
   "outputs": [],
   "source": [
    "def limpa_texto(texto):\n",
    "    texto = texto.lower()\n",
    "    texto = re.sub(r\"[\\W\\d_]+\", \" \", texto)\n",
    "\n",
    "    texto = [pal for pal in texto.split() if pal not in stopwords_pt]\n",
    "\n",
    "    spc_texto = spc_pt(\" \".join(texto))\n",
    "    tokens = [word.lemma_ if word.lemma_ != \"-PRON-\" else word.lower_ for word in spc_texto]\n",
    "    \n",
    "    return \" \".join(tokens)"
   ]
  },
  {
   "cell_type": "code",
   "execution_count": 217,
   "metadata": {},
   "outputs": [
    {
     "data": {
      "text/plain": [
       "0        entrega em 2 dias produto c boa qualidade ótim...\n",
       "1        produto veio antes do prazo informado muitoo o...\n",
       "2                 chegou bem antes do prazo ótimo vendedor\n",
       "3                                        gostei do produto\n",
       "4        o produto veio certinho muitoo bem embalado e ...\n",
       "                               ...                        \n",
       "33723                                     é um bom produto\n",
       "33724    realmente o kit é muitoo bonito e o acabamento...\n",
       "33725              muitoo bom cbomprar nas lojas lannister\n",
       "33726                                      entregar rápida\n",
       "33727    o produto cbomprado demorou demais fiquei irri...\n",
       "Name: review_comment_message, Length: 33720, dtype: object"
      ]
     },
     "execution_count": 217,
     "metadata": {},
     "output_type": "execute_result"
    }
   ],
   "source": [
    "df_olist_review['review_comment_message']"
   ]
  },
  {
   "cell_type": "code",
   "execution_count": 218,
   "metadata": {},
   "outputs": [],
   "source": [
    "df_olist_review['review_comment_message'] = df_olist_review['review_comment_message'].apply(limpa_texto)"
   ]
  },
  {
   "cell_type": "code",
   "execution_count": 143,
   "metadata": {},
   "outputs": [
    {
     "data": {
      "text/html": [
       "<div>\n",
       "<style scoped>\n",
       "    .dataframe tbody tr th:only-of-type {\n",
       "        vertical-align: middle;\n",
       "    }\n",
       "\n",
       "    .dataframe tbody tr th {\n",
       "        vertical-align: top;\n",
       "    }\n",
       "\n",
       "    .dataframe thead th {\n",
       "        text-align: right;\n",
       "    }\n",
       "</style>\n",
       "<table border=\"1\" class=\"dataframe\">\n",
       "  <thead>\n",
       "    <tr style=\"text-align: right;\">\n",
       "      <th></th>\n",
       "      <th>review_comment_message</th>\n",
       "      <th>review_score</th>\n",
       "      <th>label</th>\n",
       "    </tr>\n",
       "  </thead>\n",
       "  <tbody>\n",
       "    <tr>\n",
       "      <th>0</th>\n",
       "      <td>entregar dia produto c bom qualidade bom custo...</td>\n",
       "      <td>5</td>\n",
       "      <td>0</td>\n",
       "    </tr>\n",
       "    <tr>\n",
       "      <th>1</th>\n",
       "      <td>produto vir antes prazo informar muitoo obriga...</td>\n",
       "      <td>5</td>\n",
       "      <td>0</td>\n",
       "    </tr>\n",
       "    <tr>\n",
       "      <th>2</th>\n",
       "      <td>chegar bem antes prazo bom vendedor</td>\n",
       "      <td>4</td>\n",
       "      <td>0</td>\n",
       "    </tr>\n",
       "    <tr>\n",
       "      <th>3</th>\n",
       "      <td>gostar produto</td>\n",
       "      <td>3</td>\n",
       "      <td>1</td>\n",
       "    </tr>\n",
       "    <tr>\n",
       "      <th>4</th>\n",
       "      <td>produto vir certinho muitoo bem embalar bem an...</td>\n",
       "      <td>5</td>\n",
       "      <td>0</td>\n",
       "    </tr>\n",
       "    <tr>\n",
       "      <th>5</th>\n",
       "      <td>produto perfeito condição entregar dentro prazo</td>\n",
       "      <td>5</td>\n",
       "      <td>0</td>\n",
       "    </tr>\n",
       "    <tr>\n",
       "      <th>6</th>\n",
       "      <td>vir apenas produto porém cobrar produto fiz re...</td>\n",
       "      <td>2</td>\n",
       "      <td>1</td>\n",
       "    </tr>\n",
       "    <tr>\n",
       "      <th>7</th>\n",
       "      <td>gostar celular mae achar lir pessoa idoso não ...</td>\n",
       "      <td>5</td>\n",
       "      <td>0</td>\n",
       "    </tr>\n",
       "    <tr>\n",
       "      <th>8</th>\n",
       "      <td>mercador chegar antes prazo final recbomer</td>\n",
       "      <td>4</td>\n",
       "      <td>0</td>\n",
       "    </tr>\n",
       "    <tr>\n",
       "      <th>9</th>\n",
       "      <td>atendimento produto entregar perfeito</td>\n",
       "      <td>5</td>\n",
       "      <td>0</td>\n",
       "    </tr>\n",
       "    <tr>\n",
       "      <th>10</th>\n",
       "      <td>correio ainda não fazer entrega to Furioso</td>\n",
       "      <td>1</td>\n",
       "      <td>1</td>\n",
       "    </tr>\n",
       "    <tr>\n",
       "      <th>11</th>\n",
       "      <td>chegar ordem dentro prazo conforme descrição site</td>\n",
       "      <td>5</td>\n",
       "      <td>0</td>\n",
       "    </tr>\n",
       "    <tr>\n",
       "      <th>12</th>\n",
       "      <td>errei hora inserir endereço informeir acontece...</td>\n",
       "      <td>4</td>\n",
       "      <td>0</td>\n",
       "    </tr>\n",
       "    <tr>\n",
       "      <th>13</th>\n",
       "      <td>recebi tudo ordem</td>\n",
       "      <td>5</td>\n",
       "      <td>0</td>\n",
       "    </tr>\n",
       "    <tr>\n",
       "      <th>14</th>\n",
       "      <td>legal</td>\n",
       "      <td>3</td>\n",
       "      <td>1</td>\n",
       "    </tr>\n",
       "    <tr>\n",
       "      <th>15</th>\n",
       "      <td>excelente cbompra recbomer</td>\n",
       "      <td>5</td>\n",
       "      <td>0</td>\n",
       "    </tr>\n",
       "    <tr>\n",
       "      <th>16</th>\n",
       "      <td>muitoo bom cabelo ficar lisinho</td>\n",
       "      <td>5</td>\n",
       "      <td>0</td>\n",
       "    </tr>\n",
       "    <tr>\n",
       "      <th>17</th>\n",
       "      <td>bom produto</td>\n",
       "      <td>4</td>\n",
       "      <td>0</td>\n",
       "    </tr>\n",
       "    <tr>\n",
       "      <th>18</th>\n",
       "      <td>gostar poder cbomprar</td>\n",
       "      <td>4</td>\n",
       "      <td>0</td>\n",
       "    </tr>\n",
       "    <tr>\n",
       "      <th>19</th>\n",
       "      <td>não recebir produto nem avisar falta item loja...</td>\n",
       "      <td>1</td>\n",
       "      <td>1</td>\n",
       "    </tr>\n",
       "    <tr>\n",
       "      <th>20</th>\n",
       "      <td>cbomprei dois capa chave entregar</td>\n",
       "      <td>2</td>\n",
       "      <td>1</td>\n",
       "    </tr>\n",
       "    <tr>\n",
       "      <th>21</th>\n",
       "      <td>cbompreir produto recebi outro inferior gostar...</td>\n",
       "      <td>1</td>\n",
       "      <td>1</td>\n",
       "    </tr>\n",
       "    <tr>\n",
       "      <th>22</th>\n",
       "      <td>muitoo bom</td>\n",
       "      <td>5</td>\n",
       "      <td>0</td>\n",
       "    </tr>\n",
       "    <tr>\n",
       "      <th>23</th>\n",
       "      <td>faltar luminária pedi recebi apenas dois lumin...</td>\n",
       "      <td>3</td>\n",
       "      <td>1</td>\n",
       "    </tr>\n",
       "    <tr>\n",
       "      <th>24</th>\n",
       "      <td>gostar</td>\n",
       "      <td>4</td>\n",
       "      <td>0</td>\n",
       "    </tr>\n",
       "    <tr>\n",
       "      <th>25</th>\n",
       "      <td>produto entregar prazo bem acondicionar</td>\n",
       "      <td>5</td>\n",
       "      <td>0</td>\n",
       "    </tr>\n",
       "    <tr>\n",
       "      <th>26</th>\n",
       "      <td>embora final informar prazo muitoo longo entre...</td>\n",
       "      <td>4</td>\n",
       "      <td>0</td>\n",
       "    </tr>\n",
       "    <tr>\n",
       "      <th>27</th>\n",
       "      <td>muitoo satisfeito</td>\n",
       "      <td>5</td>\n",
       "      <td>0</td>\n",
       "    </tr>\n",
       "    <tr>\n",
       "      <th>28</th>\n",
       "      <td>produto entregar prazo correto bem embalar aco...</td>\n",
       "      <td>5</td>\n",
       "      <td>0</td>\n",
       "    </tr>\n",
       "    <tr>\n",
       "      <th>29</th>\n",
       "      <td>decepcionar aguardar ainda produto</td>\n",
       "      <td>2</td>\n",
       "      <td>1</td>\n",
       "    </tr>\n",
       "    <tr>\n",
       "      <th>30</th>\n",
       "      <td>gostar muitoo produto serviço entregar recbomer</td>\n",
       "      <td>4</td>\n",
       "      <td>0</td>\n",
       "    </tr>\n",
       "    <tr>\n",
       "      <th>31</th>\n",
       "      <td>demo relógio presente neta gostar muitoo</td>\n",
       "      <td>5</td>\n",
       "      <td>0</td>\n",
       "    </tr>\n",
       "    <tr>\n",
       "      <th>32</th>\n",
       "      <td>produto chegar prazo correto</td>\n",
       "      <td>4</td>\n",
       "      <td>0</td>\n",
       "    </tr>\n",
       "    <tr>\n",
       "      <th>33</th>\n",
       "      <td>não cbompr ir dar dor cabeça produto nunca chegar</td>\n",
       "      <td>1</td>\n",
       "      <td>1</td>\n",
       "    </tr>\n",
       "    <tr>\n",
       "      <th>34</th>\n",
       "      <td>excelente produto chegar muitoo antes prazo</td>\n",
       "      <td>5</td>\n",
       "      <td>0</td>\n",
       "    </tr>\n",
       "    <tr>\n",
       "      <th>35</th>\n",
       "      <td>rápido produto ótima qualidade confiança indico</td>\n",
       "      <td>5</td>\n",
       "      <td>0</td>\n",
       "    </tr>\n",
       "    <tr>\n",
       "      <th>36</th>\n",
       "      <td>fiz várias cbompra stark nucar problema</td>\n",
       "      <td>5</td>\n",
       "      <td>0</td>\n",
       "    </tr>\n",
       "    <tr>\n",
       "      <th>37</th>\n",
       "      <td>cobrir leito muitoo bonito lavei encolheu pouco</td>\n",
       "      <td>4</td>\n",
       "      <td>0</td>\n",
       "    </tr>\n",
       "    <tr>\n",
       "      <th>38</th>\n",
       "      <td>cbompreir produto igual porém cor diferente ch...</td>\n",
       "      <td>1</td>\n",
       "      <td>1</td>\n",
       "    </tr>\n",
       "    <tr>\n",
       "      <th>39</th>\n",
       "      <td>ameir</td>\n",
       "      <td>5</td>\n",
       "      <td>0</td>\n",
       "    </tr>\n",
       "    <tr>\n",
       "      <th>40</th>\n",
       "      <td>produto pra ter chegar dia hoje dia ainda não ...</td>\n",
       "      <td>2</td>\n",
       "      <td>1</td>\n",
       "    </tr>\n",
       "    <tr>\n",
       "      <th>41</th>\n",
       "      <td>muitoo bom produto entregue prazo</td>\n",
       "      <td>5</td>\n",
       "      <td>0</td>\n",
       "    </tr>\n",
       "    <tr>\n",
       "      <th>42</th>\n",
       "      <td>ador produto vendedor atencioso produto entreg...</td>\n",
       "      <td>4</td>\n",
       "      <td>0</td>\n",
       "    </tr>\n",
       "    <tr>\n",
       "      <th>43</th>\n",
       "      <td>excelente produto</td>\n",
       "      <td>5</td>\n",
       "      <td>0</td>\n",
       "    </tr>\n",
       "    <tr>\n",
       "      <th>44</th>\n",
       "      <td>tudo correto certinho</td>\n",
       "      <td>5</td>\n",
       "      <td>0</td>\n",
       "    </tr>\n",
       "    <tr>\n",
       "      <th>45</th>\n",
       "      <td>excelente produto recbomer</td>\n",
       "      <td>5</td>\n",
       "      <td>0</td>\n",
       "    </tr>\n",
       "    <tr>\n",
       "      <th>46</th>\n",
       "      <td>ate presente mbomento não recebir produto acha...</td>\n",
       "      <td>1</td>\n",
       "      <td>1</td>\n",
       "    </tr>\n",
       "    <tr>\n",
       "      <th>47</th>\n",
       "      <td>satisfeito</td>\n",
       "      <td>5</td>\n",
       "      <td>0</td>\n",
       "    </tr>\n",
       "    <tr>\n",
       "      <th>48</th>\n",
       "      <td>produto não bom qualidade tampa não fechar tot...</td>\n",
       "      <td>1</td>\n",
       "      <td>1</td>\n",
       "    </tr>\n",
       "    <tr>\n",
       "      <th>49</th>\n",
       "      <td>mbomento não recbomento pois vir faltar produt...</td>\n",
       "      <td>1</td>\n",
       "      <td>1</td>\n",
       "    </tr>\n",
       "  </tbody>\n",
       "</table>\n",
       "</div>"
      ],
      "text/plain": [
       "                               review_comment_message  review_score  label\n",
       "0   entregar dia produto c bom qualidade bom custo...             5      0\n",
       "1   produto vir antes prazo informar muitoo obriga...             5      0\n",
       "2                 chegar bem antes prazo bom vendedor             4      0\n",
       "3                                      gostar produto             3      1\n",
       "4   produto vir certinho muitoo bem embalar bem an...             5      0\n",
       "5     produto perfeito condição entregar dentro prazo             5      0\n",
       "6   vir apenas produto porém cobrar produto fiz re...             2      1\n",
       "7   gostar celular mae achar lir pessoa idoso não ...             5      0\n",
       "8          mercador chegar antes prazo final recbomer             4      0\n",
       "9               atendimento produto entregar perfeito             5      0\n",
       "10         correio ainda não fazer entrega to Furioso             1      1\n",
       "11  chegar ordem dentro prazo conforme descrição site             5      0\n",
       "12  errei hora inserir endereço informeir acontece...             4      0\n",
       "13                                  recebi tudo ordem             5      0\n",
       "14                                              legal             3      1\n",
       "15                         excelente cbompra recbomer             5      0\n",
       "16                    muitoo bom cabelo ficar lisinho             5      0\n",
       "17                                        bom produto             4      0\n",
       "18                              gostar poder cbomprar             4      0\n",
       "19  não recebir produto nem avisar falta item loja...             1      1\n",
       "20                  cbomprei dois capa chave entregar             2      1\n",
       "21  cbompreir produto recebi outro inferior gostar...             1      1\n",
       "22                                         muitoo bom             5      0\n",
       "23  faltar luminária pedi recebi apenas dois lumin...             3      1\n",
       "24                                             gostar             4      0\n",
       "25            produto entregar prazo bem acondicionar             5      0\n",
       "26  embora final informar prazo muitoo longo entre...             4      0\n",
       "27                                  muitoo satisfeito             5      0\n",
       "28  produto entregar prazo correto bem embalar aco...             5      0\n",
       "29                 decepcionar aguardar ainda produto             2      1\n",
       "30    gostar muitoo produto serviço entregar recbomer             4      0\n",
       "31           demo relógio presente neta gostar muitoo             5      0\n",
       "32                       produto chegar prazo correto             4      0\n",
       "33  não cbompr ir dar dor cabeça produto nunca chegar             1      1\n",
       "34        excelente produto chegar muitoo antes prazo             5      0\n",
       "35    rápido produto ótima qualidade confiança indico             5      0\n",
       "36            fiz várias cbompra stark nucar problema             5      0\n",
       "37    cobrir leito muitoo bonito lavei encolheu pouco             4      0\n",
       "38  cbompreir produto igual porém cor diferente ch...             1      1\n",
       "39                                              ameir             5      0\n",
       "40  produto pra ter chegar dia hoje dia ainda não ...             2      1\n",
       "41                  muitoo bom produto entregue prazo             5      0\n",
       "42  ador produto vendedor atencioso produto entreg...             4      0\n",
       "43                                  excelente produto             5      0\n",
       "44                              tudo correto certinho             5      0\n",
       "45                         excelente produto recbomer             5      0\n",
       "46  ate presente mbomento não recebir produto acha...             1      1\n",
       "47                                         satisfeito             5      0\n",
       "48  produto não bom qualidade tampa não fechar tot...             1      1\n",
       "49  mbomento não recbomento pois vir faltar produt...             1      1"
      ]
     },
     "execution_count": 143,
     "metadata": {},
     "output_type": "execute_result"
    }
   ],
   "source": [
    "teste = df_olist_review[['review_comment_message', 'review_score','label']]\n",
    "teste.head(50)"
   ]
  },
  {
   "attachments": {},
   "cell_type": "markdown",
   "metadata": {},
   "source": [
    "#### <span style =' color:#FCA311'> 2.3.2 *Extração de features*\n",
    "#### <span style =' color:#FCA311'> 2.3.2 *Features extraction*"
   ]
  },
  {
   "attachments": {},
   "cell_type": "markdown",
   "metadata": {},
   "source": [
    "##### <span style =' color:#FCA311'> 2.3.2.1 *Bag of words*"
   ]
  },
  {
   "cell_type": "code",
   "execution_count": 219,
   "metadata": {},
   "outputs": [],
   "source": [
    "#importando CountVectorizer\n",
    "\n",
    "from sklearn.feature_extraction.text import CountVectorizer"
   ]
  },
  {
   "cell_type": "code",
   "execution_count": 220,
   "metadata": {},
   "outputs": [],
   "source": [
    "#Instanciando o CountBectorizer, binary = True faz a codificacao Binaria\n",
    "vectorizer = CountVectorizer(binary=True, max_features=5000)\n",
    "texto = df_olist_review['review_comment_message']\n",
    "#Vetorizando o texto\n",
    "X_bow = vectorizer.fit_transform(texto)"
   ]
  },
  {
   "cell_type": "code",
   "execution_count": 221,
   "metadata": {},
   "outputs": [
    {
     "data": {
      "text/plain": [
       "array([[0, 0, 0, ..., 0, 0, 0],\n",
       "       [0, 0, 0, ..., 0, 0, 0],\n",
       "       [0, 0, 0, ..., 0, 0, 0],\n",
       "       ...,\n",
       "       [0, 0, 0, ..., 0, 0, 0],\n",
       "       [0, 0, 0, ..., 0, 0, 0],\n",
       "       [0, 0, 0, ..., 0, 0, 0]], dtype=int64)"
      ]
     },
     "execution_count": 221,
     "metadata": {},
     "output_type": "execute_result"
    }
   ],
   "source": [
    "X_bow.toarray()\n"
   ]
  },
  {
   "cell_type": "code",
   "execution_count": 222,
   "metadata": {},
   "outputs": [
    {
     "name": "stdout",
     "output_type": "stream",
     "text": [
      "(33720, 5000) <class 'scipy.sparse._csr.csr_matrix'>\n"
     ]
    }
   ],
   "source": [
    "print(X_bow.shape, type(X_bow))"
   ]
  },
  {
   "attachments": {},
   "cell_type": "markdown",
   "metadata": {},
   "source": [
    "##### <span style =' color:#FCA311'> 2.3.2.2 *TF-IDF*"
   ]
  },
  {
   "cell_type": "code",
   "execution_count": 223,
   "metadata": {},
   "outputs": [],
   "source": [
    "from sklearn.feature_extraction.text import TfidfVectorizer"
   ]
  },
  {
   "cell_type": "code",
   "execution_count": 224,
   "metadata": {},
   "outputs": [],
   "source": [
    "# Instanciando o TfidfVectorizer\n",
    "tfidf_vect = TfidfVectorizer(max_features=5000)\n",
    "\n",
    "# Vetorizando\n",
    "X_tfidf = tfidf_vect.fit_transform(texto)"
   ]
  },
  {
   "cell_type": "code",
   "execution_count": 225,
   "metadata": {},
   "outputs": [
    {
     "name": "stdout",
     "output_type": "stream",
     "text": [
      "  (0, 553)\t0.5811833313061099\n",
      "  (0, 1344)\t0.49149510617676817\n",
      "  (0, 3910)\t0.28220113944618175\n",
      "  (0, 595)\t0.43688540075254084\n",
      "  (0, 3790)\t0.13886339898256864\n",
      "  (0, 1523)\t0.31452572193961487\n",
      "  (0, 1752)\t0.17872516941427344\n",
      "  (1, 123)\t0.5892865059380258\n",
      "  (1, 3242)\t0.43825269167687164\n",
      "  (1, 3119)\t0.2272589396716037\n",
      "  (1, 2505)\t0.45189877833302344\n",
      "  (1, 3663)\t0.21127033051938157\n",
      "  (1, 280)\t0.24572262183211507\n",
      "  (1, 4903)\t0.27919649442921424\n",
      "  (1, 3790)\t0.14782225373200691\n",
      "  (2, 4845)\t0.6273886416273242\n",
      "  (2, 550)\t0.41894531356588977\n",
      "  (2, 975)\t0.3321350663778118\n",
      "  (2, 3663)\t0.29989648288806\n",
      "  (2, 280)\t0.34880122482093534\n",
      "  (2, 595)\t0.3300824433307423\n",
      "  (3, 2293)\t0.9053156161355085\n",
      "  (3, 3790)\t0.4247394909602642\n",
      "  (4, 3644)\t0.29462345920793637\n",
      "  (4, 1674)\t0.2930935082945858\n",
      "  :\t:\n",
      "  (33715, 595)\t0.8439161588064917\n",
      "  (33715, 3790)\t0.5364750850741312\n",
      "  (33716, 3517)\t0.45417576585109315\n",
      "  (33716, 4012)\t0.3716219813398389\n",
      "  (33716, 23)\t0.3369584497020238\n",
      "  (33716, 2656)\t0.33372343339839683\n",
      "  (33716, 4292)\t0.3014125644433509\n",
      "  (33716, 3363)\t0.3025663448158629\n",
      "  (33716, 4463)\t0.2328410380374643\n",
      "  (33716, 602)\t0.27720932063634135\n",
      "  (33716, 3119)\t0.30484340517589115\n",
      "  (33716, 595)\t0.1559607794703933\n",
      "  (33717, 2686)\t0.5513186056468721\n",
      "  (33717, 2817)\t0.4574946664424695\n",
      "  (33717, 890)\t0.49298648109072085\n",
      "  (33717, 3119)\t0.34504906637148147\n",
      "  (33717, 595)\t0.3530607546899536\n",
      "  (33718, 4247)\t0.8526394834640436\n",
      "  (33718, 1752)\t0.5224996758258984\n",
      "  (33719, 2598)\t0.6666790259147343\n",
      "  (33719, 1398)\t0.44341366342415767\n",
      "  (33719, 1406)\t0.36287465469951086\n",
      "  (33719, 2072)\t0.36919581589315936\n",
      "  (33719, 890)\t0.2744577387333534\n",
      "  (33719, 3790)\t0.12495112503382398\n"
     ]
    }
   ],
   "source": [
    "print(X_tfidf)"
   ]
  },
  {
   "attachments": {},
   "cell_type": "markdown",
   "metadata": {},
   "source": [
    "#### <span style =' color:#FCA311'> 2.3.3 *Avaliação de modelos para análise de sentimentos*\n",
    "#### <span style =' color:#FCA311'> 2.3.3 *Model evaluation for sentiment analysis*"
   ]
  },
  {
   "attachments": {},
   "cell_type": "markdown",
   "metadata": {},
   "source": [
    "##### <span style =' color:#FCA311'> 2.3.3.1 *Train test split*"
   ]
  },
  {
   "cell_type": "code",
   "execution_count": 226,
   "metadata": {},
   "outputs": [],
   "source": [
    "from sklearn.model_selection import train_test_split"
   ]
  },
  {
   "cell_type": "code",
   "execution_count": 227,
   "metadata": {},
   "outputs": [],
   "source": [
    "X1_train, X1_test, y1_train, y1_test = train_test_split(X_bow, df_olist_review['label'],\n",
    "                                                        test_size=0.3, random_state = 10)\n",
    "\n",
    "X2_train, X2_test, y2_train, y2_test = train_test_split(X_tfidf, df_olist_review['label'],\n",
    "                                                        test_size=0.3, random_state = 10)"
   ]
  },
  {
   "attachments": {},
   "cell_type": "markdown",
   "metadata": {},
   "source": [
    "##### <span style =' color:#FCA311'> 2.3.3.1 *Importando métricas para avaliação dos modelos*\n",
    "##### <span style =' color:#FCA311'> 2.3.3.1 *Importing metrics to evaluate models*\n"
   ]
  },
  {
   "cell_type": "code",
   "execution_count": 228,
   "metadata": {},
   "outputs": [],
   "source": [
    "from sklearn.metrics import accuracy_score, confusion_matrix, f1_score, roc_auc_score"
   ]
  },
  {
   "cell_type": "code",
   "execution_count": 229,
   "metadata": {},
   "outputs": [],
   "source": [
    "def metric_visualization(y_true,y_pred):\n",
    "    print(\"Accuracy: \", accuracy_score(y_true, y_pred))\n",
    "    print(\"\\nAUROC:\", roc_auc_score(y_true, y_pred))\n",
    "    print(\"\\nF1-Score:\", f1_score(y_true, y_pred, average='weighted'))\n",
    "    print(\"\\nConfusion Matrix:\")\n",
    "    sns.heatmap(confusion_matrix(y_true, y_pred), annot=True)\n",
    "    plt.show()"
   ]
  },
  {
   "attachments": {},
   "cell_type": "markdown",
   "metadata": {},
   "source": [
    "##### <span style =' color:#FCA311'> 2.3.3.2 *Regressão Logística*\n",
    "##### <span style =' color:#FCA311'> 2.3.3.2 *Logistical Regression*\n"
   ]
  },
  {
   "cell_type": "code",
   "execution_count": 230,
   "metadata": {},
   "outputs": [],
   "source": [
    "#Texto vetorizado com bag of words\n",
    "\n",
    "#bag-of-words vectorized text\n",
    "from sklearn.linear_model import LogisticRegression"
   ]
  },
  {
   "cell_type": "code",
   "execution_count": 231,
   "metadata": {},
   "outputs": [
    {
     "name": "stderr",
     "output_type": "stream",
     "text": [
      "c:\\Users\\rimellegari\\AppData\\Local\\Programs\\Python\\Python310\\lib\\site-packages\\sklearn\\linear_model\\_logistic.py:444: ConvergenceWarning: lbfgs failed to converge (status=1):\n",
      "STOP: TOTAL NO. of ITERATIONS REACHED LIMIT.\n",
      "\n",
      "Increase the number of iterations (max_iter) or scale the data as shown in:\n",
      "    https://scikit-learn.org/stable/modules/preprocessing.html\n",
      "Please also refer to the documentation for alternative solver options:\n",
      "    https://scikit-learn.org/stable/modules/linear_model.html#logistic-regression\n",
      "  n_iter_i = _check_optimize_result(\n"
     ]
    },
    {
     "data": {
      "text/html": [
       "<style>#sk-container-id-4 {color: black;background-color: white;}#sk-container-id-4 pre{padding: 0;}#sk-container-id-4 div.sk-toggleable {background-color: white;}#sk-container-id-4 label.sk-toggleable__label {cursor: pointer;display: block;width: 100%;margin-bottom: 0;padding: 0.3em;box-sizing: border-box;text-align: center;}#sk-container-id-4 label.sk-toggleable__label-arrow:before {content: \"▸\";float: left;margin-right: 0.25em;color: #696969;}#sk-container-id-4 label.sk-toggleable__label-arrow:hover:before {color: black;}#sk-container-id-4 div.sk-estimator:hover label.sk-toggleable__label-arrow:before {color: black;}#sk-container-id-4 div.sk-toggleable__content {max-height: 0;max-width: 0;overflow: hidden;text-align: left;background-color: #f0f8ff;}#sk-container-id-4 div.sk-toggleable__content pre {margin: 0.2em;color: black;border-radius: 0.25em;background-color: #f0f8ff;}#sk-container-id-4 input.sk-toggleable__control:checked~div.sk-toggleable__content {max-height: 200px;max-width: 100%;overflow: auto;}#sk-container-id-4 input.sk-toggleable__control:checked~label.sk-toggleable__label-arrow:before {content: \"▾\";}#sk-container-id-4 div.sk-estimator input.sk-toggleable__control:checked~label.sk-toggleable__label {background-color: #d4ebff;}#sk-container-id-4 div.sk-label input.sk-toggleable__control:checked~label.sk-toggleable__label {background-color: #d4ebff;}#sk-container-id-4 input.sk-hidden--visually {border: 0;clip: rect(1px 1px 1px 1px);clip: rect(1px, 1px, 1px, 1px);height: 1px;margin: -1px;overflow: hidden;padding: 0;position: absolute;width: 1px;}#sk-container-id-4 div.sk-estimator {font-family: monospace;background-color: #f0f8ff;border: 1px dotted black;border-radius: 0.25em;box-sizing: border-box;margin-bottom: 0.5em;}#sk-container-id-4 div.sk-estimator:hover {background-color: #d4ebff;}#sk-container-id-4 div.sk-parallel-item::after {content: \"\";width: 100%;border-bottom: 1px solid gray;flex-grow: 1;}#sk-container-id-4 div.sk-label:hover label.sk-toggleable__label {background-color: #d4ebff;}#sk-container-id-4 div.sk-serial::before {content: \"\";position: absolute;border-left: 1px solid gray;box-sizing: border-box;top: 0;bottom: 0;left: 50%;z-index: 0;}#sk-container-id-4 div.sk-serial {display: flex;flex-direction: column;align-items: center;background-color: white;padding-right: 0.2em;padding-left: 0.2em;position: relative;}#sk-container-id-4 div.sk-item {position: relative;z-index: 1;}#sk-container-id-4 div.sk-parallel {display: flex;align-items: stretch;justify-content: center;background-color: white;position: relative;}#sk-container-id-4 div.sk-item::before, #sk-container-id-4 div.sk-parallel-item::before {content: \"\";position: absolute;border-left: 1px solid gray;box-sizing: border-box;top: 0;bottom: 0;left: 50%;z-index: -1;}#sk-container-id-4 div.sk-parallel-item {display: flex;flex-direction: column;z-index: 1;position: relative;background-color: white;}#sk-container-id-4 div.sk-parallel-item:first-child::after {align-self: flex-end;width: 50%;}#sk-container-id-4 div.sk-parallel-item:last-child::after {align-self: flex-start;width: 50%;}#sk-container-id-4 div.sk-parallel-item:only-child::after {width: 0;}#sk-container-id-4 div.sk-dashed-wrapped {border: 1px dashed gray;margin: 0 0.4em 0.5em 0.4em;box-sizing: border-box;padding-bottom: 0.4em;background-color: white;}#sk-container-id-4 div.sk-label label {font-family: monospace;font-weight: bold;display: inline-block;line-height: 1.2em;}#sk-container-id-4 div.sk-label-container {text-align: center;}#sk-container-id-4 div.sk-container {/* jupyter's `normalize.less` sets `[hidden] { display: none; }` but bootstrap.min.css set `[hidden] { display: none !important; }` so we also need the `!important` here to be able to override the default hidden behavior on the sphinx rendered scikit-learn.org. See: https://github.com/scikit-learn/scikit-learn/issues/21755 */display: inline-block !important;position: relative;}#sk-container-id-4 div.sk-text-repr-fallback {display: none;}</style><div id=\"sk-container-id-4\" class=\"sk-top-container\"><div class=\"sk-text-repr-fallback\"><pre>LogisticRegression()</pre><b>In a Jupyter environment, please rerun this cell to show the HTML representation or trust the notebook. <br />On GitHub, the HTML representation is unable to render, please try loading this page with nbviewer.org.</b></div><div class=\"sk-container\" hidden><div class=\"sk-item\"><div class=\"sk-estimator sk-toggleable\"><input class=\"sk-toggleable__control sk-hidden--visually\" id=\"sk-estimator-id-4\" type=\"checkbox\" checked><label for=\"sk-estimator-id-4\" class=\"sk-toggleable__label sk-toggleable__label-arrow\">LogisticRegression</label><div class=\"sk-toggleable__content\"><pre>LogisticRegression()</pre></div></div></div></div></div>"
      ],
      "text/plain": [
       "LogisticRegression()"
      ]
     },
     "execution_count": 231,
     "metadata": {},
     "output_type": "execute_result"
    }
   ],
   "source": [
    "# Instanciando a reg. logistica\n",
    "reglog = LogisticRegression()\n",
    "\n",
    "# Aplicando o modelo\n",
    "reglog.fit(X1_train, y1_train)"
   ]
  },
  {
   "cell_type": "code",
   "execution_count": 232,
   "metadata": {},
   "outputs": [],
   "source": [
    "# Predicao\n",
    "#Prediction\n",
    "y1_reglog_pred = reglog.predict(X1_test)"
   ]
  },
  {
   "cell_type": "code",
   "execution_count": 233,
   "metadata": {},
   "outputs": [
    {
     "name": "stdout",
     "output_type": "stream",
     "text": [
      "Accuracy:  0.8778173190984578\n",
      "\n",
      "AUROC: 0.870721101956052\n",
      "\n",
      "F1-Score: 0.8774383628845056\n",
      "\n",
      "Confusion Matrix:\n"
     ]
    },
    {
     "data": {
      "image/png": "[encoded data removed]",
      "text/plain": [
       "<Figure size 432x288 with 2 Axes>"
      ]
     },
     "metadata": {},
     "output_type": "display_data"
    }
   ],
   "source": [
    "metric_visualization(y1_test, y1_reglog_pred)"
   ]
  },
  {
   "cell_type": "code",
   "execution_count": 234,
   "metadata": {},
   "outputs": [],
   "source": [
    "#Texto vetorizado com tf-idf\n",
    "\n",
    "#tf-idf vectorized text\n",
    "\n",
    "#Instanciando a reg. logistica\n",
    "reglog2 = LogisticRegression()\n",
    "\n",
    "#Aplicando o modelo\n",
    "reglog2.fit(X2_train, y2_train)\n",
    "y2_reglog_pred = reglog2.predict(X2_test)"
   ]
  },
  {
   "cell_type": "code",
   "execution_count": 235,
   "metadata": {},
   "outputs": [
    {
     "name": "stdout",
     "output_type": "stream",
     "text": [
      "Accuracy:  0.8877026492684855\n",
      "\n",
      "AUROC: 0.8837620558294794\n",
      "\n",
      "F1-Score: 0.8876984339467997\n",
      "\n",
      "Confusion Matrix:\n"
     ]
    },
    {
     "data": {
      "image/png": "[encoded data removed]",
      "text/plain": [
       "<Figure size 432x288 with 2 Axes>"
      ]
     },
     "metadata": {},
     "output_type": "display_data"
    }
   ],
   "source": [
    "metric_visualization(y2_test, y2_reglog_pred)"
   ]
  },
  {
   "attachments": {},
   "cell_type": "markdown",
   "metadata": {},
   "source": [
    "#### <span style =' color:#FCA311'> 2.3.3.3 *Naive Bayes Multinomial*\n",
    "\n",
    "#### <span style =' color:#FCA311'> 2.3.3.3 *Naive Bayes Multinomial*\n"
   ]
  },
  {
   "cell_type": "code",
   "execution_count": 236,
   "metadata": {},
   "outputs": [],
   "source": [
    "#Texto vetorizado com bag of words\n",
    "\n",
    "#bag-of-words vectorized text\n",
    "from sklearn.naive_bayes import MultinomialNB"
   ]
  },
  {
   "cell_type": "code",
   "execution_count": 237,
   "metadata": {},
   "outputs": [
    {
     "name": "stdout",
     "output_type": "stream",
     "text": [
      "Accuracy:  0.8725780941083432\n",
      "\n",
      "AUROC: 0.8700427539436828\n",
      "\n",
      "F1-Score: 0.8728053793099082\n",
      "\n",
      "Confusion Matrix:\n"
     ]
    },
    {
     "data": {
      "image/png": "[encoded data removed]",
      "text/plain": [
       "<Figure size 432x288 with 2 Axes>"
      ]
     },
     "metadata": {},
     "output_type": "display_data"
    }
   ],
   "source": [
    "nb1 = MultinomialNB()\n",
    "\n",
    "nb1.fit(X1_train.toarray(), y1_train)\n",
    "\n",
    "y1_gnb_pred = nb1.predict(X1_test.toarray())\n",
    "\n",
    "metric_visualization(y1_test, y1_gnb_pred)"
   ]
  },
  {
   "cell_type": "code",
   "execution_count": 238,
   "metadata": {},
   "outputs": [
    {
     "name": "stdout",
     "output_type": "stream",
     "text": [
      "Accuracy:  0.8726769474100435\n",
      "\n",
      "AUROC: 0.8689639858542507\n",
      "\n",
      "F1-Score: 0.8727656661052715\n",
      "\n",
      "Confusion Matrix:\n"
     ]
    },
    {
     "data": {
      "image/png": "[encoded data removed]",
      "text/plain": [
       "<Figure size 432x288 with 2 Axes>"
      ]
     },
     "metadata": {},
     "output_type": "display_data"
    }
   ],
   "source": [
    "#Texto vetorizado com tf-idf\n",
    "\n",
    "#tf-idf vectorized text\n",
    "nb2 = MultinomialNB()\n",
    "\n",
    "nb2.fit(X2_train.toarray(), y2_train)\n",
    "\n",
    "y2_gnb_pred = nb2.predict(X2_test.toarray())\n",
    "\n",
    "metric_visualization(y2_test, y2_gnb_pred)\n"
   ]
  },
  {
   "attachments": {},
   "cell_type": "markdown",
   "metadata": {},
   "source": [
    "#### <span style =' color:#FCA311'> 2.3.3.4 *Floresta Aleatória*\n",
    "\n",
    "#### <span style =' color:#FCA311'> 2.3.3.4 *Floresta Aleatória*\n"
   ]
  },
  {
   "cell_type": "code",
   "execution_count": 239,
   "metadata": {},
   "outputs": [],
   "source": [
    "from sklearn.ensemble import RandomForestClassifier"
   ]
  },
  {
   "cell_type": "code",
   "execution_count": 240,
   "metadata": {},
   "outputs": [
    {
     "name": "stdout",
     "output_type": "stream",
     "text": [
      "Accuracy:  0.8740608936338474\n",
      "\n",
      "AUROC: 0.8717458133350806\n",
      "\n",
      "F1-Score: 0.8743042181477181\n",
      "\n",
      "Confusion Matrix:\n"
     ]
    },
    {
     "data": {
      "image/png": "[encoded data removed]",
      "text/plain": [
       "<Figure size 432x288 with 2 Axes>"
      ]
     },
     "metadata": {},
     "output_type": "display_data"
    }
   ],
   "source": [
    "#Texto vetorizado com bag of words\n",
    "\n",
    "#bag-of-words vectorized text\n",
    "rf1 = RandomForestClassifier()\n",
    "\n",
    "rf1.fit(X1_train, y1_train)\n",
    "\n",
    "y1_dt_pred = rf1.predict(X1_test)\n",
    "\n",
    "metric_visualization(y1_test, y1_dt_pred)"
   ]
  },
  {
   "cell_type": "code",
   "execution_count": 241,
   "metadata": {},
   "outputs": [
    {
     "name": "stdout",
     "output_type": "stream",
     "text": [
      "Accuracy:  0.8722815342032424\n",
      "\n",
      "AUROC: 0.8704670172162433\n",
      "\n",
      "F1-Score: 0.8725898708353709\n",
      "\n",
      "Confusion Matrix:\n"
     ]
    },
    {
     "data": {
      "image/png": "[encoded data removed]",
      "text/plain": [
       "<Figure size 432x288 with 2 Axes>"
      ]
     },
     "metadata": {},
     "output_type": "display_data"
    }
   ],
   "source": [
    "#Texto vetorizado com tf-idf\n",
    "\n",
    "#tf-idf vectorized text\n",
    "rf2 = RandomForestClassifier()\n",
    "\n",
    "rf2.fit(X2_train, y2_train)\n",
    "\n",
    "y2_dt_pred = rf2.predict(X2_test)\n",
    "\n",
    "metric_visualization(y2_test, y2_dt_pred)"
   ]
  },
  {
   "attachments": {},
   "cell_type": "markdown",
   "metadata": {},
   "source": [
    "#### <span style =' color:#FCA311'> 2.3.4 *Conclusão - avaiação de modelos*\n",
    "##### Mesmo com uma pequena diferença de desempenho entre os metódos de extração de parâmetros, a regressão logística com td-idf apresenta melhores métricas\n",
    "#### <span style =' color:#FCA311'> 2.3.4 *Conclusion - model evaluation*\n",
    "##### Even with a small performance difference between the feature extraction models, the logistical regression associated with td-idf method presents better performance metrics"
   ]
  },
  {
   "attachments": {},
   "cell_type": "markdown",
   "metadata": {},
   "source": [
    "#### <span style =' color:#FCA311'> 2.3.5 *Prevendo sentimento de novas avaliações*\n",
    "\n",
    "#### <span style =' color:#FCA311'> 2.3.5 *Predicting sentiment for new reviews*\n"
   ]
  },
  {
   "cell_type": "code",
   "execution_count": 244,
   "metadata": {},
   "outputs": [
    {
     "name": "stdout",
     "output_type": "stream",
     "text": [
      "This is a negative review.\n",
      "This is a negative review.\n",
      "This is a positive review.\n",
      "This is a positive review.\n"
     ]
    }
   ],
   "source": [
    "def sentiment(texto):\n",
    "\n",
    "  vector_text = tfidf_vect.transform([texto])\n",
    "  pred = reglog2.predict(vector_text)\n",
    "\n",
    "  if pred == 0:\n",
    "    print(\"This is a negative review.\")\n",
    "  else:\n",
    "    print(\"This is a positive review.\")\n",
    "    \n",
    "new_reviews = ['Demorou demais não gostei','Produto recebido é horrível', 'Gostei muito', 'bom demais']\n",
    "#new_reviews = ['Delivery took too long didn't like it', 'Product is terrible', 'I really liked it', 'very good']\n",
    "\n",
    "for rev in new_reviews:\n",
    "\n",
    "    sentiment(rev)"
   ]
  }
 ],
 "metadata": {
  "kernelspec": {
   "display_name": "Python 3.10.5 64-bit",
   "language": "python",
   "name": "python3"
  },
  "language_info": {
   "codemirror_mode": {
    "name": "ipython",
    "version": 3
   },
   "file_extension": ".py",
   "mimetype": "text/x-python",
   "name": "python",
   "nbconvert_exporter": "python",
   "pygments_lexer": "ipython3",
   "version": "3.10.5"
  },
  "orig_nbformat": 4,
  "vscode": {
   "interpreter": {
    "hash": "45d5e5a50b53a70c70bb0ae5279e1f9d57fd706a8fe6d56c029ec465ab606d56"
   }
  }
 },
 "nbformat": 4,
 "nbformat_minor": 2
}
